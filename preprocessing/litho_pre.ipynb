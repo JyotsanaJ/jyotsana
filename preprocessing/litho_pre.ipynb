{
 "cells": [
  {
   "cell_type": "code",
   "execution_count": null,
   "metadata": {},
   "outputs": [],
   "source": [
    "# import re\n",
    "# import os\n",
    "# import json\n",
    "# def process_spam(body):\n",
    "#     body_pp = body.lower()\n",
    "#     body_pp = body_pp.replace(\"subject\", \"\")\n",
    "#     body_pp = body_pp.replace(\"nbsp\", \" \")\n",
    "#     body_pp = re.sub(r\"<[^<>]+>\", \" html \", body_pp)\n",
    "#     body_pp = re.sub(r\"[0-9]+\", \" number \", body_pp)\n",
    "#     body_pp = re.sub(r\"(http|https)://[^\\s]*\", ' httpaddr ', body_pp)\n",
    "#     body_pp = re.sub(r\"[^\\s]+@[^\\s]+\", ' emailaddr ', body_pp)\n",
    "#     body_pp = re.sub(r\"[$]+\", ' dollar ', body_pp)\n",
    "#     body_pp = re.sub(r\"[^a-zA-Z0-9]\",' ', body_pp)\n",
    "#     return body_pp"
   ]
  },
  {
   "cell_type": "code",
   "execution_count": null,
   "metadata": {},
   "outputs": [],
   "source": [
    "# with open(\"lithosphere.spam1.csv\", \"w\") as fpw:\n",
    "#     fpw.write(\"messageId_@_threadId_@_parentId_@_subject_@_body_@_language_@_nodeStyle_@_userRank_@_tags_@_labels_@_spam_@_spamMarkUser_@_notMarkedAsSpam_@_uri\\n\")\n",
    "#     with open(\"lithosphere.prod_spam_tag_labels.json\") as fpr:\n",
    "#         for line in fpr:\n",
    "#             row = json.loads(line)\n",
    "#             #print()\n",
    "#             subject = process_spam(row['subject'])#normalize_document(row['subject'])\n",
    "#             body = process_spam(row['body'])#normalize_document(row['body'])\n",
    "#             lang = row[\"language\"]\n",
    "#             fpw.write(\"{}_@_{}_@_{}_@_{}_@_{}_@_{}_@_{}_@_{}_@_{}_@_{}_@_{}_@_{}_@_{}_@_{}\\n\".format(row['messageId'],\n",
    "#                                                              row['threadId'],\n",
    "#                                                              row['parentId'],\n",
    "#                                                              subject,\n",
    "#                                                              body,\n",
    "#                                                              lang,\n",
    "#                                                              row['nodeStyle'].strip(\"\\n\"),\n",
    "#                                                              row['userRank'],\n",
    "#                                                              row['tags'],\n",
    "#                                                              row['labels'],\n",
    "#                                                              row['spam'],\n",
    "#                                                              row['spamMarkUser'],\n",
    "#                                                              row['notMarkedAsSpam'],\n",
    "#                                                              row['uri']\n",
    "#                                                             ))"
   ]
  },
  {
   "cell_type": "code",
   "execution_count": null,
   "metadata": {},
   "outputs": [],
   "source": [
    "import pandas as pd\n",
    "import numpy as np\n",
    "import seaborn as sn\n",
    "import matplotlib.pyplot as plt\n",
    "import wordcloud"
   ]
  },
  {
   "cell_type": "code",
   "execution_count": null,
   "metadata": {},
   "outputs": [],
   "source": [
    "with open(\"lithosphere.prod_spam_tag_labels.json\") as fpr:\n",
    "    print(fpr.readline())"
   ]
  },
  {
   "cell_type": "code",
   "execution_count": null,
   "metadata": {},
   "outputs": [],
   "source": [
    "col_list = [\"messageId\",\"threadId\",\"parentId\",\"creationTime\",\"subject\",\"body\",\"language\",\"nodePath\",\"nodeStyle\",\"userId\",\"userRank\",\"tags\",\"labels\",\"spam\",\"spamMarkUser\",\"notMarkedAsSpam\",\"uri\"]\n",
    "# df1 = pd.read_json('lithosphere.prod_spam_tag_labels.json',lines = True)\n",
    "# df1.to_csv('lithosphere.spam2.csv') "
   ]
  },
  {
   "cell_type": "code",
   "execution_count": null,
   "metadata": {},
   "outputs": [],
   "source": [
    "original_data = pd.read_csv(\"lithosphere.spam2.csv\", usecols=col_list)"
   ]
  },
  {
   "cell_type": "code",
   "execution_count": null,
   "metadata": {},
   "outputs": [],
   "source": [
    "df=original_data.drop(columns=[\"nodePath\",\"uri\"])"
   ]
  },
  {
   "cell_type": "code",
   "execution_count": null,
   "metadata": {},
   "outputs": [],
   "source": [
    "df1 = df.select_dtypes(include=[bool])\n",
    "booleanDictionary = {True: 'TRUE', False: 'FALSE'}\n",
    "\n",
    "for column in df1:\n",
    "    df[column] = df[column].map(booleanDictionary)"
   ]
  },
  {
   "cell_type": "code",
   "execution_count": null,
   "metadata": {},
   "outputs": [],
   "source": [
    "print(df.groupby('spam').describe())\n",
    "print('----------------------------------------------------------')\n",
    "print(df.info())"
   ]
  },
  {
   "cell_type": "code",
   "execution_count": null,
   "metadata": {},
   "outputs": [],
   "source": [
    "df.head()"
   ]
  },
  {
   "cell_type": "markdown",
   "metadata": {},
   "source": [
    "# Spam vs Ham"
   ]
  },
  {
   "cell_type": "code",
   "execution_count": null,
   "metadata": {},
   "outputs": [],
   "source": [
    "print(df['spam'].value_counts())\n",
    "sn.catplot(x=\"spam\", kind=\"count\",palette=\"pastel\", edgecolor=\".6\",data=df,height=5,aspect=1)"
   ]
  },
  {
   "cell_type": "markdown",
   "metadata": {},
   "source": [
    "# Automatic vs moderator"
   ]
  },
  {
   "cell_type": "code",
   "execution_count": null,
   "metadata": {},
   "outputs": [],
   "source": [
    "print(df['notMarkedAsSpam'].value_counts())\n",
    "sn.catplot(x=\"notMarkedAsSpam\", kind=\"count\",palette=\"muted\", edgecolor=\".6\",data=df,height=5,aspect=1)"
   ]
  },
  {
   "cell_type": "markdown",
   "metadata": {},
   "source": [
    "## Entries with the error"
   ]
  },
  {
   "cell_type": "code",
   "execution_count": null,
   "metadata": {},
   "outputs": [],
   "source": [
    "dataModerated=df[df.notMarkedAsSpam != 'FALSE']\n",
    "dataModerated"
   ]
  },
  {
   "cell_type": "code",
   "execution_count": null,
   "metadata": {},
   "outputs": [],
   "source": [
    "print('-----------------------language-----------------------------------')\n",
    "print(df['language'].value_counts())\n",
    "print('--------------------------nodeStyle--------------------------------')\n",
    "print(df['nodeStyle'].value_counts())\n",
    "print('---------------------------userRank-------------------------------')\n",
    "print(df['userRank'].value_counts().shape)\n",
    "# print(df['userRank'].value_counts())\n",
    "print('---------------------------tags-------------------------------')\n",
    "print(df['tags'].value_counts().shape)\n",
    "# print(df['tags'].value_counts())\n",
    "print('----------------------------labels------------------------------')\n",
    "print(df['labels'].value_counts().shape)\n",
    "# print(df['labels'].value_counts())"
   ]
  },
  {
   "cell_type": "code",
   "execution_count": null,
   "metadata": {},
   "outputs": [],
   "source": [
    "def tidy_split(df, column, sep=',', keep=False):\n",
    "    indexes = list()\n",
    "    new_values = list()\n",
    "    df = df.dropna(subset=[column])\n",
    "    for i, presplit in enumerate(df[column].astype(str)):\n",
    "        presplit=presplit.replace(\"[\",\"\").replace(\"]\",\"\")\n",
    "        values = presplit.split(sep)\n",
    "        if keep and len(values) > 1:\n",
    "            indexes.append(i)\n",
    "            new_values.append(presplit)\n",
    "        for value in values:\n",
    "            indexes.append(i)\n",
    "            new_values.append(value)\n",
    "    new_df = df.iloc[indexes, :].copy()\n",
    "    new_df[column] = new_values\n",
    "    return new_df"
   ]
  },
  {
   "cell_type": "code",
   "execution_count": null,
   "metadata": {},
   "outputs": [],
   "source": [
    "df_split_label=tidy_split(df,\"labels\",',',False)\n",
    "df_split_tags=tidy_split(df,\"tags\",',',False)"
   ]
  },
  {
   "cell_type": "markdown",
   "metadata": {},
   "source": [
    "## Check the spam count for NaN tags and labels"
   ]
  },
  {
   "cell_type": "code",
   "execution_count": null,
   "metadata": {},
   "outputs": [],
   "source": [
    "null_tags=df[pd.isnull(df[\"tags\"])]\n",
    "null_tags[\"spam\"].value_counts()"
   ]
  },
  {
   "cell_type": "code",
   "execution_count": null,
   "metadata": {},
   "outputs": [],
   "source": [
    "null_label=df[pd.isnull(df[\"labels\"])]\n",
    "null_label[\"spam\"].value_counts()"
   ]
  },
  {
   "cell_type": "markdown",
   "metadata": {},
   "source": [
    "## Plot Spam count for top 30 tags"
   ]
  },
  {
   "cell_type": "code",
   "execution_count": null,
   "metadata": {},
   "outputs": [],
   "source": [
    "plt.figure(figsize=(10,5))\n",
    "df_spam=pd.DataFrame(df_split_tags.groupby('spam').get_group('TRUE'))\n",
    "tempDf=df_spam['tags'].value_counts(sort=True)[:30]\n",
    "chart = sn.barplot(tempDf.index, tempDf.values, alpha=0.8, color = \"g\")\n",
    "plt.xticks(rotation=90)"
   ]
  },
  {
   "cell_type": "markdown",
   "metadata": {},
   "source": [
    "## Plot Ham count for top 30 labels"
   ]
  },
  {
   "cell_type": "code",
   "execution_count": null,
   "metadata": {},
   "outputs": [],
   "source": [
    "plt.figure(figsize=(10,5))\n",
    "df_spam=pd.DataFrame(df_split_label.groupby('spam').get_group('FALSE'))\n",
    "tempDf=df_spam['labels'].value_counts(sort=True)[:30]\n",
    "chart = sn.barplot(tempDf.index, tempDf.values, alpha=0.8, color = \"r\")\n",
    "plt.xticks(rotation=90)"
   ]
  },
  {
   "cell_type": "code",
   "execution_count": null,
   "metadata": {},
   "outputs": [],
   "source": [
    "labels = ['Self-employed', 'Works at tech company', 'Has a tech role in non-tech company', 'Has a non-tech role at a non-tech company']\n",
    "sizes = [data['Are you self-employed?'].value_counts()[1],\n",
    "         data['Is your employer primarily a tech company/organization?'].value_counts()[1],\n",
    "         data['Is your primary role within your company related to tech/IT?'].value_counts()[1],\n",
    "         data['Is your primary role within your company related to tech/IT?'].value_counts()[0]\n",
    "        ]\n",
    "# print(sizes) # adds up to 1433, which is the total number of participants\n",
    "fig1, ax1 = plt.subplots()\n",
    "ax1.pie(sizes, labels=labels, autopct='%1.1f%%', shadow=True)\n",
    "ax1.axis('equal')\n",
    "plt.show()"
   ]
  },
  {
   "cell_type": "markdown",
   "metadata": {},
   "source": [
    "## Plot Spam per user count"
   ]
  },
  {
   "cell_type": "code",
   "execution_count": null,
   "metadata": {},
   "outputs": [],
   "source": [
    "df_user_spam=pd.DataFrame(df.groupby('spam').get_group('TRUE'))\n",
    "sn.catplot(x=\"userRank\",kind=\"count\",palette=\"pastel\", edgecolor=\".6\", data=df_user_spam, height=5, aspect=1.5)\n",
    "plt.xticks(rotation=90)"
   ]
  },
  {
   "cell_type": "markdown",
   "metadata": {},
   "source": [
    "## Plot Spam per spamMarkUser"
   ]
  },
  {
   "cell_type": "code",
   "execution_count": null,
   "metadata": {},
   "outputs": [],
   "source": [
    "df[\"spamMarkUser\"].value_counts()"
   ]
  },
  {
   "cell_type": "markdown",
   "metadata": {},
   "source": [
    "## Plot spam count for every nodeStyle"
   ]
  },
  {
   "cell_type": "code",
   "execution_count": null,
   "metadata": {},
   "outputs": [],
   "source": [
    "df_style_spam=pd.DataFrame(df.groupby('spam').get_group('TRUE'))\n",
    "sn.catplot(x=\"nodeStyle\",kind=\"count\",palette=\"pastel\", edgecolor=\".6\", data=df_style_spam, height=5, aspect=1.5)\n",
    "plt.xticks(rotation=90)"
   ]
  },
  {
   "cell_type": "markdown",
   "metadata": {},
   "source": [
    "## Check spam if body is empty"
   ]
  },
  {
   "cell_type": "code",
   "execution_count": null,
   "metadata": {},
   "outputs": [],
   "source": [
    "null_body=df[pd.isnull(df[\"body\"])]\n",
    "null_body[\"spam\"].value_counts()\n",
    "null_body.head()"
   ]
  },
  {
   "cell_type": "code",
   "execution_count": null,
   "metadata": {},
   "outputs": [],
   "source": [
    "df['subject_length'] = df['subject'].apply(len)\n",
    "df.head()"
   ]
  },
  {
   "cell_type": "code",
   "execution_count": null,
   "metadata": {},
   "outputs": [],
   "source": [
    "plt.rcParams['patch.force_edgecolor'] = True\n",
    "plt.style.use('seaborn-bright')\n",
    "df.hist(column='subject_length', by='spam', bins=50,figsize=(11,5))"
   ]
  },
  {
   "cell_type": "code",
   "execution_count": null,
   "metadata": {},
   "outputs": [],
   "source": [
    "df_nonNull_body = df.dropna(subset=['body'])\n",
    "df_nonNull_body['body_length'] = df_nonNull_body['body'].apply(len)\n",
    "df_nonNull_body.head()"
   ]
  },
  {
   "cell_type": "code",
   "execution_count": null,
   "metadata": {},
   "outputs": [],
   "source": [
    "plt.rcParams['patch.force_edgecolor'] = True\n",
    "plt.style.use('seaborn-bright')\n",
    "df_nonNull_body.hist(column='body_length', by='spam', bins=50,figsize=(11,5))"
   ]
  },
  {
   "cell_type": "markdown",
   "metadata": {},
   "source": [
    "## Wordcloud"
   ]
  },
  {
   "cell_type": "code",
   "execution_count": null,
   "metadata": {},
   "outputs": [],
   "source": [
    "wordcloud.STOPWORDS"
   ]
  },
  {
   "cell_type": "code",
   "execution_count": null,
   "metadata": {},
   "outputs": [],
   "source": [
    "def show_wordcloud(data_spam_or_ham, title):\n",
    "    text = ' '.join(data_spam_or_ham['body'].astype(str).tolist())\n",
    "    stopwords = set(wordcloud.STOPWORDS)\n",
    "    \n",
    "    fig_wordcloud = wordcloud.WordCloud(stopwords=stopwords,background_color='lightgrey',\n",
    "                    colormap='viridis', width=800, height=600).generate(text)\n",
    "    \n",
    "    plt.figure(figsize=(10,7), frameon=True)\n",
    "    plt.imshow(fig_wordcloud)  \n",
    "    plt.axis('off')\n",
    "    plt.title(title, fontsize=20 )\n",
    "    plt.show()"
   ]
  },
  {
   "cell_type": "code",
   "execution_count": null,
   "metadata": {},
   "outputs": [],
   "source": [
    "show_wordcloud(pd.DataFrame(df.groupby('spam').get_group('TRUE')), \"Spam messages\")"
   ]
  },
  {
   "cell_type": "markdown",
   "metadata": {},
   "source": [
    "## Preprocessing"
   ]
  },
  {
   "cell_type": "code",
   "execution_count": null,
   "metadata": {},
   "outputs": [],
   "source": [
    "from nltk.corpus import stopwords\n",
    "import string\n",
    "from collections import Counter"
   ]
  },
  {
   "cell_type": "code",
   "execution_count": null,
   "metadata": {},
   "outputs": [],
   "source": [
    "def remove_punctuation_and_stopwords(sms):\n",
    "    \n",
    "    sms_no_punctuation = [ch for ch in sms if ch not in string.punctuation]\n",
    "    sms_no_punctuation = \"\".join(sms_no_punctuation).split()\n",
    "    \n",
    "    sms_no_punctuation_no_stopwords = \\\n",
    "        [word.lower() for word in sms_no_punctuation if word.lower() not in stopwords.words(\"english\")]\n",
    "        \n",
    "    return sms_no_punctuation_no_stopwords"
   ]
  },
  {
   "cell_type": "code",
   "execution_count": null,
   "metadata": {},
   "outputs": [],
   "source": [
    "list_spam_words = []\n",
    "for sublist in words_data_spam:\n",
    "    for item in sublist:\n",
    "        list_spam_words.append(item)"
   ]
  },
  {
   "cell_type": "code",
   "execution_count": null,
   "metadata": {},
   "outputs": [],
   "source": [
    "c_spam = Counter(list_spam_words)\n",
    "fig, ax = plt.subplots(figsize=(10, 6))\n",
    "sns.barplot(x='word', y='count', \n",
    "            data=df_spamwords_top30, ax=ax)\n",
    "plt.title(\"Top 30 Spam words\")\n",
    "plt.xticks(rotation='vertical');"
   ]
  }
 ],
 "metadata": {
  "kernelspec": {
   "display_name": "Python 3",
   "language": "python",
   "name": "python3"
  },
  "language_info": {
   "codemirror_mode": {
    "name": "ipython",
    "version": 3
   },
   "file_extension": ".py",
   "mimetype": "text/x-python",
   "name": "python",
   "nbconvert_exporter": "python",
   "pygments_lexer": "ipython3",
   "version": "3.7.7"
  }
 },
 "nbformat": 4,
 "nbformat_minor": 4
}
