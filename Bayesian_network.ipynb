{
 "cells": [
  {
   "cell_type": "markdown",
   "metadata": {},
   "source": [
    "<center><h2>Artificial and Computational Intelligence (Assignment - 2)</h2></center>"
   ]
  },
  {
   "cell_type": "markdown",
   "metadata": {},
   "source": [
    "## Problem Statement\n",
    "\n",
    "As part of the 2nd Assignment, we'll implement Bayesian Networks and also learn to use the pomegranate library.\n",
    "\n",
    "You are required to create a bayesian network model which would help you predict the probability. The detailed problem description is attached as a PDF as a part of this assignment along with the marking scheme.  \n",
    "\n",
    "### What is a Bayesian Network ?\n",
    "\n",
    "A Bayesian network, Bayes network, belief network, decision network, Bayes(ian) model or probabilistic directed acyclic graphical model is a probabilistic graphical model (a type of statistical model) that represents a set of variables and their conditional dependencies via a directed acyclic graph (DAG). \n",
    "\n",
    "Bayesian networks are ideal for taking an event that occurred and predicting the likelihood that any one of several possible known causes was the contributing factor. For example, a Bayesian network could represent the probabilistic relationships between diseases and symptoms. Given symptoms, the network can be used to compute the probabilities of the presence of various diseases. \n",
    "\n",
    "### Dataset\n",
    "\n",
    "The dataset can be downloaded from https://drive.google.com/drive/folders/1oMtKmmvPkN4O8DmrHMJe6M8CbB93Z5kw .You can access it only using your BITS IDs. Also, the same dataset is attached along with the assignment. \n",
    "\n",
    "#### Dataset Description\n",
    "##### Sample Tuple\n",
    "\n",
    "Y\twon\t5wickets\tlost\t2nd\tvWest_Indies\tHome\t6-Nov-11\n",
    "\n",
    "##### Explanation\n",
    "- The first column represents if Ashwin was in the playing 11 or not. \n",
    "- The second column represents the Result of the match . win indicates India won the match.\n",
    "- The third column represents the Margin of victory / losss.\n",
    "- The fourth column represents the results of the toss. won indicates India won the toss. \n",
    "- The fifth column represents the batting order. If India batted 1st or 2nd. \n",
    "- The sixth column represents the opponent.\n",
    "- The seventh column represents the location of the match. If the match was held in Home(India) or away. \n",
    "- The last column represents the start date of the match.\n",
    "\n",
    "\n",
    "### Evaluation\n",
    "We wish to evaluate based on \n",
    "- coding practices being followed\n",
    "- commenting to explain the code and logic behind doing something\n",
    "- your understanding and explanation of data\n",
    "- how good the model would perform"
   ]
  },
  {
   "cell_type": "code",
   "execution_count": 2,
   "metadata": {},
   "outputs": [],
   "source": [
    "# 2018ab04535 , Nitesh\n",
    "# 2018ab04542 , JYOTSANA\n",
    "# 2018ab04701, KRATIKA GUPTA"
   ]
  },
  {
   "cell_type": "code",
   "execution_count": 3,
   "metadata": {},
   "outputs": [],
   "source": [
    "#Import libraries\n",
    "import math\n",
    "import pandas as pd\n",
    "from pomegranate import *"
   ]
  },
  {
   "cell_type": "code",
   "execution_count": 4,
   "metadata": {},
   "outputs": [],
   "source": [
    "df = pd.read_excel('India_Test_Stats.xlsx')"
   ]
  },
  {
   "cell_type": "code",
   "execution_count": 5,
   "metadata": {},
   "outputs": [
    {
     "name": "stdout",
     "output_type": "stream",
     "text": [
      "       Ashwin Result Margin  Toss  Bat   Opposition Location  \\\n",
      "count      85     85     85    85   85           85       85   \n",
      "unique      2      3     61     2    2            8        2   \n",
      "top         Y    won      -  lost  1st  v Australia     Home   \n",
      "freq       70     47     16    45   46           20       43   \n",
      "first     NaN    NaN    NaN   NaN  NaN          NaN      NaN   \n",
      "last      NaN    NaN    NaN   NaN  NaN          NaN      NaN   \n",
      "\n",
      "                 Start Date  \n",
      "count                    85  \n",
      "unique                   85  \n",
      "top     2019-11-22 00:00:00  \n",
      "freq                      1  \n",
      "first   2011-11-06 00:00:00  \n",
      "last    2019-11-22 00:00:00  \n",
      "----------------------------------------------------------\n",
      "<class 'pandas.core.frame.DataFrame'>\n",
      "RangeIndex: 85 entries, 0 to 84\n",
      "Data columns (total 8 columns):\n",
      "Ashwin        85 non-null object\n",
      "Result        85 non-null object\n",
      "Margin        85 non-null object\n",
      "Toss          85 non-null object\n",
      "Bat           85 non-null object\n",
      "Opposition    85 non-null object\n",
      "Location      85 non-null object\n",
      "Start Date    85 non-null datetime64[ns]\n",
      "dtypes: datetime64[ns](1), object(7)\n",
      "memory usage: 5.4+ KB\n",
      "None\n"
     ]
    }
   ],
   "source": [
    "df.dropna()\n",
    "print(df.describe())\n",
    "print('----------------------------------------------------------')\n",
    "print(df.info())"
   ]
  },
  {
   "cell_type": "markdown",
   "metadata": {},
   "source": [
    "#Data Description\n",
    "Columns which dependent on one another are:\n",
    "\n",
    "Location -> Ashwin playing\n",
    "Toss -> Batting\n",
    "Ashwin playing -> Result\n",
    "Batting -> Result"
   ]
  },
  {
   "cell_type": "code",
   "execution_count": 6,
   "metadata": {},
   "outputs": [],
   "source": [
    "def priorProbability (df,column):\n",
    "    prior_prob =dict()\n",
    "    total_count = df[column].unique()\n",
    "    for value in df[column].unique() : \n",
    "        prior_prob[value] = 1/len(df[column].unique())\n",
    "    return prior_prob"
   ]
  },
  {
   "cell_type": "code",
   "execution_count": 7,
   "metadata": {},
   "outputs": [],
   "source": [
    "def conditionalProbability (df, B, A): \n",
    "    totalGroupCount = df.groupby(B)[A].count()\n",
    "    dataframe = lambda g : g[A].value_counts()/len(g[A])\n",
    "    conditional_prob= df.groupby(B).apply(dataframe).reset_index()\n",
    "     \n",
    "    uniqueDependentVal = list()\n",
    "    allColumn = list()\n",
    "    allColumn = B\n",
    "    allColumn.append(str(A)) \n",
    "    for column in allColumn:\n",
    "        uniqueDependentVal.append(df[column].unique().tolist())\n",
    "    mux = pd.MultiIndex.from_product(uniqueDependentVal)\n",
    "    conditional_prob.rename(columns={conditional_prob.filter(regex='level_.*').columns[0]: A, A: \"Prob\"},inplace=True)\n",
    "    return conditional_prob.set_index(allColumn).reindex(mux, fill_value=0).reset_index().values.tolist()"
   ]
  },
  {
   "cell_type": "code",
   "execution_count": 8,
   "metadata": {},
   "outputs": [
    {
     "name": "stdout",
     "output_type": "stream",
     "text": [
      "Prior probability of Location  {'Home': 0.5, 'Away': 0.5}\n"
     ]
    }
   ],
   "source": [
    "Location = DiscreteDistribution(priorProbability(df,'Location'))\n",
    "print(\"Prior probability of Location \", Location.parameters[0])"
   ]
  },
  {
   "cell_type": "code",
   "execution_count": 9,
   "metadata": {},
   "outputs": [
    {
     "name": "stdout",
     "output_type": "stream",
     "text": [
      "Prior probability of Toss  {'lost': 0.5, 'won': 0.5}\n"
     ]
    }
   ],
   "source": [
    "Toss = DiscreteDistribution(priorProbability(df,'Toss'))\n",
    "print(\"Prior probability of Toss \",Toss.parameters[0])"
   ]
  },
  {
   "cell_type": "code",
   "execution_count": 10,
   "metadata": {},
   "outputs": [
    {
     "name": "stdout",
     "output_type": "stream",
     "text": [
      "Conditional probability of Location on Ashwin playing  [['Home', 'Y', 1.0], ['Home', 'N', 0.0], ['Away', 'Y', 0.6428571428571429], ['Away', 'N', 0.35714285714285715]]\n"
     ]
    }
   ],
   "source": [
    "AshwinPlaying = ConditionalProbabilityTable(conditionalProbability(df,['Location'],'Ashwin'),[Location])\n",
    "print(\"Conditional probability of Location on Ashwin playing \",AshwinPlaying.parameters[0])"
   ]
  },
  {
   "cell_type": "code",
   "execution_count": 11,
   "metadata": {},
   "outputs": [
    {
     "name": "stdout",
     "output_type": "stream",
     "text": [
      "Conditional probability of Toss on Batting order  [['lost', '2nd', 0.7777777777777778], ['lost', '1st', 0.2222222222222222], ['won', '2nd', 0.1], ['won', '1st', 0.9]]\n"
     ]
    }
   ],
   "source": [
    "Batting = ConditionalProbabilityTable(conditionalProbability(df,['Toss'],'Bat'),[Toss])\n",
    "print(\"Conditional probability of Toss on Batting order \",Batting.parameters[0])"
   ]
  },
  {
   "cell_type": "code",
   "execution_count": 12,
   "metadata": {},
   "outputs": [
    {
     "name": "stdout",
     "output_type": "stream",
     "text": [
      "Conditional probability of Toss and Ashwin playing on Match's result  [['2nd', 'Y', 'won', 0.48484848484848486], ['2nd', 'Y', 'draw', 0.2727272727272727], ['2nd', 'Y', 'lost', 0.24242424242424243], ['2nd', 'N', 'won', 0.0], ['2nd', 'N', 'draw', 0.16666666666666666], ['2nd', 'N', 'lost', 0.8333333333333334], ['1st', 'Y', 'won', 0.7027027027027027], ['1st', 'Y', 'draw', 0.10810810810810811], ['1st', 'Y', 'lost', 0.1891891891891892], ['1st', 'N', 'won', 0.5555555555555556], ['1st', 'N', 'draw', 0.2222222222222222], ['1st', 'N', 'lost', 0.2222222222222222]]\n"
     ]
    }
   ],
   "source": [
    "Result = ConditionalProbabilityTable(conditionalProbability(df,['Bat', 'Ashwin'],'Result'),[Batting,AshwinPlaying])\n",
    "print(\"Conditional probability of Toss and Ashwin playing on Match's result \",Result.parameters[0])"
   ]
  },
  {
   "cell_type": "code",
   "execution_count": 13,
   "metadata": {},
   "outputs": [],
   "source": [
    "d1 = State(Location, name=\"location\")\n",
    "d2 = State(Toss, name=\"toss\")\n",
    "d3 = State(AshwinPlaying, name=\"ashwinPlaying\")\n",
    "d4 = State(Batting, name=\"bating\")\n",
    "d5 = State(Result, name=\"result\")"
   ]
  },
  {
   "cell_type": "code",
   "execution_count": 14,
   "metadata": {},
   "outputs": [],
   "source": [
    "# Building the Bayesian Network\n",
    "network = BayesianNetwork(\"Solving the ashwin selection probelm With Bayesian Networks\")\n",
    "network.add_states(d1, d2, d3,d4,d5)\n",
    "network.add_edge(d1, d3)\n",
    "network.add_edge(d2, d4)\n",
    "network.add_edge(d4, d5)\n",
    "network.add_edge(d3, d5)\n",
    "network.bake()"
   ]
  },
  {
   "cell_type": "code",
   "execution_count": 15,
   "metadata": {},
   "outputs": [
    {
     "name": "stdout",
     "output_type": "stream",
     "text": [
      "P(result=Won|bat=2nd,ashwinPlaying='Y') 0.48484848484848475\n"
     ]
    }
   ],
   "source": [
    "#a.India winning, batting 2nd, Ashwin playing, given match happening in new New Zealand (location:Away)\n",
    "beliefs = network.predict_proba({'location':'Away','bating': '2nd','ashwinPlaying':'Y'})\n",
    "print(\"P(result=Won|bat=2nd,ashwinPlaying='Y') \"+ str(beliefs[4].parameters[0]['won']))"
   ]
  },
  {
   "cell_type": "code",
   "execution_count": 16,
   "metadata": {},
   "outputs": [
    {
     "name": "stdout",
     "output_type": "stream",
     "text": [
      "P(result=Won|bat=2nd,ashwinPlaying='N') 0.0\n"
     ]
    }
   ],
   "source": [
    "#b. India winning, batting 2nd, Ashwin not playing, given match happening in new New Zealand (location:Away)\n",
    "beliefs = network.predict_proba({'location':'Away','bating': '2nd','ashwinPlaying':'N'})\n",
    "print(\"P(result=Won|bat=2nd,ashwinPlaying='N') \"+ str(beliefs[4].parameters[0]['won']))"
   ]
  },
  {
   "cell_type": "code",
   "execution_count": 17,
   "metadata": {},
   "outputs": [
    {
     "name": "stdout",
     "output_type": "stream",
     "text": [
      "P(result=Lost|bat=2nd,ashwinPlaying='Y') 0.24242424242424246\n"
     ]
    }
   ],
   "source": [
    "#c. India losing, batting 2nd, Ashwin playing, given match happening in new New Zealand (location:Away)\n",
    "beliefs = network.predict_proba({'location':'Away','bating': '2nd','ashwinPlaying':'Y'})\n",
    "print(\"P(result=Lost|bat=2nd,ashwinPlaying='Y') \"+ str(beliefs[4].parameters[0]['lost']))"
   ]
  },
  {
   "cell_type": "code",
   "execution_count": 18,
   "metadata": {},
   "outputs": [
    {
     "name": "stdout",
     "output_type": "stream",
     "text": [
      "P(result=Lost|bat=2nd,ashwinPlaying='N') 0.8333333333333329\n"
     ]
    }
   ],
   "source": [
    "#d. India losing, batting 2nd, Ashwin not playing, given match happening in new New Zealand (location:Away)\n",
    "beliefs = network.predict_proba({'location':'Away','bating': '2nd','ashwinPlaying':'N'})\n",
    "print(\"P(result=Lost|bat=2nd,ashwinPlaying='N') \"+ str(beliefs[4].parameters[0]['lost']))"
   ]
  },
  {
   "cell_type": "markdown",
   "metadata": {},
   "source": [
    "<h3><center> Happy Coding!</center></h3>"
   ]
  }
 ],
 "metadata": {
  "kernelspec": {
   "display_name": "Python 3",
   "language": "python",
   "name": "python3"
  },
  "language_info": {
   "codemirror_mode": {
    "name": "ipython",
    "version": 3
   },
   "file_extension": ".py",
   "mimetype": "text/x-python",
   "name": "python",
   "nbconvert_exporter": "python",
   "pygments_lexer": "ipython3",
   "version": "3.6.5"
  }
 },
 "nbformat": 4,
 "nbformat_minor": 2
}
