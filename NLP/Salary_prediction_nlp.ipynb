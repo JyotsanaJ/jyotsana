{
 "cells": [
  {
   "cell_type": "code",
   "execution_count": 1,
   "metadata": {},
   "outputs": [],
   "source": [
    "import pandas as pd\n",
    "import numpy as np\n",
    "import sklearn as sk\n",
    "\n",
    "import matplotlib.pyplot as plt\n",
    "from sklearn.feature_extraction.text import CountVectorizer, TfidfTransformer\n",
    "import re\n",
    "import seaborn as sns"
   ]
  },
  {
   "cell_type": "raw",
   "metadata": {},
   "source": [
    "[Step 1a,b,c]\n",
    "Data is obtained from the given csv file and read into a DataFrame, whihc is a tabular matrix of mxn size\n",
    "[Step 5a]\n",
    "The empty cells are replaced with NaN"
   ]
  },
  {
   "cell_type": "code",
   "execution_count": 2,
   "metadata": {},
   "outputs": [
    {
     "data": {
      "text/html": [
       "<div>\n",
       "<style scoped>\n",
       "    .dataframe tbody tr th:only-of-type {\n",
       "        vertical-align: middle;\n",
       "    }\n",
       "\n",
       "    .dataframe tbody tr th {\n",
       "        vertical-align: top;\n",
       "    }\n",
       "\n",
       "    .dataframe thead th {\n",
       "        text-align: right;\n",
       "    }\n",
       "</style>\n",
       "<table border=\"1\" class=\"dataframe\">\n",
       "  <thead>\n",
       "    <tr style=\"text-align: right;\">\n",
       "      <th></th>\n",
       "      <th>Job ID</th>\n",
       "      <th>Agency</th>\n",
       "      <th>Posting Type</th>\n",
       "      <th># Of Positions</th>\n",
       "      <th>Business Title</th>\n",
       "      <th>Civil Service Title</th>\n",
       "      <th>Title Code No</th>\n",
       "      <th>Level</th>\n",
       "      <th>Job Category</th>\n",
       "      <th>Full-Time/Part-Time indicator</th>\n",
       "      <th>...</th>\n",
       "      <th>Additional Information</th>\n",
       "      <th>To Apply</th>\n",
       "      <th>Hours/Shift</th>\n",
       "      <th>Work Location 1</th>\n",
       "      <th>Recruitment Contact</th>\n",
       "      <th>Residency Requirement</th>\n",
       "      <th>Posting Date</th>\n",
       "      <th>Post Until</th>\n",
       "      <th>Posting Updated</th>\n",
       "      <th>Process Date</th>\n",
       "    </tr>\n",
       "  </thead>\n",
       "  <tbody>\n",
       "    <tr>\n",
       "      <th>0</th>\n",
       "      <td>87990</td>\n",
       "      <td>DEPARTMENT OF BUSINESS SERV.</td>\n",
       "      <td>Internal</td>\n",
       "      <td>1</td>\n",
       "      <td>Account Manager</td>\n",
       "      <td>CONTRACT REVIEWER (OFFICE OF L</td>\n",
       "      <td>40563</td>\n",
       "      <td>1</td>\n",
       "      <td>NaN</td>\n",
       "      <td>NaN</td>\n",
       "      <td>...</td>\n",
       "      <td>Salary range for this position is: $42,405 - $...</td>\n",
       "      <td>NaN</td>\n",
       "      <td>NaN</td>\n",
       "      <td>NaN</td>\n",
       "      <td>NaN</td>\n",
       "      <td>New York City residency is generally required ...</td>\n",
       "      <td>2011-06-24T00:00:00.000</td>\n",
       "      <td>NaN</td>\n",
       "      <td>2011-06-24T00:00:00.000</td>\n",
       "      <td>2019-11-26T00:00:00.000</td>\n",
       "    </tr>\n",
       "    <tr>\n",
       "      <th>1</th>\n",
       "      <td>97899</td>\n",
       "      <td>DEPARTMENT OF BUSINESS SERV.</td>\n",
       "      <td>Internal</td>\n",
       "      <td>1</td>\n",
       "      <td>EXECUTIVE DIRECTOR, BUSINESS DEVELOPMENT</td>\n",
       "      <td>ADMINISTRATIVE BUSINESS PROMOT</td>\n",
       "      <td>10009</td>\n",
       "      <td>M3</td>\n",
       "      <td>NaN</td>\n",
       "      <td>F</td>\n",
       "      <td>...</td>\n",
       "      <td>NaN</td>\n",
       "      <td>In addition to applying through this website, ...</td>\n",
       "      <td>NaN</td>\n",
       "      <td>NaN</td>\n",
       "      <td>NaN</td>\n",
       "      <td>New York City residency is generally required ...</td>\n",
       "      <td>2012-01-26T00:00:00.000</td>\n",
       "      <td>NaN</td>\n",
       "      <td>2012-01-26T00:00:00.000</td>\n",
       "      <td>2019-11-26T00:00:00.000</td>\n",
       "    </tr>\n",
       "    <tr>\n",
       "      <th>2</th>\n",
       "      <td>132292</td>\n",
       "      <td>NYC HOUSING AUTHORITY</td>\n",
       "      <td>External</td>\n",
       "      <td>52</td>\n",
       "      <td>Maintenance Worker - Technical Services-Heatin...</td>\n",
       "      <td>MAINTENANCE WORKER</td>\n",
       "      <td>90698</td>\n",
       "      <td>0</td>\n",
       "      <td>Maintenance &amp; Operations</td>\n",
       "      <td>F</td>\n",
       "      <td>...</td>\n",
       "      <td>1.  A Motor Vehicle Driverâ€™s License valid i...</td>\n",
       "      <td>Click the \"Apply Now\" button.</td>\n",
       "      <td>NaN</td>\n",
       "      <td>NaN</td>\n",
       "      <td>NaN</td>\n",
       "      <td>NYCHA has no residency requirements.</td>\n",
       "      <td>2013-10-24T00:00:00.000</td>\n",
       "      <td>NaN</td>\n",
       "      <td>2013-12-12T00:00:00.000</td>\n",
       "      <td>2019-11-26T00:00:00.000</td>\n",
       "    </tr>\n",
       "    <tr>\n",
       "      <th>3</th>\n",
       "      <td>132292</td>\n",
       "      <td>NYC HOUSING AUTHORITY</td>\n",
       "      <td>Internal</td>\n",
       "      <td>52</td>\n",
       "      <td>Maintenance Worker - Technical Services-Heatin...</td>\n",
       "      <td>MAINTENANCE WORKER</td>\n",
       "      <td>90698</td>\n",
       "      <td>0</td>\n",
       "      <td>Maintenance &amp; Operations</td>\n",
       "      <td>F</td>\n",
       "      <td>...</td>\n",
       "      <td>1.  A Motor Vehicle Driverâ€™s License valid i...</td>\n",
       "      <td>Click the \"Apply Now\" button.</td>\n",
       "      <td>NaN</td>\n",
       "      <td>NaN</td>\n",
       "      <td>NaN</td>\n",
       "      <td>NYCHA has no residency requirements.</td>\n",
       "      <td>2013-10-24T00:00:00.000</td>\n",
       "      <td>NaN</td>\n",
       "      <td>2013-12-12T00:00:00.000</td>\n",
       "      <td>2019-11-26T00:00:00.000</td>\n",
       "    </tr>\n",
       "    <tr>\n",
       "      <th>4</th>\n",
       "      <td>133921</td>\n",
       "      <td>NYC HOUSING AUTHORITY</td>\n",
       "      <td>Internal</td>\n",
       "      <td>50</td>\n",
       "      <td>Temporary Painter</td>\n",
       "      <td>PAINTER</td>\n",
       "      <td>91830</td>\n",
       "      <td>0</td>\n",
       "      <td>Maintenance &amp; Operations</td>\n",
       "      <td>F</td>\n",
       "      <td>...</td>\n",
       "      <td>SPECIAL NOTE:    1.  This is a temporary assig...</td>\n",
       "      <td>Click the \"Apply Now\" button.</td>\n",
       "      <td>NaN</td>\n",
       "      <td>NaN</td>\n",
       "      <td>NaN</td>\n",
       "      <td>NYCHA has no residency requirement.</td>\n",
       "      <td>2014-01-09T00:00:00.000</td>\n",
       "      <td>NaN</td>\n",
       "      <td>2014-01-08T00:00:00.000</td>\n",
       "      <td>2019-11-26T00:00:00.000</td>\n",
       "    </tr>\n",
       "  </tbody>\n",
       "</table>\n",
       "<p>5 rows × 28 columns</p>\n",
       "</div>"
      ],
      "text/plain": [
       "   Job ID                        Agency Posting Type  # Of Positions  \\\n",
       "0   87990  DEPARTMENT OF BUSINESS SERV.     Internal               1   \n",
       "1   97899  DEPARTMENT OF BUSINESS SERV.     Internal               1   \n",
       "2  132292         NYC HOUSING AUTHORITY     External              52   \n",
       "3  132292         NYC HOUSING AUTHORITY     Internal              52   \n",
       "4  133921         NYC HOUSING AUTHORITY     Internal              50   \n",
       "\n",
       "                                      Business Title  \\\n",
       "0                                    Account Manager   \n",
       "1           EXECUTIVE DIRECTOR, BUSINESS DEVELOPMENT   \n",
       "2  Maintenance Worker - Technical Services-Heatin...   \n",
       "3  Maintenance Worker - Technical Services-Heatin...   \n",
       "4                                  Temporary Painter   \n",
       "\n",
       "              Civil Service Title Title Code No Level  \\\n",
       "0  CONTRACT REVIEWER (OFFICE OF L         40563     1   \n",
       "1  ADMINISTRATIVE BUSINESS PROMOT         10009    M3   \n",
       "2              MAINTENANCE WORKER         90698     0   \n",
       "3              MAINTENANCE WORKER         90698     0   \n",
       "4                         PAINTER         91830     0   \n",
       "\n",
       "               Job Category Full-Time/Part-Time indicator  ...  \\\n",
       "0                       NaN                           NaN  ...   \n",
       "1                       NaN                             F  ...   \n",
       "2  Maintenance & Operations                             F  ...   \n",
       "3  Maintenance & Operations                             F  ...   \n",
       "4  Maintenance & Operations                             F  ...   \n",
       "\n",
       "                              Additional Information  \\\n",
       "0  Salary range for this position is: $42,405 - $...   \n",
       "1                                                NaN   \n",
       "2  1.  A Motor Vehicle Driverâ€™s License valid i...   \n",
       "3  1.  A Motor Vehicle Driverâ€™s License valid i...   \n",
       "4  SPECIAL NOTE:    1.  This is a temporary assig...   \n",
       "\n",
       "                                            To Apply Hours/Shift  \\\n",
       "0                                                NaN         NaN   \n",
       "1  In addition to applying through this website, ...         NaN   \n",
       "2                      Click the \"Apply Now\" button.         NaN   \n",
       "3                      Click the \"Apply Now\" button.         NaN   \n",
       "4                      Click the \"Apply Now\" button.         NaN   \n",
       "\n",
       "  Work Location 1 Recruitment Contact  \\\n",
       "0             NaN                 NaN   \n",
       "1             NaN                 NaN   \n",
       "2             NaN                 NaN   \n",
       "3             NaN                 NaN   \n",
       "4             NaN                 NaN   \n",
       "\n",
       "                               Residency Requirement             Posting Date  \\\n",
       "0  New York City residency is generally required ...  2011-06-24T00:00:00.000   \n",
       "1  New York City residency is generally required ...  2012-01-26T00:00:00.000   \n",
       "2               NYCHA has no residency requirements.  2013-10-24T00:00:00.000   \n",
       "3               NYCHA has no residency requirements.  2013-10-24T00:00:00.000   \n",
       "4                NYCHA has no residency requirement.  2014-01-09T00:00:00.000   \n",
       "\n",
       "  Post Until          Posting Updated             Process Date  \n",
       "0        NaN  2011-06-24T00:00:00.000  2019-11-26T00:00:00.000  \n",
       "1        NaN  2012-01-26T00:00:00.000  2019-11-26T00:00:00.000  \n",
       "2        NaN  2013-12-12T00:00:00.000  2019-11-26T00:00:00.000  \n",
       "3        NaN  2013-12-12T00:00:00.000  2019-11-26T00:00:00.000  \n",
       "4        NaN  2014-01-08T00:00:00.000  2019-11-26T00:00:00.000  \n",
       "\n",
       "[5 rows x 28 columns]"
      ]
     },
     "execution_count": 2,
     "metadata": {},
     "output_type": "execute_result"
    }
   ],
   "source": [
    "data = pd.read_csv(\"jobs.csv\")\n",
    "data.shape\n",
    "data.replace(' ', np.nan, inplace= True)\n",
    "df = pd.DataFrame(data)\n",
    "df.head()"
   ]
  },
  {
   "cell_type": "markdown",
   "metadata": {},
   "source": [
    "# 3. Feature selection\n",
    "We are going to use the data satisfying the following conditions.\n",
    "\n",
    "'Salary Range From' > 0\n",
    "'Salary Range To' > 0\n",
    "'Salary Frequency' = Annual\n",
    "'Job Category' !=NaN\n",
    "'Minimum Qual Requirements' != NaN\n",
    "'Preferred Skills' ! = NaN"
   ]
  },
  {
   "cell_type": "raw",
   "metadata": {},
   "source": [
    "[Step 2a]\n",
    "Required variables(columns) are: 'Salary Range From', 'Salary Range To','Job Category', 'Salary Frequency', 'Minimum Qual Requirements', 'Preferred Skills'\n",
    "[Step 3a]\n",
    "The sub questions mention specifically about the salaries, job categories, experiences and skills. We need Salary frequency (ANNUAL) in order to normalize the data to avoid outliers(dail.y, hourly). No of years of experiences is retrieved from the 'Minimum Qual Requirements' and skills from 'Preferred Skills' variable."
   ]
  },
  {
   "cell_type": "code",
   "execution_count": 3,
   "metadata": {
    "scrolled": true
   },
   "outputs": [
    {
     "name": "stdout",
     "output_type": "stream",
     "text": [
      "<class 'pandas.core.frame.DataFrame'>\n",
      "Int64Index: 2394 entries, 2 to 3019\n",
      "Data columns (total 28 columns):\n",
      "Job ID                           2394 non-null int64\n",
      "Agency                           2394 non-null object\n",
      "Posting Type                     2394 non-null object\n",
      "# Of Positions                   2394 non-null int64\n",
      "Business Title                   2394 non-null object\n",
      "Civil Service Title              2394 non-null object\n",
      "Title Code No                    2394 non-null object\n",
      "Level                            2394 non-null object\n",
      "Job Category                     2394 non-null object\n",
      "Full-Time/Part-Time indicator    2217 non-null object\n",
      "Salary Range From                2394 non-null float64\n",
      "Salary Range To                  2394 non-null float64\n",
      "Salary Frequency                 2394 non-null object\n",
      "Work Location                    2394 non-null object\n",
      "Division/Work Unit               2394 non-null object\n",
      "Job Description                  2394 non-null object\n",
      "Minimum Qual Requirements        2394 non-null object\n",
      "Preferred Skills                 2394 non-null object\n",
      "Additional Information           1410 non-null object\n",
      "To Apply                         2394 non-null object\n",
      "Hours/Shift                      747 non-null object\n",
      "Work Location 1                  1181 non-null object\n",
      "Recruitment Contact              0 non-null float64\n",
      "Residency Requirement            2394 non-null object\n",
      "Posting Date                     2394 non-null object\n",
      "Post Until                       771 non-null object\n",
      "Posting Updated                  2394 non-null object\n",
      "Process Date                     2394 non-null object\n",
      "dtypes: float64(3), int64(2), object(23)\n",
      "memory usage: 542.4+ KB\n"
     ]
    }
   ],
   "source": [
    "df = df.dropna(subset=['Salary Range From', 'Salary Range To','Job Category', 'Salary Frequency', 'Minimum Qual Requirements', 'Preferred Skills']) \n",
    "df = df[(df['Salary Frequency'] =='Annual') & (df['Salary Range From'] > 0) & (df['Salary Range To']  >0)]\n",
    "\n",
    "df.info()"
   ]
  },
  {
   "cell_type": "code",
   "execution_count": 4,
   "metadata": {},
   "outputs": [
    {
     "data": {
      "text/html": [
       "<div>\n",
       "<style scoped>\n",
       "    .dataframe tbody tr th:only-of-type {\n",
       "        vertical-align: middle;\n",
       "    }\n",
       "\n",
       "    .dataframe tbody tr th {\n",
       "        vertical-align: top;\n",
       "    }\n",
       "\n",
       "    .dataframe thead th {\n",
       "        text-align: right;\n",
       "    }\n",
       "</style>\n",
       "<table border=\"1\" class=\"dataframe\">\n",
       "  <thead>\n",
       "    <tr style=\"text-align: right;\">\n",
       "      <th></th>\n",
       "      <th>Job ID</th>\n",
       "      <th># Of Positions</th>\n",
       "      <th>Salary Range From</th>\n",
       "      <th>Salary Range To</th>\n",
       "      <th>Recruitment Contact</th>\n",
       "    </tr>\n",
       "  </thead>\n",
       "  <tbody>\n",
       "    <tr>\n",
       "      <th>count</th>\n",
       "      <td>2394.000000</td>\n",
       "      <td>2394.000000</td>\n",
       "      <td>2394.000000</td>\n",
       "      <td>2394.000000</td>\n",
       "      <td>0.0</td>\n",
       "    </tr>\n",
       "    <tr>\n",
       "      <th>mean</th>\n",
       "      <td>384479.475355</td>\n",
       "      <td>1.714703</td>\n",
       "      <td>64796.357277</td>\n",
       "      <td>94047.490192</td>\n",
       "      <td>NaN</td>\n",
       "    </tr>\n",
       "    <tr>\n",
       "      <th>std</th>\n",
       "      <td>51189.750275</td>\n",
       "      <td>3.544013</td>\n",
       "      <td>20220.252096</td>\n",
       "      <td>35789.672734</td>\n",
       "      <td>NaN</td>\n",
       "    </tr>\n",
       "    <tr>\n",
       "      <th>min</th>\n",
       "      <td>132292.000000</td>\n",
       "      <td>1.000000</td>\n",
       "      <td>26457.000000</td>\n",
       "      <td>32665.000000</td>\n",
       "      <td>NaN</td>\n",
       "    </tr>\n",
       "    <tr>\n",
       "      <th>25%</th>\n",
       "      <td>379095.000000</td>\n",
       "      <td>1.000000</td>\n",
       "      <td>52524.000000</td>\n",
       "      <td>68181.000000</td>\n",
       "      <td>NaN</td>\n",
       "    </tr>\n",
       "    <tr>\n",
       "      <th>50%</th>\n",
       "      <td>403522.000000</td>\n",
       "      <td>1.000000</td>\n",
       "      <td>61237.000000</td>\n",
       "      <td>85000.000000</td>\n",
       "      <td>NaN</td>\n",
       "    </tr>\n",
       "    <tr>\n",
       "      <th>75%</th>\n",
       "      <td>415816.500000</td>\n",
       "      <td>1.000000</td>\n",
       "      <td>74990.000000</td>\n",
       "      <td>110000.000000</td>\n",
       "      <td>NaN</td>\n",
       "    </tr>\n",
       "    <tr>\n",
       "      <th>max</th>\n",
       "      <td>424117.000000</td>\n",
       "      <td>62.000000</td>\n",
       "      <td>218587.000000</td>\n",
       "      <td>234402.000000</td>\n",
       "      <td>NaN</td>\n",
       "    </tr>\n",
       "  </tbody>\n",
       "</table>\n",
       "</div>"
      ],
      "text/plain": [
       "              Job ID  # Of Positions  Salary Range From  Salary Range To  \\\n",
       "count    2394.000000     2394.000000        2394.000000      2394.000000   \n",
       "mean   384479.475355        1.714703       64796.357277     94047.490192   \n",
       "std     51189.750275        3.544013       20220.252096     35789.672734   \n",
       "min    132292.000000        1.000000       26457.000000     32665.000000   \n",
       "25%    379095.000000        1.000000       52524.000000     68181.000000   \n",
       "50%    403522.000000        1.000000       61237.000000     85000.000000   \n",
       "75%    415816.500000        1.000000       74990.000000    110000.000000   \n",
       "max    424117.000000       62.000000      218587.000000    234402.000000   \n",
       "\n",
       "       Recruitment Contact  \n",
       "count                  0.0  \n",
       "mean                   NaN  \n",
       "std                    NaN  \n",
       "min                    NaN  \n",
       "25%                    NaN  \n",
       "50%                    NaN  \n",
       "75%                    NaN  \n",
       "max                    NaN  "
      ]
     },
     "execution_count": 4,
     "metadata": {},
     "output_type": "execute_result"
    }
   ],
   "source": [
    "df.describe()"
   ]
  },
  {
   "cell_type": "code",
   "execution_count": 5,
   "metadata": {
    "scrolled": true
   },
   "outputs": [
    {
     "data": {
      "image/png": "[encoded data removed]",
      "text/plain": [
       "<Figure size 432x288 with 1 Axes>"
      ]
     },
     "metadata": {
      "needs_background": "light"
     },
     "output_type": "display_data"
    }
   ],
   "source": [
    "plt.hist(df['Salary Range From'], bins=50, alpha=  0.5, color='r', label='Salary Range From')\n",
    "plt.hist(df['Salary Range To'],     bins=50, alpha = 0.5, color='b', label='Salary Range To')\n",
    "plt.xlabel('Salary ($/year)')\n",
    "plt.title('Distribution of salary')\n",
    "\n",
    "plt.axvline(df['Salary Range From'].quantile(.75), color='r')\n",
    "MinSalary=df['Salary Range From'].quantile(.75)\n",
    "plt.axvline(df['Salary Range To'].quantile(.75), color='b')\n",
    "MaxSalary=df['Salary Range To'].quantile(.75)\n",
    "\n",
    "plt.legend()\n",
    "plt.show()"
   ]
  },
  {
   "cell_type": "code",
   "execution_count": 6,
   "metadata": {},
   "outputs": [
    {
     "data": {
      "text/html": [
       "<div>\n",
       "<style scoped>\n",
       "    .dataframe tbody tr th:only-of-type {\n",
       "        vertical-align: middle;\n",
       "    }\n",
       "\n",
       "    .dataframe tbody tr th {\n",
       "        vertical-align: top;\n",
       "    }\n",
       "\n",
       "    .dataframe thead th {\n",
       "        text-align: right;\n",
       "    }\n",
       "</style>\n",
       "<table border=\"1\" class=\"dataframe\">\n",
       "  <thead>\n",
       "    <tr style=\"text-align: right;\">\n",
       "      <th></th>\n",
       "      <th>Job ID</th>\n",
       "      <th>Agency</th>\n",
       "      <th>Posting Type</th>\n",
       "      <th># Of Positions</th>\n",
       "      <th>Business Title</th>\n",
       "      <th>Civil Service Title</th>\n",
       "      <th>Title Code No</th>\n",
       "      <th>Level</th>\n",
       "      <th>Job Category</th>\n",
       "      <th>Full-Time/Part-Time indicator</th>\n",
       "      <th>...</th>\n",
       "      <th>Hours/Shift</th>\n",
       "      <th>Work Location 1</th>\n",
       "      <th>Recruitment Contact</th>\n",
       "      <th>Residency Requirement</th>\n",
       "      <th>Posting Date</th>\n",
       "      <th>Post Until</th>\n",
       "      <th>Posting Updated</th>\n",
       "      <th>Process Date</th>\n",
       "      <th>Min_Salary75</th>\n",
       "      <th>Max_Salary75</th>\n",
       "    </tr>\n",
       "  </thead>\n",
       "  <tbody>\n",
       "    <tr>\n",
       "      <th>2</th>\n",
       "      <td>132292</td>\n",
       "      <td>NYC HOUSING AUTHORITY</td>\n",
       "      <td>External</td>\n",
       "      <td>52</td>\n",
       "      <td>Maintenance Worker - Technical Services-Heatin...</td>\n",
       "      <td>MAINTENANCE WORKER</td>\n",
       "      <td>90698</td>\n",
       "      <td>0</td>\n",
       "      <td>Maintenance &amp; Operations</td>\n",
       "      <td>F</td>\n",
       "      <td>...</td>\n",
       "      <td>NaN</td>\n",
       "      <td>NaN</td>\n",
       "      <td>NaN</td>\n",
       "      <td>NYCHA has no residency requirements.</td>\n",
       "      <td>2013-10-24T00:00:00.000</td>\n",
       "      <td>NaN</td>\n",
       "      <td>2013-12-12T00:00:00.000</td>\n",
       "      <td>2019-11-26T00:00:00.000</td>\n",
       "      <td>0</td>\n",
       "      <td>0</td>\n",
       "    </tr>\n",
       "    <tr>\n",
       "      <th>3</th>\n",
       "      <td>132292</td>\n",
       "      <td>NYC HOUSING AUTHORITY</td>\n",
       "      <td>Internal</td>\n",
       "      <td>52</td>\n",
       "      <td>Maintenance Worker - Technical Services-Heatin...</td>\n",
       "      <td>MAINTENANCE WORKER</td>\n",
       "      <td>90698</td>\n",
       "      <td>0</td>\n",
       "      <td>Maintenance &amp; Operations</td>\n",
       "      <td>F</td>\n",
       "      <td>...</td>\n",
       "      <td>NaN</td>\n",
       "      <td>NaN</td>\n",
       "      <td>NaN</td>\n",
       "      <td>NYCHA has no residency requirements.</td>\n",
       "      <td>2013-10-24T00:00:00.000</td>\n",
       "      <td>NaN</td>\n",
       "      <td>2013-12-12T00:00:00.000</td>\n",
       "      <td>2019-11-26T00:00:00.000</td>\n",
       "      <td>0</td>\n",
       "      <td>0</td>\n",
       "    </tr>\n",
       "    <tr>\n",
       "      <th>6</th>\n",
       "      <td>137433</td>\n",
       "      <td>DEPT OF HEALTH/MENTAL HYGIENE</td>\n",
       "      <td>Internal</td>\n",
       "      <td>1</td>\n",
       "      <td>Contract Analyst</td>\n",
       "      <td>PROCUREMENT ANALYST</td>\n",
       "      <td>12158</td>\n",
       "      <td>3</td>\n",
       "      <td>Finance, Accounting, &amp; Procurement</td>\n",
       "      <td>F</td>\n",
       "      <td>...</td>\n",
       "      <td>NaN</td>\n",
       "      <td>42-09 28th Street, Long Island City, NY</td>\n",
       "      <td>NaN</td>\n",
       "      <td>New York City residency is generally required ...</td>\n",
       "      <td>2013-12-09T00:00:00.000</td>\n",
       "      <td>NaN</td>\n",
       "      <td>2013-12-09T00:00:00.000</td>\n",
       "      <td>2019-11-26T00:00:00.000</td>\n",
       "      <td>0</td>\n",
       "      <td>0</td>\n",
       "    </tr>\n",
       "    <tr>\n",
       "      <th>7</th>\n",
       "      <td>138531</td>\n",
       "      <td>DEPT OF ENVIRONMENT PROTECTION</td>\n",
       "      <td>Internal</td>\n",
       "      <td>1</td>\n",
       "      <td>Associate Chemist</td>\n",
       "      <td>ASSOCIATE CHEMIST</td>\n",
       "      <td>21822</td>\n",
       "      <td>2</td>\n",
       "      <td>Health Public Safety, Inspections, &amp; Enforcement</td>\n",
       "      <td>F</td>\n",
       "      <td>...</td>\n",
       "      <td>35 Hours per week/Day shift</td>\n",
       "      <td>96-05 Horace Harding Expway</td>\n",
       "      <td>NaN</td>\n",
       "      <td>New York City residency is generally required ...</td>\n",
       "      <td>2013-12-20T00:00:00.000</td>\n",
       "      <td>NaN</td>\n",
       "      <td>2014-07-25T00:00:00.000</td>\n",
       "      <td>2019-11-26T00:00:00.000</td>\n",
       "      <td>0</td>\n",
       "      <td>0</td>\n",
       "    </tr>\n",
       "    <tr>\n",
       "      <th>8</th>\n",
       "      <td>151131</td>\n",
       "      <td>NYC HOUSING AUTHORITY</td>\n",
       "      <td>External</td>\n",
       "      <td>1</td>\n",
       "      <td>Cost Estimating Manager</td>\n",
       "      <td>ADMINISTRATIVE STAFF ANALYST (</td>\n",
       "      <td>1002D</td>\n",
       "      <td>0</td>\n",
       "      <td>Engineering, Architecture, &amp; Planning</td>\n",
       "      <td>F</td>\n",
       "      <td>...</td>\n",
       "      <td>NaN</td>\n",
       "      <td>NaN</td>\n",
       "      <td>NaN</td>\n",
       "      <td>NYCHA has no residency requirements.</td>\n",
       "      <td>2014-06-25T00:00:00.000</td>\n",
       "      <td>NaN</td>\n",
       "      <td>2014-07-07T00:00:00.000</td>\n",
       "      <td>2019-11-26T00:00:00.000</td>\n",
       "      <td>1</td>\n",
       "      <td>0</td>\n",
       "    </tr>\n",
       "  </tbody>\n",
       "</table>\n",
       "<p>5 rows × 30 columns</p>\n",
       "</div>"
      ],
      "text/plain": [
       "   Job ID                          Agency Posting Type  # Of Positions  \\\n",
       "2  132292           NYC HOUSING AUTHORITY     External              52   \n",
       "3  132292           NYC HOUSING AUTHORITY     Internal              52   \n",
       "6  137433   DEPT OF HEALTH/MENTAL HYGIENE     Internal               1   \n",
       "7  138531  DEPT OF ENVIRONMENT PROTECTION     Internal               1   \n",
       "8  151131           NYC HOUSING AUTHORITY     External               1   \n",
       "\n",
       "                                      Business Title  \\\n",
       "2  Maintenance Worker - Technical Services-Heatin...   \n",
       "3  Maintenance Worker - Technical Services-Heatin...   \n",
       "6                                   Contract Analyst   \n",
       "7                                  Associate Chemist   \n",
       "8                            Cost Estimating Manager   \n",
       "\n",
       "              Civil Service Title Title Code No Level  \\\n",
       "2              MAINTENANCE WORKER         90698     0   \n",
       "3              MAINTENANCE WORKER         90698     0   \n",
       "6             PROCUREMENT ANALYST         12158     3   \n",
       "7               ASSOCIATE CHEMIST         21822     2   \n",
       "8  ADMINISTRATIVE STAFF ANALYST (         1002D     0   \n",
       "\n",
       "                                       Job Category  \\\n",
       "2                          Maintenance & Operations   \n",
       "3                          Maintenance & Operations   \n",
       "6                Finance, Accounting, & Procurement   \n",
       "7  Health Public Safety, Inspections, & Enforcement   \n",
       "8             Engineering, Architecture, & Planning   \n",
       "\n",
       "  Full-Time/Part-Time indicator  ...                  Hours/Shift  \\\n",
       "2                             F  ...                          NaN   \n",
       "3                             F  ...                          NaN   \n",
       "6                             F  ...                          NaN   \n",
       "7                             F  ...  35 Hours per week/Day shift   \n",
       "8                             F  ...                          NaN   \n",
       "\n",
       "                           Work Location 1 Recruitment Contact  \\\n",
       "2                                      NaN                 NaN   \n",
       "3                                      NaN                 NaN   \n",
       "6  42-09 28th Street, Long Island City, NY                 NaN   \n",
       "7              96-05 Horace Harding Expway                 NaN   \n",
       "8                                      NaN                 NaN   \n",
       "\n",
       "                               Residency Requirement             Posting Date  \\\n",
       "2               NYCHA has no residency requirements.  2013-10-24T00:00:00.000   \n",
       "3               NYCHA has no residency requirements.  2013-10-24T00:00:00.000   \n",
       "6  New York City residency is generally required ...  2013-12-09T00:00:00.000   \n",
       "7  New York City residency is generally required ...  2013-12-20T00:00:00.000   \n",
       "8               NYCHA has no residency requirements.  2014-06-25T00:00:00.000   \n",
       "\n",
       "  Post Until          Posting Updated             Process Date Min_Salary75  \\\n",
       "2        NaN  2013-12-12T00:00:00.000  2019-11-26T00:00:00.000            0   \n",
       "3        NaN  2013-12-12T00:00:00.000  2019-11-26T00:00:00.000            0   \n",
       "6        NaN  2013-12-09T00:00:00.000  2019-11-26T00:00:00.000            0   \n",
       "7        NaN  2014-07-25T00:00:00.000  2019-11-26T00:00:00.000            0   \n",
       "8        NaN  2014-07-07T00:00:00.000  2019-11-26T00:00:00.000            1   \n",
       "\n",
       "  Max_Salary75  \n",
       "2            0  \n",
       "3            0  \n",
       "6            0  \n",
       "7            0  \n",
       "8            0  \n",
       "\n",
       "[5 rows x 30 columns]"
      ]
     },
     "execution_count": 6,
     "metadata": {},
     "output_type": "execute_result"
    }
   ],
   "source": [
    "df.loc[  (df['Salary Range From'] > MinSalary), 'Min_Salary75'] = 1\n",
    "df.loc[~(df['Salary Range From'] > MinSalary), 'Min_Salary75'] = 0\n",
    "\n",
    "df.loc[ (df['Salary Range To'] > MaxSalary), 'Max_Salary75'] = 1\n",
    "df.loc[~(df['Salary Range To'] > MaxSalary), 'Max_Salary75'] = 0\n",
    "\n",
    "df['Min_Salary75'] = df['Min_Salary75'].astype(int)\n",
    "df['Max_Salary75'] = df['Max_Salary75'].astype(int)\n",
    "\n",
    "df.head()"
   ]
  },
  {
   "cell_type": "markdown",
   "metadata": {},
   "source": [
    "# A. What are the highest paid Skills in the US market?"
   ]
  },
  {
   "cell_type": "code",
   "execution_count": 7,
   "metadata": {},
   "outputs": [],
   "source": [
    "def clensing(df_series):\n",
    "    df = df_series.replace('[^a-zA-Z ]',' ', regex = True)\n",
    "    df = df.str.lower()\n",
    "    return df\n",
    "\n",
    "df['MinQualReq'] = clensing(df['Minimum Qual Requirements'])\n",
    "df['PrefSkills']= clensing(df['Preferred Skills'])"
   ]
  },
  {
   "cell_type": "raw",
   "metadata": {},
   "source": [
    "[Step 4a]\n",
    "Applying tokenisation, stemming and TF-IDF to get the required skills list fromt he 'Preferred Skills; column. \n",
    "[Step 5b]\n",
    "The stop words and special characters are removed and the tfidf of each word (now a skill) is calculated accross the column."
   ]
  },
  {
   "cell_type": "code",
   "execution_count": 8,
   "metadata": {},
   "outputs": [
    {
     "name": "stderr",
     "output_type": "stream",
     "text": [
      "[nltk_data] Downloading package stopwords to\n",
      "[nltk_data]     C:\\Users\\guptak14\\AppData\\Roaming\\nltk_data...\n",
      "[nltk_data]   Package stopwords is already up-to-date!\n",
      "[nltk_data] Downloading package punkt to\n",
      "[nltk_data]     C:\\Users\\guptak14\\AppData\\Roaming\\nltk_data...\n",
      "[nltk_data]   Package punkt is already up-to-date!\n"
     ]
    },
    {
     "data": {
      "text/plain": [
       "True"
      ]
     },
     "execution_count": 8,
     "metadata": {},
     "output_type": "execute_result"
    }
   ],
   "source": [
    "import nltk\n",
    "#To downlaod just stopwords:\n",
    "nltk.download('stopwords');\n",
    "nltk.download('punkt')"
   ]
  },
  {
   "cell_type": "code",
   "execution_count": 9,
   "metadata": {},
   "outputs": [],
   "source": [
    "def identify_tokens(row):\n",
    "    prefferedSkill = row['Preferred Skills']\n",
    "    tokens = nltk.word_tokenize(prefferedSkill)\n",
    "    # taken only words (not punctuation)\n",
    "    token_words = [w for w in tokens if w.isalpha()]\n",
    "    return token_words\n",
    "\n",
    "df['PreferredSWord'] = df.apply(identify_tokens, axis=1)"
   ]
  },
  {
   "cell_type": "code",
   "execution_count": 10,
   "metadata": {},
   "outputs": [],
   "source": [
    "from nltk.stem import PorterStemmer\n",
    "stemming = PorterStemmer()"
   ]
  },
  {
   "cell_type": "code",
   "execution_count": 11,
   "metadata": {},
   "outputs": [
    {
     "data": {
      "text/plain": [
       "2    [A, High, School, Diploma, GED, CDL, Driver, L...\n",
       "3    [A, High, School, Diploma, GED, CDL, Driver, L...\n",
       "6    [Strong, analytical, background, advanced, pro...\n",
       "7    [In, order, apply, position, candidate, must, ...\n",
       "8    [Five, years, managerial, supervisory, experie...\n",
       "Name: stem_meaningful, dtype: object"
      ]
     },
     "execution_count": 11,
     "metadata": {},
     "output_type": "execute_result"
    }
   ],
   "source": [
    "from nltk.corpus import stopwords\n",
    "stops = set(stopwords.words(\"english\"))                  \n",
    "\n",
    "def remove_stops(row):\n",
    "    my_list = row['PreferredSWord']\n",
    "    meaningful_words = [w for w in my_list if not w in stops]\n",
    "    return (meaningful_words)\n",
    "\n",
    "df['stem_meaningful'] = df.apply(remove_stops, axis=1)\n",
    "df['stem_meaningful'].head()"
   ]
  },
  {
   "cell_type": "code",
   "execution_count": 12,
   "metadata": {},
   "outputs": [],
   "source": [
    "def rejoin_words(row):\n",
    "    my_list = row['stem_meaningful']\n",
    "    joined_words = ( \" \".join(my_list))\n",
    "    return joined_words\n",
    "\n",
    "df['processedSkills'] = df.apply(rejoin_words, axis=1)"
   ]
  },
  {
   "cell_type": "code",
   "execution_count": 13,
   "metadata": {},
   "outputs": [
    {
     "data": {
      "text/plain": [
       "2    A High School Diploma GED CDL Driver License E...\n",
       "3    A High School Diploma GED CDL Driver License E...\n",
       "6    Strong analytical background advanced proficie...\n",
       "7    In order apply position candidate must permane...\n",
       "8    Five years managerial supervisory experience E...\n",
       "Name: processedSkills, dtype: object"
      ]
     },
     "execution_count": 13,
     "metadata": {},
     "output_type": "execute_result"
    }
   ],
   "source": [
    "df['processedSkills'].head()"
   ]
  },
  {
   "cell_type": "code",
   "execution_count": 14,
   "metadata": {},
   "outputs": [],
   "source": [
    "def calc_tfidf(docs, count, tfidf):\n",
    "    bag = count.fit_transform(docs)\n",
    "    t = tfidf.fit_transform(bag)\n",
    "    return bag, t\n",
    "\n",
    "def conc_text(texts, flags):\n",
    "    pos = \"\"\n",
    "    neg = \"\"\n",
    "    for (t,f) in zip(texts.values, flags.values):\n",
    "        if f >0:\n",
    "            pos = pos + t + \" \"\n",
    "        else:\n",
    "            neg = neg + t + \" \"\n",
    "    \n",
    "    return [pos,neg]\n",
    "\n",
    "tfidf = TfidfTransformer(use_idf = True, norm ='l2', smooth_idf = True)\n",
    "count = CountVectorizer()\n",
    "\n",
    "def stats(count, tfidf):\n",
    "    df1 = pd.DataFrame(list(count.vocabulary_.items()),columns=['word','id'])\n",
    "    df1 = df1.sort_values('id').reset_index()\n",
    "    dfx = pd.DataFrame(tfidf.toarray().T)\n",
    "    dfx.columns = ['tf-idf for high salary', 'tf-idf for low salary']\n",
    "    df1 = pd.concat([df1, dfx], axis=1)\n",
    "    df1['diff'] = df1['tf-idf for high salary']- df1['tf-idf for low salary']\n",
    "    return df1"
   ]
  },
  {
   "cell_type": "raw",
   "metadata": {},
   "source": [
    "[Step 6a(i)] - continued below\n",
    "Top 10 skills"
   ]
  },
  {
   "cell_type": "code",
   "execution_count": 15,
   "metadata": {},
   "outputs": [
    {
     "data": {
      "text/html": [
       "<div>\n",
       "<style scoped>\n",
       "    .dataframe tbody tr th:only-of-type {\n",
       "        vertical-align: middle;\n",
       "    }\n",
       "\n",
       "    .dataframe tbody tr th {\n",
       "        vertical-align: top;\n",
       "    }\n",
       "\n",
       "    .dataframe thead th {\n",
       "        text-align: right;\n",
       "    }\n",
       "</style>\n",
       "<table border=\"1\" class=\"dataframe\">\n",
       "  <thead>\n",
       "    <tr style=\"text-align: right;\">\n",
       "      <th></th>\n",
       "      <th>index</th>\n",
       "      <th>word</th>\n",
       "      <th>id</th>\n",
       "      <th>tf-idf for high salary</th>\n",
       "      <th>tf-idf for low salary</th>\n",
       "      <th>diff</th>\n",
       "    </tr>\n",
       "  </thead>\n",
       "  <tbody>\n",
       "    <tr>\n",
       "      <th>1666</th>\n",
       "      <td>2</td>\n",
       "      <td>experience</td>\n",
       "      <td>1666</td>\n",
       "      <td>0.538734</td>\n",
       "      <td>0.412020</td>\n",
       "      <td>0.126714</td>\n",
       "    </tr>\n",
       "    <tr>\n",
       "      <th>4799</th>\n",
       "      <td>1</td>\n",
       "      <td>years</td>\n",
       "      <td>4799</td>\n",
       "      <td>0.155634</td>\n",
       "      <td>0.077053</td>\n",
       "      <td>0.078581</td>\n",
       "    </tr>\n",
       "    <tr>\n",
       "      <th>2602</th>\n",
       "      <td>139</td>\n",
       "      <td>management</td>\n",
       "      <td>2602</td>\n",
       "      <td>0.214721</td>\n",
       "      <td>0.136372</td>\n",
       "      <td>0.078349</td>\n",
       "    </tr>\n",
       "    <tr>\n",
       "      <th>3425</th>\n",
       "      <td>249</td>\n",
       "      <td>project</td>\n",
       "      <td>3425</td>\n",
       "      <td>0.128215</td>\n",
       "      <td>0.070479</td>\n",
       "      <td>0.057736</td>\n",
       "    </tr>\n",
       "    <tr>\n",
       "      <th>3875</th>\n",
       "      <td>51</td>\n",
       "      <td>security</td>\n",
       "      <td>3875</td>\n",
       "      <td>0.062176</td>\n",
       "      <td>0.013301</td>\n",
       "      <td>0.048876</td>\n",
       "    </tr>\n",
       "    <tr>\n",
       "      <th>943</th>\n",
       "      <td>478</td>\n",
       "      <td>construction</td>\n",
       "      <td>943</td>\n",
       "      <td>0.092299</td>\n",
       "      <td>0.044183</td>\n",
       "      <td>0.048116</td>\n",
       "    </tr>\n",
       "    <tr>\n",
       "      <th>4310</th>\n",
       "      <td>102</td>\n",
       "      <td>technical</td>\n",
       "      <td>4310</td>\n",
       "      <td>0.069128</td>\n",
       "      <td>0.038374</td>\n",
       "      <td>0.030754</td>\n",
       "    </tr>\n",
       "    <tr>\n",
       "      <th>4088</th>\n",
       "      <td>107</td>\n",
       "      <td>staff</td>\n",
       "      <td>4088</td>\n",
       "      <td>0.054839</td>\n",
       "      <td>0.024614</td>\n",
       "      <td>0.030225</td>\n",
       "    </tr>\n",
       "    <tr>\n",
       "      <th>1530</th>\n",
       "      <td>106</td>\n",
       "      <td>engineering</td>\n",
       "      <td>1530</td>\n",
       "      <td>0.065266</td>\n",
       "      <td>0.037456</td>\n",
       "      <td>0.027810</td>\n",
       "    </tr>\n",
       "    <tr>\n",
       "      <th>2412</th>\n",
       "      <td>69</td>\n",
       "      <td>knowledge</td>\n",
       "      <td>2412</td>\n",
       "      <td>0.210087</td>\n",
       "      <td>0.183154</td>\n",
       "      <td>0.026933</td>\n",
       "    </tr>\n",
       "  </tbody>\n",
       "</table>\n",
       "</div>"
      ],
      "text/plain": [
       "      index          word    id  tf-idf for high salary  \\\n",
       "1666      2    experience  1666                0.538734   \n",
       "4799      1         years  4799                0.155634   \n",
       "2602    139    management  2602                0.214721   \n",
       "3425    249       project  3425                0.128215   \n",
       "3875     51      security  3875                0.062176   \n",
       "943     478  construction   943                0.092299   \n",
       "4310    102     technical  4310                0.069128   \n",
       "4088    107         staff  4088                0.054839   \n",
       "1530    106   engineering  1530                0.065266   \n",
       "2412     69     knowledge  2412                0.210087   \n",
       "\n",
       "      tf-idf for low salary      diff  \n",
       "1666               0.412020  0.126714  \n",
       "4799               0.077053  0.078581  \n",
       "2602               0.136372  0.078349  \n",
       "3425               0.070479  0.057736  \n",
       "3875               0.013301  0.048876  \n",
       "943                0.044183  0.048116  \n",
       "4310               0.038374  0.030754  \n",
       "4088               0.024614  0.030225  \n",
       "1530               0.037456  0.027810  \n",
       "2412               0.183154  0.026933  "
      ]
     },
     "execution_count": 15,
     "metadata": {},
     "output_type": "execute_result"
    }
   ],
   "source": [
    "docs4 = conc_text(df['processedSkills'], df['Max_Salary75'])\n",
    "bag4, tfidf4 = calc_tfidf(docs4, count, tfidf)\n",
    "#print(tfidf4)\n",
    "df4 = stats(count, tfidf4)\n",
    "skillHigh=df4.nlargest(10,'diff')\n",
    "skillHigh"
   ]
  },
  {
   "cell_type": "raw",
   "metadata": {},
   "source": [
    "[Step 6a(ii)]\n",
    "Graph for top 10 skills."
   ]
  },
  {
   "cell_type": "code",
   "execution_count": 16,
   "metadata": {},
   "outputs": [
    {
     "data": {
      "image/png": "[encoded data removed]",
      "text/plain": [
       "<Figure size 432x288 with 1 Axes>"
      ]
     },
     "metadata": {
      "needs_background": "light"
     },
     "output_type": "display_data"
    }
   ],
   "source": [
    "# this is for plotting purpose\n",
    "index = np.arange(len(skillHigh['word']))    \n",
    "plt.bar(index, skillHigh['tf-idf for high salary'])\n",
    "plt.xlabel('Skill', fontsize=5)\n",
    "plt.ylabel('Salary TFIDF', fontsize=5)\n",
    "plt.xticks(index,skillHigh['word'], fontsize=5, rotation=30)\n",
    "plt.title('Skills with highest Salary')\n",
    "plt.show()"
   ]
  },
  {
   "cell_type": "code",
   "execution_count": 17,
   "metadata": {},
   "outputs": [
    {
     "data": {
      "text/plain": [
       "'experience|years|management|project|security|construction|technical|staff|engineering|knowledge'"
      ]
     },
     "execution_count": 17,
     "metadata": {},
     "output_type": "execute_result"
    }
   ],
   "source": [
    "highestPaidSkill=df4.nlargest(10,'diff')\n",
    "skillsToFilter=highestPaidSkill['word']\n",
    "skillsToFilterStr=\"|\".join(skillsToFilter)\n",
    "skillsToFilterStr"
   ]
  },
  {
   "cell_type": "raw",
   "metadata": {},
   "source": [
    "[Step 6a(i)]\n",
    "Top 10 skills with highest salary "
   ]
  },
  {
   "cell_type": "code",
   "execution_count": 18,
   "metadata": {},
   "outputs": [
    {
     "data": {
      "text/html": [
       "<div>\n",
       "<style scoped>\n",
       "    .dataframe tbody tr th:only-of-type {\n",
       "        vertical-align: middle;\n",
       "    }\n",
       "\n",
       "    .dataframe tbody tr th {\n",
       "        vertical-align: top;\n",
       "    }\n",
       "\n",
       "    .dataframe thead th {\n",
       "        text-align: right;\n",
       "    }\n",
       "</style>\n",
       "<table border=\"1\" class=\"dataframe\">\n",
       "  <thead>\n",
       "    <tr style=\"text-align: right;\">\n",
       "      <th></th>\n",
       "      <th>processedSkills</th>\n",
       "      <th>Salary Range To</th>\n",
       "    </tr>\n",
       "  </thead>\n",
       "  <tbody>\n",
       "    <tr>\n",
       "      <th>0</th>\n",
       "      <td>Valid holder CCISO Certified Chief Information...</td>\n",
       "      <td>234402.0</td>\n",
       "    </tr>\n",
       "    <tr>\n",
       "      <th>1</th>\n",
       "      <td>A Degree accounting related field Five years s...</td>\n",
       "      <td>224749.0</td>\n",
       "    </tr>\n",
       "    <tr>\n",
       "      <th>2</th>\n",
       "      <td>A minimum ten years satisfactory professional ...</td>\n",
       "      <td>224749.0</td>\n",
       "    </tr>\n",
       "    <tr>\n",
       "      <th>3</th>\n",
       "      <td>The Deputy Commissioner position requires exce...</td>\n",
       "      <td>218587.0</td>\n",
       "    </tr>\n",
       "    <tr>\n",
       "      <th>4</th>\n",
       "      <td>A degree accredited college economics finance ...</td>\n",
       "      <td>217244.0</td>\n",
       "    </tr>\n",
       "    <tr>\n",
       "      <th>5</th>\n",
       "      <td>Candidate must six years paid experience archi...</td>\n",
       "      <td>217244.0</td>\n",
       "    </tr>\n",
       "    <tr>\n",
       "      <th>6</th>\n",
       "      <td>Education Experience Preferred A degree accred...</td>\n",
       "      <td>217244.0</td>\n",
       "    </tr>\n",
       "    <tr>\n",
       "      <th>7</th>\n",
       "      <td>Preferred Education Experience Minimum years s...</td>\n",
       "      <td>217244.0</td>\n",
       "    </tr>\n",
       "    <tr>\n",
       "      <th>8</th>\n",
       "      <td>The Deputy Commissioner position requires exce...</td>\n",
       "      <td>209585.0</td>\n",
       "    </tr>\n",
       "    <tr>\n",
       "      <th>9</th>\n",
       "      <td>At least eight years experience communications...</td>\n",
       "      <td>202744.0</td>\n",
       "    </tr>\n",
       "  </tbody>\n",
       "</table>\n",
       "</div>"
      ],
      "text/plain": [
       "                                     processedSkills  Salary Range To\n",
       "0  Valid holder CCISO Certified Chief Information...         234402.0\n",
       "1  A Degree accounting related field Five years s...         224749.0\n",
       "2  A minimum ten years satisfactory professional ...         224749.0\n",
       "3  The Deputy Commissioner position requires exce...         218587.0\n",
       "4  A degree accredited college economics finance ...         217244.0\n",
       "5  Candidate must six years paid experience archi...         217244.0\n",
       "6  Education Experience Preferred A degree accred...         217244.0\n",
       "7  Preferred Education Experience Minimum years s...         217244.0\n",
       "8  The Deputy Commissioner position requires exce...         209585.0\n",
       "9  At least eight years experience communications...         202744.0"
      ]
     },
     "execution_count": 18,
     "metadata": {},
     "output_type": "execute_result"
    }
   ],
   "source": [
    "skillHighSalay= df[df['processedSkills'].str.contains(skillsToFilterStr)][['Salary Range To','processedSkills']]\n",
    "skillHighSalaygrouped = (skillHighSalay.groupby(['processedSkills'])['Salary Range To'].mean().nlargest(10)).reset_index()\n",
    "skillHighSalaygrouped"
   ]
  },
  {
   "cell_type": "markdown",
   "metadata": {},
   "source": [
    "# B. What are the job categories, which involve above mentioned niche skills? "
   ]
  },
  {
   "cell_type": "raw",
   "metadata": {},
   "source": [
    "[Step 6b(i)]\n",
    "Top 10 Job categories with above query result-set skills"
   ]
  },
  {
   "cell_type": "code",
   "execution_count": 19,
   "metadata": {},
   "outputs": [
    {
     "data": {
      "text/html": [
       "<div>\n",
       "<style scoped>\n",
       "    .dataframe tbody tr th:only-of-type {\n",
       "        vertical-align: middle;\n",
       "    }\n",
       "\n",
       "    .dataframe tbody tr th {\n",
       "        vertical-align: top;\n",
       "    }\n",
       "\n",
       "    .dataframe thead th {\n",
       "        text-align: right;\n",
       "    }\n",
       "</style>\n",
       "<table border=\"1\" class=\"dataframe\">\n",
       "  <thead>\n",
       "    <tr style=\"text-align: right;\">\n",
       "      <th></th>\n",
       "      <th>Job Category</th>\n",
       "      <th>processedSkills</th>\n",
       "    </tr>\n",
       "  </thead>\n",
       "  <tbody>\n",
       "    <tr>\n",
       "      <th>0</th>\n",
       "      <td>Engineering, Architecture, &amp; Planning</td>\n",
       "      <td>401</td>\n",
       "    </tr>\n",
       "    <tr>\n",
       "      <th>1</th>\n",
       "      <td>Technology, Data &amp; Innovation</td>\n",
       "      <td>230</td>\n",
       "    </tr>\n",
       "    <tr>\n",
       "      <th>2</th>\n",
       "      <td>Legal Affairs</td>\n",
       "      <td>161</td>\n",
       "    </tr>\n",
       "    <tr>\n",
       "      <th>3</th>\n",
       "      <td>Public Safety, Inspections, &amp; Enforcement</td>\n",
       "      <td>124</td>\n",
       "    </tr>\n",
       "    <tr>\n",
       "      <th>4</th>\n",
       "      <td>Finance, Accounting, &amp; Procurement</td>\n",
       "      <td>111</td>\n",
       "    </tr>\n",
       "    <tr>\n",
       "      <th>5</th>\n",
       "      <td>Constituent Services &amp; Community Programs</td>\n",
       "      <td>100</td>\n",
       "    </tr>\n",
       "    <tr>\n",
       "      <th>6</th>\n",
       "      <td>Policy, Research &amp; Analysis</td>\n",
       "      <td>91</td>\n",
       "    </tr>\n",
       "    <tr>\n",
       "      <th>7</th>\n",
       "      <td>Administration &amp; Human Resources</td>\n",
       "      <td>70</td>\n",
       "    </tr>\n",
       "    <tr>\n",
       "      <th>8</th>\n",
       "      <td>Finance, Accounting, &amp; Procurement Policy, Res...</td>\n",
       "      <td>63</td>\n",
       "    </tr>\n",
       "    <tr>\n",
       "      <th>9</th>\n",
       "      <td>Health</td>\n",
       "      <td>56</td>\n",
       "    </tr>\n",
       "  </tbody>\n",
       "</table>\n",
       "</div>"
      ],
      "text/plain": [
       "                                        Job Category  processedSkills\n",
       "0              Engineering, Architecture, & Planning              401\n",
       "1                      Technology, Data & Innovation              230\n",
       "2                                      Legal Affairs              161\n",
       "3          Public Safety, Inspections, & Enforcement              124\n",
       "4                 Finance, Accounting, & Procurement              111\n",
       "5          Constituent Services & Community Programs              100\n",
       "6                        Policy, Research & Analysis               91\n",
       "7                   Administration & Human Resources               70\n",
       "8  Finance, Accounting, & Procurement Policy, Res...               63\n",
       "9                                             Health               56"
      ]
     },
     "execution_count": 19,
     "metadata": {},
     "output_type": "execute_result"
    }
   ],
   "source": [
    "jobcateHighSalay= df[df['processedSkills'].str.contains(skillsToFilterStr)][['Job Category','processedSkills']]\n",
    "jobcategoWithSkill = (jobcateHighSalay.groupby(['Job Category'])['processedSkills'].count().nlargest(10)).reset_index()\n",
    "jobcategoWithSkill"
   ]
  },
  {
   "cell_type": "raw",
   "metadata": {},
   "source": [
    "[Step 6b(ii)]\n",
    "Graph for Top 10 Job categories and their frequencies"
   ]
  },
  {
   "cell_type": "code",
   "execution_count": 20,
   "metadata": {},
   "outputs": [
    {
     "data": {
      "image/png": "[encoded data removed]",
      "text/plain": [
       "<Figure size 432x288 with 1 Axes>"
      ]
     },
     "metadata": {
      "needs_background": "light"
     },
     "output_type": "display_data"
    }
   ],
   "source": [
    "# this is for plotting purpose\n",
    "index = np.arange(len(jobcategoWithSkill['Job Category']))    \n",
    "plt.bar(index, jobcategoWithSkill['processedSkills'])\n",
    "plt.xlabel('Job Category', fontsize=5)\n",
    "plt.ylabel('Frequency', fontsize=5)\n",
    "plt.xticks(index,jobcategoWithSkill['Job Category'], fontsize=5, rotation=30)\n",
    "plt.title('Job category with highest paid Salary')\n",
    "plt.show()"
   ]
  },
  {
   "cell_type": "markdown",
   "metadata": {},
   "source": [
    "# C. Applying clustering concepts, please depict visually what are the different salary ranges based on job category and years of experience."
   ]
  },
  {
   "cell_type": "code",
   "execution_count": 21,
   "metadata": {},
   "outputs": [],
   "source": [
    "df['experience'] = df['Minimum Qual Requirements'].str.lower().str.extract(r'(\\w+)\\syear.+experience')\n",
    "yearsAlphaToNumber={'two':2, 'three':3, 'half':0.5, 'one':1,\n",
    "                   'four':4, 'five':5,  'ten':10, '10':10,\n",
    "                   'six':6, 'eight':8,'seven':7,\n",
    "                    '5':5, '4':4, '3':3, '6':6}\n",
    "df['experience'] = df['experience'].str.lower().map(yearsAlphaToNumber)\n"
   ]
  },
  {
   "cell_type": "code",
   "execution_count": 22,
   "metadata": {},
   "outputs": [
    {
     "data": {
      "text/plain": [
       "1.0     808\n",
       "2.0     440\n",
       "4.0     302\n",
       "3.0     228\n",
       "5.0     198\n",
       "6.0      55\n",
       "0.5      32\n",
       "7.0      17\n",
       "8.0      10\n",
       "10.0      6\n",
       "Name: experience, dtype: int64"
      ]
     },
     "execution_count": 22,
     "metadata": {},
     "output_type": "execute_result"
    }
   ],
   "source": [
    "df['experience'].value_counts()"
   ]
  },
  {
   "cell_type": "code",
   "execution_count": 23,
   "metadata": {},
   "outputs": [
    {
     "data": {
      "text/plain": [
       "298"
      ]
     },
     "execution_count": 23,
     "metadata": {},
     "output_type": "execute_result"
    }
   ],
   "source": [
    "df['experience'].isna().sum()"
   ]
  },
  {
   "cell_type": "code",
   "execution_count": 24,
   "metadata": {},
   "outputs": [
    {
     "data": {
      "text/plain": [
       "Text(0.5, 1, 'Number of Missing Values')"
      ]
     },
     "execution_count": 24,
     "metadata": {},
     "output_type": "execute_result"
    },
    {
     "data": {
      "image/png": "[encoded data removed]",
      "text/plain": [
       "<Figure size 432x288 with 2 Axes>"
      ]
     },
     "metadata": {
      "needs_background": "light"
     },
     "output_type": "display_data"
    }
   ],
   "source": [
    "sns.heatmap(df.isna(),yticklabels=False, cmap='viridis', cbar=True)\n",
    "plt.title(\"Number of Missing Values\")"
   ]
  },
  {
   "cell_type": "code",
   "execution_count": 25,
   "metadata": {},
   "outputs": [
    {
     "data": {
      "text/plain": [
       "0"
      ]
     },
     "execution_count": 25,
     "metadata": {},
     "output_type": "execute_result"
    }
   ],
   "source": [
    "df['experience'].fillna(1,inplace=True)\n",
    "df['experience'].isna().sum()"
   ]
  },
  {
   "cell_type": "code",
   "execution_count": 26,
   "metadata": {},
   "outputs": [
    {
     "data": {
      "text/plain": [
       "1.0     1106\n",
       "2.0      440\n",
       "4.0      302\n",
       "3.0      228\n",
       "5.0      198\n",
       "6.0       55\n",
       "0.5       32\n",
       "7.0       17\n",
       "8.0       10\n",
       "10.0       6\n",
       "Name: experience, dtype: int64"
      ]
     },
     "execution_count": 26,
     "metadata": {},
     "output_type": "execute_result"
    }
   ],
   "source": [
    "df['experience'].value_counts()"
   ]
  },
  {
   "cell_type": "code",
   "execution_count": 27,
   "metadata": {},
   "outputs": [],
   "source": [
    "high_sal_range = (df.groupby(['Job Category','experience'])['Salary Range To'].mean().nlargest(10)).reset_index()\n",
    "#high_sal_range"
   ]
  },
  {
   "cell_type": "raw",
   "metadata": {},
   "source": [
    "[Step 6c(i)]\n",
    "Graph for experience, salary and job category\n",
    "[Step 6c(ii)]\n",
    "Grapgh contains years of experience on x-axis, job category on y-axis and the salary in shades ranging from light to dark for lowest to highest salary for the X-Y plane\n",
    "[Step 6c(iii)]\n",
    "Scatterplot\n",
    "[Step 6c(iv)]\n",
    "Legends: yes\n",
    "[Step 6c(v)]\n",
    "Colour: yes"
   ]
  },
  {
   "cell_type": "code",
   "execution_count": 28,
   "metadata": {},
   "outputs": [
    {
     "data": {
      "image/png": "[encoded data removed]",
      "text/plain": [
       "<Figure size 432x288 with 1 Axes>"
      ]
     },
     "metadata": {
      "needs_background": "light"
     },
     "output_type": "display_data"
    }
   ],
   "source": [
    "# using color for the 3rd dimension\n",
    "#!pip install --upgrade pip\n",
    "#!pip install -U seaborn\n",
    "\n",
    "sc = sns.scatterplot(high_sal_range['experience'],high_sal_range['Job Category'],  \n",
    "                hue=high_sal_range['Salary Range To'], alpha=0.9)"
   ]
  }
 ],
 "metadata": {
  "kernelspec": {
   "display_name": "Python 3",
   "language": "python",
   "name": "python3"
  },
  "language_info": {
   "codemirror_mode": {
    "name": "ipython",
    "version": 3
   },
   "file_extension": ".py",
   "mimetype": "text/x-python",
   "name": "python",
   "nbconvert_exporter": "python",
   "pygments_lexer": "ipython3",
   "version": "3.7.7"
  }
 },
 "nbformat": 4,
 "nbformat_minor": 2
}
