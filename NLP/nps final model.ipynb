{
 "cells": [
  {
   "cell_type": "code",
   "execution_count": 133,
   "metadata": {},
   "outputs": [],
   "source": [
    "import pandas as pd\n",
    "import wordcloud\n",
    "import numpy as np\n",
    "import seaborn as sn\n",
    "import string\n",
    "import csv\n",
    "import matplotlib.pyplot as plt\n",
    "from sklearn.metrics import f1_score\n",
    "from sklearn.model_selection import train_test_split\n",
    "from sklearn.model_selection import StratifiedKFold\n",
    "from sklearn.model_selection import cross_val_predict\n",
    "from sklearn.metrics import accuracy_score\n",
    "from sklearn.feature_extraction.text import CountVectorizer\n",
    "from sklearn.linear_model import LogisticRegression\n",
    "from nltk.tokenize import word_tokenize\n",
    "import pickle"
   ]
  },
  {
   "cell_type": "code",
   "execution_count": 134,
   "metadata": {},
   "outputs": [],
   "source": [
    "pd.set_option('display.max_colwidth', None)"
   ]
  },
  {
   "cell_type": "code",
   "execution_count": 135,
   "metadata": {},
   "outputs": [],
   "source": [
    "DATA_PATH=\"/Users/jyotsana.j/lithium/checkouts/dataset/\"\n",
    "allcolumns = [\"id\",\"labels\",\"text\",\"augmented_text_fr\",\"augmented_text_es\",\"augmented_text_jp\",\"sentiment\"]\n",
    "columns = ['id', 'labels', 'text']"
   ]
  },
  {
   "cell_type": "code",
   "execution_count": 136,
   "metadata": {},
   "outputs": [
    {
     "data": {
      "text/plain": [
       "(1298, 7)"
      ]
     },
     "execution_count": 136,
     "metadata": {},
     "output_type": "execute_result"
    }
   ],
   "source": [
    "nps_aug = pd.read_csv(DATA_PATH + \"Augmented_data.csv\",usecols=allcolumns)\n",
    "nps_aug.shape"
   ]
  },
  {
   "cell_type": "code",
   "execution_count": 137,
   "metadata": {},
   "outputs": [
    {
     "data": {
      "text/plain": [
       "(472, 2)"
      ]
     },
     "execution_count": 137,
     "metadata": {},
     "output_type": "execute_result"
    }
   ],
   "source": [
    "tag_columns = ['labels','text']\n",
    "nps_org_1 = pd.read_csv(DATA_PATH + \"Original_dataset.csv\",usecols=tag_columns)\n",
    "nps_org= nps_org_1.dropna()\n",
    "nps_org.shape"
   ]
  },
  {
   "cell_type": "code",
   "execution_count": 138,
   "metadata": {},
   "outputs": [],
   "source": [
    "negative =['WeakNoStrategy','SlowResponse/ResTime_Bugs','WeakCommunication','WeakSupport','WeakTeamKnowledge','WeakProdDesign_Analytics',\n",
    "           'WeakProdDesign_Customization','WeakProdDesign_Features','WeakProdDesign_General','WeakProdDesign_Performance',\n",
    "           'WeakProdDesign_Quality','WeakProdDesign_Security','WeakProdDesign_Stability','WeakRelationship','WeakProfessionalServices',\n",
    "           'SlowProjectTimeline','Other_MarketingIncident','Other_Negative','Other_PriceTooHigh','ProductDesign']\n",
    "positive = ['GoodStrategy','FastResponseTime','GoodCommunication','GoodSupport','StrongTeamKnowledge','GoodProductDesign',\n",
    "            'StrongRelationship','Other_Positive']"
   ]
  },
  {
   "cell_type": "code",
   "execution_count": 139,
   "metadata": {},
   "outputs": [],
   "source": [
    "def get_sentiment_Aug (row):\n",
    "    sentiment=0\n",
    "    row['labels']=row['labels'].replace(\"[\",\"\").replace(\"]\",\"\").replace(\"'\",\"\")\n",
    "    for ele in row['labels'].split(\",\"):\n",
    "        if ele.strip() in positive:\n",
    "            sentiment +=1\n",
    "        elif ele.strip() in negative: \n",
    "            sentiment -=1\n",
    "        elif ele.strip() in neutral:\n",
    "            sentiment +=0 \n",
    "    if sentiment <= 0:\n",
    "        return 1\n",
    "    else:\n",
    "        return 0"
   ]
  },
  {
   "cell_type": "code",
   "execution_count": 140,
   "metadata": {},
   "outputs": [],
   "source": [
    "from nltk.corpus import stopwords\n",
    "from bs4 import BeautifulSoup\n",
    "from nltk.corpus import wordnet\n",
    "from nltk.stem import WordNetLemmatizer\n",
    "from nltk.tokenize import word_tokenize\n",
    "from string import punctuation\n",
    "from nltk.stem import SnowballStemmer\n",
    "import re\n",
    "import nltk\n",
    "\n",
    "\n",
    "lemmatizer = WordNetLemmatizer()\n",
    "wordnet_map = {\"N\":wordnet.NOUN, \"V\":wordnet.VERB, \"J\":wordnet.ADJ, \"R\":wordnet.ADV}\n",
    "STOPWORDS = set(stopwords.words('english'))\n",
    "snowball_stemmer = SnowballStemmer('english')\n",
    "    \n",
    "def toLower(text):\n",
    "    return [sentence.lower() for sentence in text]\n",
    "\n",
    "def remove_specialChar(text):\n",
    "    return [sentence.replace(punctuation,' ') for sentence in text ]\n",
    "\n",
    "def lemmatize_words(text):\n",
    "    fullList=[]\n",
    "    for sentence in text:\n",
    "        pos_tagged_text = nltk.pos_tag(sentence.split())\n",
    "        sentence = \" \".join([lemmatizer.lemmatize(word, wordnet_map.get(pos[0], wordnet.NOUN)) for word, pos in pos_tagged_text])\n",
    "        fullList.append(sentence)\n",
    "    return fullList\n",
    "\n",
    "def strip_digits(text):\n",
    "    fullList=[]\n",
    "    for sentence in text:\n",
    "        sentence = \" \".join([word for word in str(sentence).split() if not word.isdigit()])\n",
    "        fullList.append(sentence)\n",
    "    return fullList\n",
    "\n",
    "def strip_punctuation(text):\n",
    "    fullList=[]\n",
    "    for sentence in text:\n",
    "        sentence = \" \".join([word for word in str(sentence).split() if word not in punctuation])\n",
    "        fullList.append(sentence)\n",
    "    return fullList\n",
    "\n",
    "def preprocessingText(textSet):\n",
    "    textSet = textSet.dropna()\n",
    "    textSet['text']=toLower(textSet['text']).copy()\n",
    "    textSet['text']=lemmatize_words(textSet['text']).copy()\n",
    "    textSet['text']=strip_digits(textSet['text'])\n",
    "    textSet['text']=strip_punctuation(textSet['text']).copy()\n",
    "    textSet = textSet.dropna()\n",
    "    return textSet"
   ]
  },
  {
   "cell_type": "markdown",
   "metadata": {},
   "source": [
    "Union of all augmented data"
   ]
  },
  {
   "cell_type": "code",
   "execution_count": 141,
   "metadata": {},
   "outputs": [
    {
     "name": "stdout",
     "output_type": "stream",
     "text": [
      "<class 'pandas.core.frame.DataFrame'>\n",
      "Int64Index: 5190 entries, 0 to 5191\n",
      "Data columns (total 4 columns):\n",
      " #   Column     Non-Null Count  Dtype \n",
      "---  ------     --------------  ----- \n",
      " 0   id         5190 non-null   int64 \n",
      " 1   labels     5190 non-null   object\n",
      " 2   text       5190 non-null   object\n",
      " 3   sentiment  5190 non-null   int64 \n",
      "dtypes: int64(2), object(2)\n",
      "memory usage: 202.7+ KB\n"
     ]
    }
   ],
   "source": [
    "nps_org_data1=nps_aug[['id','labels','text','sentiment']]\n",
    "nps_org_data2=nps_aug[['id','labels','augmented_text_fr','sentiment']]\n",
    "nps_org_data2=nps_org_data2.rename(columns={'augmented_text_fr':'text'})\n",
    "nps_org_data3=nps_aug[['id','labels','augmented_text_es','sentiment']]\n",
    "nps_org_data3=nps_org_data3.rename(columns={'augmented_text_es':'text'})\n",
    "nps_org_data4=nps_aug[['id','labels','augmented_text_jp','sentiment']]\n",
    "nps_org_data4=nps_org_data4.rename(columns={'augmented_text_jp':'text'})\n",
    "nps_org_data5=pd.concat([nps_org_data1, nps_org_data2, nps_org_data3, nps_org_data4], ignore_index=True)\n",
    "nps_org_data=nps_org_data5.dropna()\n",
    "nps_org_data.info()"
   ]
  },
  {
   "cell_type": "code",
   "execution_count": 142,
   "metadata": {},
   "outputs": [
    {
     "data": {
      "text/plain": [
       "1    3868\n",
       "0    1322\n",
       "Name: sentiment, dtype: int64"
      ]
     },
     "execution_count": 142,
     "metadata": {},
     "output_type": "execute_result"
    }
   ],
   "source": [
    "nps_org_data['sentiment'].value_counts()"
   ]
  },
  {
   "cell_type": "code",
   "execution_count": 143,
   "metadata": {},
   "outputs": [
    {
     "name": "stderr",
     "output_type": "stream",
     "text": [
      "/Users/jyotsana.j/opt/anaconda3/lib/python3.7/site-packages/ipykernel_launcher.py:1: SettingWithCopyWarning: \n",
      "A value is trying to be set on a copy of a slice from a DataFrame.\n",
      "Try using .loc[row_indexer,col_indexer] = value instead\n",
      "\n",
      "See the caveats in the documentation: https://pandas.pydata.org/pandas-docs/stable/user_guide/indexing.html#returning-a-view-versus-a-copy\n",
      "  \"\"\"Entry point for launching an IPython kernel.\n"
     ]
    },
    {
     "data": {
      "text/plain": [
       "1    4318\n",
       "0     872\n",
       "Name: derivedSentiment, dtype: int64"
      ]
     },
     "execution_count": 143,
     "metadata": {},
     "output_type": "execute_result"
    }
   ],
   "source": [
    "nps_org_data['derivedSentiment']=nps_org_data.apply(lambda row: get_sentiment_Aug(row), axis=1)\n",
    "nps_org_data['derivedSentiment'].value_counts()"
   ]
  },
  {
   "cell_type": "markdown",
   "metadata": {},
   "source": [
    "Sentiment and DerivedSentiment difference"
   ]
  },
  {
   "cell_type": "code",
   "execution_count": 144,
   "metadata": {},
   "outputs": [
    {
     "data": {
      "text/plain": [
       "(450, 5)"
      ]
     },
     "execution_count": 144,
     "metadata": {},
     "output_type": "execute_result"
    }
   ],
   "source": [
    "nps_org_data_temp=nps_org_data[(nps_org_data.sentiment != nps_org_data.derivedSentiment)]\n",
    "nps_org_data_temp.shape"
   ]
  },
  {
   "cell_type": "code",
   "execution_count": 145,
   "metadata": {},
   "outputs": [
    {
     "name": "stderr",
     "output_type": "stream",
     "text": [
      "/Users/jyotsana.j/opt/anaconda3/lib/python3.7/site-packages/ipykernel_launcher.py:1: SettingWithCopyWarning: \n",
      "A value is trying to be set on a copy of a slice from a DataFrame.\n",
      "Try using .loc[row_indexer,col_indexer] = value instead\n",
      "\n",
      "See the caveats in the documentation: https://pandas.pydata.org/pandas-docs/stable/user_guide/indexing.html#returning-a-view-versus-a-copy\n",
      "  \"\"\"Entry point for launching an IPython kernel.\n"
     ]
    },
    {
     "data": {
      "text/plain": [
       "1    394\n",
       "0     78\n",
       "Name: sentiment, dtype: int64"
      ]
     },
     "execution_count": 145,
     "metadata": {},
     "output_type": "execute_result"
    }
   ],
   "source": [
    "nps_org['sentiment']=nps_org.apply(lambda row: get_sentiment_Aug(row), axis=1)\n",
    "nps_org['sentiment'].value_counts()"
   ]
  },
  {
   "cell_type": "code",
   "execution_count": 146,
   "metadata": {},
   "outputs": [
    {
     "data": {
      "text/plain": [
       "(5662, 5)"
      ]
     },
     "execution_count": 146,
     "metadata": {},
     "output_type": "execute_result"
    }
   ],
   "source": [
    "nps_all=pd.concat([nps_org_data, nps_org], ignore_index=True)\n",
    "nps_all.shape"
   ]
  },
  {
   "cell_type": "code",
   "execution_count": 147,
   "metadata": {},
   "outputs": [
    {
     "data": {
      "text/plain": [
       "<seaborn.axisgrid.FacetGrid at 0x1a21860650>"
      ]
     },
     "execution_count": 147,
     "metadata": {},
     "output_type": "execute_result"
    },
    {
     "data": {
      "image/png": "[encoded data removed]",
      "text/plain": [
       "<Figure size 1080x360 with 1 Axes>"
      ]
     },
     "metadata": {
      "needs_background": "light"
     },
     "output_type": "display_data"
    }
   ],
   "source": [
    "sn.catplot(x=\"sentiment\", kind=\"count\",palette=\"muted\", edgecolor=\".6\",data=nps_all,height=5,aspect=3)"
   ]
  },
  {
   "cell_type": "code",
   "execution_count": 148,
   "metadata": {},
   "outputs": [
    {
     "name": "stderr",
     "output_type": "stream",
     "text": [
      "/Users/jyotsana.j/opt/anaconda3/lib/python3.7/site-packages/ipykernel_launcher.py:47: SettingWithCopyWarning: \n",
      "A value is trying to be set on a copy of a slice from a DataFrame.\n",
      "Try using .loc[row_indexer,col_indexer] = value instead\n",
      "\n",
      "See the caveats in the documentation: https://pandas.pydata.org/pandas-docs/stable/user_guide/indexing.html#returning-a-view-versus-a-copy\n",
      "/Users/jyotsana.j/opt/anaconda3/lib/python3.7/site-packages/ipykernel_launcher.py:48: SettingWithCopyWarning: \n",
      "A value is trying to be set on a copy of a slice from a DataFrame.\n",
      "Try using .loc[row_indexer,col_indexer] = value instead\n",
      "\n",
      "See the caveats in the documentation: https://pandas.pydata.org/pandas-docs/stable/user_guide/indexing.html#returning-a-view-versus-a-copy\n",
      "/Users/jyotsana.j/opt/anaconda3/lib/python3.7/site-packages/ipykernel_launcher.py:49: SettingWithCopyWarning: \n",
      "A value is trying to be set on a copy of a slice from a DataFrame.\n",
      "Try using .loc[row_indexer,col_indexer] = value instead\n",
      "\n",
      "See the caveats in the documentation: https://pandas.pydata.org/pandas-docs/stable/user_guide/indexing.html#returning-a-view-versus-a-copy\n",
      "/Users/jyotsana.j/opt/anaconda3/lib/python3.7/site-packages/ipykernel_launcher.py:50: SettingWithCopyWarning: \n",
      "A value is trying to be set on a copy of a slice from a DataFrame.\n",
      "Try using .loc[row_indexer,col_indexer] = value instead\n",
      "\n",
      "See the caveats in the documentation: https://pandas.pydata.org/pandas-docs/stable/user_guide/indexing.html#returning-a-view-versus-a-copy\n"
     ]
    }
   ],
   "source": [
    "df=preprocessingText(nps_all)"
   ]
  },
  {
   "cell_type": "code",
   "execution_count": 149,
   "metadata": {},
   "outputs": [],
   "source": [
    "vecCount = CountVectorizer(min_df=0.0,max_df=0.99,ngram_range=(1,3))\n",
    "featuresCount = vecCount.fit(df['text'])\n",
    "pickle.dump(featuresCount,open('countvecnps.pkl','wb'))"
   ]
  },
  {
   "cell_type": "code",
   "execution_count": 150,
   "metadata": {},
   "outputs": [],
   "source": [
    "y = df['sentiment']\n",
    "x_vec_train, x_vec_test, y_trainset, y_testset = train_test_split(df['text'],y,stratify=y, test_size=0.3, random_state=0)"
   ]
  },
  {
   "cell_type": "code",
   "execution_count": 151,
   "metadata": {},
   "outputs": [],
   "source": [
    "x_trainset=featuresCount.transform(x_vec_train)\n",
    "x_testset=featuresCount.transform(x_vec_test)"
   ]
  },
  {
   "cell_type": "code",
   "execution_count": 152,
   "metadata": {},
   "outputs": [
    {
     "data": {
      "text/plain": [
       "(3633, 45999)"
      ]
     },
     "execution_count": 152,
     "metadata": {},
     "output_type": "execute_result"
    }
   ],
   "source": [
    "x_trainset.shape"
   ]
  },
  {
   "cell_type": "code",
   "execution_count": 153,
   "metadata": {},
   "outputs": [
    {
     "data": {
      "text/plain": [
       "(1557,)"
      ]
     },
     "execution_count": 153,
     "metadata": {},
     "output_type": "execute_result"
    }
   ],
   "source": [
    "y_testset.shape"
   ]
  },
  {
   "cell_type": "code",
   "execution_count": 154,
   "metadata": {},
   "outputs": [],
   "source": [
    "from sklearn.model_selection import cross_val_predict\n",
    "def crossValidatorFunction(model):\n",
    "    kf = StratifiedKFold(n_splits=10, shuffle = True, random_state=42)\n",
    "    model.fit(x_trainset,y_trainset)\n",
    "    y_model_train_pred = cross_val_predict(model, x_trainset, y_trainset, cv=kf)\n",
    "    print(\"F1 Score train: \",f1_score(y_trainset, y_model_train_pred))\n",
    "    y_model_test_pred = model.predict(x_testset)\n",
    "    print(\"F1 Score test: \",f1_score(y_testset, y_model_test_pred))"
   ]
  },
  {
   "cell_type": "markdown",
   "metadata": {},
   "source": [
    "## LOGISTIC REGRESSION"
   ]
  },
  {
   "cell_type": "code",
   "execution_count": 155,
   "metadata": {},
   "outputs": [
    {
     "name": "stdout",
     "output_type": "stream",
     "text": [
      "LogisticReg F1 Score train:  0.9632312986777758\n",
      "LogisticReg F1 Score test:  0.9696202531645569\n"
     ]
    }
   ],
   "source": [
    "kf = StratifiedKFold(n_splits=10, shuffle = True, random_state=42)\n",
    "clf = LogisticRegression(solver='liblinear',penalty='l2',C=1.0,multi_class='auto')\n",
    "clf.fit(x_trainset,y_trainset)\n",
    "y_clf_train_pred = cross_val_predict(clf, x_trainset, y_trainset, cv=kf)\n",
    "print(\"LogisticReg F1 Score train: \",f1_score(y_trainset, y_clf_train_pred))\n",
    "\n",
    "y_clf_test_pred = clf.predict(x_testset)\n",
    "print(\"LogisticReg F1 Score test: \",f1_score(y_testset, y_clf_test_pred))\n",
    "pickle.dump(clf,open('LogisticReg_new.pkl','wb'))"
   ]
  },
  {
   "cell_type": "code",
   "execution_count": 156,
   "metadata": {},
   "outputs": [
    {
     "data": {
      "text/html": [
       "<div>\n",
       "<style scoped>\n",
       "    .dataframe tbody tr th:only-of-type {\n",
       "        vertical-align: middle;\n",
       "    }\n",
       "\n",
       "    .dataframe tbody tr th {\n",
       "        vertical-align: top;\n",
       "    }\n",
       "\n",
       "    .dataframe thead th {\n",
       "        text-align: right;\n",
       "    }\n",
       "</style>\n",
       "<table border=\"1\" class=\"dataframe\">\n",
       "  <thead>\n",
       "    <tr style=\"text-align: right;\">\n",
       "      <th></th>\n",
       "      <th>text</th>\n",
       "      <th>sentiment</th>\n",
       "    </tr>\n",
       "  </thead>\n",
       "  <tbody>\n",
       "    <tr>\n",
       "      <th>3007</th>\n",
       "      <td>trust</td>\n",
       "      <td>0</td>\n",
       "    </tr>\n",
       "    <tr>\n",
       "      <th>4936</th>\n",
       "      <td>rug and be slow</td>\n",
       "      <td>1</td>\n",
       "    </tr>\n",
       "    <tr>\n",
       "      <th>3031</th>\n",
       "      <td>so we ask for a list of page google be crawl and tell u to go look at the statistic ... :( what we suspect be that not even know.</td>\n",
       "      <td>1</td>\n",
       "    </tr>\n",
       "    <tr>\n",
       "      <th>1976</th>\n",
       "      <td>platform, it do not work</td>\n",
       "      <td>1</td>\n",
       "    </tr>\n",
       "    <tr>\n",
       "      <th>3322</th>\n",
       "      <td>interface clumsy.</td>\n",
       "      <td>1</td>\n",
       "    </tr>\n",
       "    <tr>\n",
       "      <th>...</th>\n",
       "      <td>...</td>\n",
       "      <td>...</td>\n",
       "    </tr>\n",
       "    <tr>\n",
       "      <th>1366</th>\n",
       "      <td>good communication</td>\n",
       "      <td>0</td>\n",
       "    </tr>\n",
       "    <tr>\n",
       "      <th>1326</th>\n",
       "      <td>our tam receive our call for two week and just read our portal event ticket for u</td>\n",
       "      <td>1</td>\n",
       "    </tr>\n",
       "    <tr>\n",
       "      <th>1247</th>\n",
       "      <td>intermittent glitch</td>\n",
       "      <td>1</td>\n",
       "    </tr>\n",
       "    <tr>\n",
       "      <th>2679</th>\n",
       "      <td>i can send email to our account team, nothing be answered. concern about the stability of the platform.</td>\n",
       "      <td>1</td>\n",
       "    </tr>\n",
       "    <tr>\n",
       "      <th>2460</th>\n",
       "      <td>recent security breach</td>\n",
       "      <td>1</td>\n",
       "    </tr>\n",
       "  </tbody>\n",
       "</table>\n",
       "<p>1557 rows × 2 columns</p>\n",
       "</div>"
      ],
      "text/plain": [
       "                                                                                                                                   text  \\\n",
       "3007                                                                                                                              trust   \n",
       "4936                                                                                                                    rug and be slow   \n",
       "3031  so we ask for a list of page google be crawl and tell u to go look at the statistic ... :( what we suspect be that not even know.   \n",
       "1976                                                                                                           platform, it do not work   \n",
       "3322                                                                                                                  interface clumsy.   \n",
       "...                                                                                                                                 ...   \n",
       "1366                                                                                                                 good communication   \n",
       "1326                                                  our tam receive our call for two week and just read our portal event ticket for u   \n",
       "1247                                                                                                                intermittent glitch   \n",
       "2679                            i can send email to our account team, nothing be answered. concern about the stability of the platform.   \n",
       "2460                                                                                                             recent security breach   \n",
       "\n",
       "      sentiment  \n",
       "3007          0  \n",
       "4936          1  \n",
       "3031          1  \n",
       "1976          1  \n",
       "3322          1  \n",
       "...         ...  \n",
       "1366          0  \n",
       "1326          1  \n",
       "1247          1  \n",
       "2679          1  \n",
       "2460          1  \n",
       "\n",
       "[1557 rows x 2 columns]"
      ]
     },
     "execution_count": 156,
     "metadata": {},
     "output_type": "execute_result"
    }
   ],
   "source": [
    "x_test=pd.DataFrame(x_vec_test)\n",
    "x_test1=pd.DataFrame(y_testset)\n",
    "x_test3=pd.concat([x_test, x_test1], ignore_index=True,axis=1)\n",
    "x_test4=x_test3.rename(columns={0:'text',1:'sentiment'})\n",
    "x_test4"
   ]
  },
  {
   "cell_type": "code",
   "execution_count": 157,
   "metadata": {},
   "outputs": [],
   "source": [
    "from sklearn.metrics import accuracy_score, precision_score, recall_score, f1_score, confusion_matrix, hamming_loss\n",
    "def evaluate_on_test(predictor, test_data, th=0.4):\n",
    "    \n",
    "    pred = predictor.predict_proba(x_vec_test.text.tolist())\n",
    "    pred_th = (pred >= th).astype(int)\n",
    "    \n",
    "    test_labels = x_vec_test[labels_df.columns.tolist()].values\n",
    "    \n",
    "    \n",
    "    model_scores = {}\n",
    "    macro_f1 = f1_score(test_labels, pred_th, average='macro')\n",
    "    micro_f1 = f1_score(test_labels, pred_th, average='micro')\n",
    "    ham_loss = hamming_loss(test_labels, pred_th)\n",
    "    accuracy = accuracy_score(test_labels, pred_th)\n",
    "    model_scores[\"micro_f1\"] = micro_f1\n",
    "    model_scores[\"ham_loss\"] = ham_loss\n",
    "    model_scores[\"accuracy\"] = accuracy\n",
    "    \n",
    "    return model_scores"
   ]
  },
  {
   "cell_type": "markdown",
   "metadata": {},
   "source": [
    "## FAST TEXT"
   ]
  },
  {
   "cell_type": "code",
   "execution_count": 158,
   "metadata": {},
   "outputs": [],
   "source": [
    "def createDataForFastText(file,dataframe):\n",
    "    f= open(file,\"w+\")\n",
    "    for ind in dataframe.index:\n",
    "        if (dataframe['sentiment'][ind] == 1.0):\n",
    "            f.write(\"__label__1 %s \\n\" % dataframe['text'][ind])\n",
    "        else:\n",
    "            f.write(\"__label__0 %s \\n\" % dataframe['text'][ind])"
   ]
  },
  {
   "cell_type": "code",
   "execution_count": 159,
   "metadata": {},
   "outputs": [],
   "source": [
    "train=pd.DataFrame(x_vec_train)\n",
    "train['sentiment']=y_trainset\n",
    "test=pd.DataFrame(x_vec_test)\n",
    "test['sentiment']=y_testset\n",
    "createDataForFastText(\"nps.valid\",test)\n",
    "createDataForFastText(\"nps.train\",train)"
   ]
  },
  {
   "cell_type": "code",
   "execution_count": 160,
   "metadata": {},
   "outputs": [
    {
     "data": {
      "text/plain": [
       "(3633, 0.9958711808422791, 0.9958711808422791)"
      ]
     },
     "execution_count": 160,
     "metadata": {},
     "output_type": "execute_result"
    }
   ],
   "source": [
    "import fasttext\n",
    "fasttext = fasttext.train_supervised(input=\"nps.train\", epoch=200,lr=0.1,wordNgrams=2,loss='ova')\n",
    "fasttext.test(\"nps.train\")"
   ]
  },
  {
   "cell_type": "code",
   "execution_count": 161,
   "metadata": {},
   "outputs": [],
   "source": [
    "result = fasttext.test(\"nps.valid\")"
   ]
  },
  {
   "cell_type": "code",
   "execution_count": 162,
   "metadata": {},
   "outputs": [
    {
     "name": "stdout",
     "output_type": "stream",
     "text": [
      "FastText F1 Score test:  0.9710982658959537\n"
     ]
    }
   ],
   "source": [
    "#F1 = 2 * (precision * recall) / (precision + recall)\n",
    "f1_score = 2*(result[1]*result[2])/(result[1]+result[2])\n",
    "print(\"FastText F1 Score test: \",f1_score)"
   ]
  },
  {
   "cell_type": "code",
   "execution_count": 163,
   "metadata": {},
   "outputs": [],
   "source": [
    "fasttext.save_model(\"fastText_nps.bin\")"
   ]
  },
  {
   "cell_type": "code",
   "execution_count": null,
   "metadata": {},
   "outputs": [],
   "source": []
  },
  {
   "cell_type": "markdown",
   "metadata": {},
   "source": [
    "## 2019 statements"
   ]
  },
  {
   "cell_type": "code",
   "execution_count": null,
   "metadata": {},
   "outputs": [],
   "source": [
    "nps_2019 = pd.read_csv(DATA_PATH + \"Tagging_2019.csv\",usecols=[\"Rel-NPS-Feedback\",\"Sentiment - Overall\"])\n",
    "nps_2019=nps_2019.rename(columns={'Sentiment - Overall':'labels','Rel-NPS-Feedback':'text'})\n",
    "nps_2019_1=nps_2019.dropna()\n",
    "nps_2019_1.shape"
   ]
  },
  {
   "cell_type": "code",
   "execution_count": null,
   "metadata": {},
   "outputs": [],
   "source": [
    "nps_2019_1['sentiment']=nps_2019_1.apply(lambda row: get_sentiment_Aug(row), axis=1)\n",
    "nps_2019_1['sentiment'].value_counts()"
   ]
  },
  {
   "cell_type": "code",
   "execution_count": null,
   "metadata": {},
   "outputs": [],
   "source": [
    "df=preprocessingText(nps_2019_1)"
   ]
  },
  {
   "cell_type": "code",
   "execution_count": null,
   "metadata": {},
   "outputs": [],
   "source": [
    "x_testset=featuresCount.transform(df['text'])\n",
    "y_testset=df['sentiment']"
   ]
  },
  {
   "cell_type": "code",
   "execution_count": null,
   "metadata": {},
   "outputs": [],
   "source": [
    "y_clf_test_pred = clf.predict(x_testset)\n",
    "print(\"LogisticReg F1 Score test: \",f1_score(y_testset, y_clf_test_pred))"
   ]
  },
  {
   "cell_type": "code",
   "execution_count": null,
   "metadata": {},
   "outputs": [],
   "source": []
  },
  {
   "cell_type": "code",
   "execution_count": null,
   "metadata": {},
   "outputs": [],
   "source": []
  },
  {
   "cell_type": "code",
   "execution_count": null,
   "metadata": {},
   "outputs": [],
   "source": []
  },
  {
   "cell_type": "code",
   "execution_count": null,
   "metadata": {},
   "outputs": [],
   "source": []
  },
  {
   "cell_type": "markdown",
   "metadata": {},
   "source": [
    "## Predict"
   ]
  },
  {
   "cell_type": "code",
   "execution_count": null,
   "metadata": {},
   "outputs": [],
   "source": [
    "fasttext.predict(\"bad support\", k=-1)"
   ]
  },
  {
   "cell_type": "code",
   "execution_count": null,
   "metadata": {},
   "outputs": [],
   "source": [
    "tt=featuresCount.transform([\"bad support\"])\n",
    "clf.predict(tt)"
   ]
  },
  {
   "cell_type": "code",
   "execution_count": null,
   "metadata": {},
   "outputs": [],
   "source": []
  }
 ],
 "metadata": {
  "kernelspec": {
   "display_name": "Python 3",
   "language": "python",
   "name": "python3"
  },
  "language_info": {
   "codemirror_mode": {
    "name": "ipython",
    "version": 3
   },
   "file_extension": ".py",
   "mimetype": "text/x-python",
   "name": "python",
   "nbconvert_exporter": "python",
   "pygments_lexer": "ipython3",
   "version": "3.7.7"
  }
 },
 "nbformat": 4,
 "nbformat_minor": 4
}
