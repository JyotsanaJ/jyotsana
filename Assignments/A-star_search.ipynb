{
 "cells": [
  {
   "cell_type": "markdown",
   "metadata": {},
   "source": [
    "Use appropriate data structures for the fringes and explain the reasoning behind the usage. "
   ]
  },
  {
   "cell_type": "markdown",
   "metadata": {},
   "source": [
    "#PEAS Description of the task environment here :"
   ]
  },
  {
   "cell_type": "markdown",
   "metadata": {},
   "source": [
    "Performance : If a solution has the lowest cost among all solutions.\n",
    "1) Space Complexitiy :The space complexity of A* search algorithm is O(b^d)\n",
    "2) Time complexity :The time complexity of A* search algorithm depends on heuristic function, and the number of nodes expanded is exponential to the depth of solution d. So the time complexity is O(b^d), where b is the branching factor.\n",
    "\n",
    "Environment : The cities and the roads connecting the cities. And longititude and latitude. \n",
    "Complete observable and  deterministic environment\n",
    "\n",
    "Actuators : Moving to next node after minimal cost path is found\n",
    "\n",
    "Sensors : Reading the current node and the distance all the connected nodes"
   ]
  },
  {
   "cell_type": "code",
   "execution_count": 1,
   "metadata": {},
   "outputs": [],
   "source": [
    "import sys\n",
    "from haversine import haversine\n",
    "import math "
   ]
  },
  {
   "cell_type": "code",
   "execution_count": 2,
   "metadata": {},
   "outputs": [],
   "source": [
    "# Add a vertex to the dictionary\n",
    "def add_vertex(v):\n",
    "  global graph\n",
    "  global vertices_no\n",
    "  if v in graph:\n",
    "    print(\"Vertex \", v, \" already exists.\")\n",
    "  else:\n",
    "    vertices_no = vertices_no + 1\n",
    "    graph[v] = []\n",
    "    \n",
    "\n",
    "# Add an edge between vertex v1 and v2 with edge weight e\n",
    "def add_edge(v1, v2, e):\n",
    "  global graph\n",
    "  # Check if vertex v1 is a valid vertex\n",
    "  if v1 not in graph:\n",
    "    print(\"Vertex \", v1, \" does not exist.\")\n",
    "  # Check if vertex v2 is a valid vertex\n",
    "  elif v2 not in graph:\n",
    "    print(\"Vertex \", v2, \" does not exist.\")\n",
    "  else:\n",
    "    # Since this code is not restricted to a directed or \n",
    "    # an undirected graph, an edge between v1 v2 does not\n",
    "    # imply that an edge exists between v2 and v1\n",
    "    temp = [v2, e]\n",
    "    graph[v1].append(temp)\n",
    "\n",
    "# Print the graph\n",
    "def print_graph():\n",
    "  global graph\n",
    "  for vertex in graph:\n",
    "    for edges in graph[vertex]:\n",
    "      print(vertex, \" -> \", edges[0], \" edge weight: \", edges[1])\n"
   ]
  },
  {
   "cell_type": "code",
   "execution_count": 3,
   "metadata": {},
   "outputs": [
    {
     "name": "stdout",
     "output_type": "stream",
     "text": [
      "1  ->  2  edge weight:  457\n",
      "1  ->  3  edge weight:  365\n",
      "1  ->  4  edge weight:  409\n",
      "2  ->  1  edge weight:  457\n",
      "2  ->  5  edge weight:  453\n",
      "2  ->  6  edge weight:  100\n",
      "3  ->  1  edge weight:  365\n",
      "3  ->  7  edge weight:  233\n",
      "3  ->  8  edge weight:  352\n",
      "4  ->  1  edge weight:  409\n",
      "4  ->  5  edge weight:  379\n",
      "4  ->  8  edge weight:  311\n",
      "5  ->  2  edge weight:  453\n",
      "5  ->  4  edge weight:  379\n",
      "5  ->  6  edge weight:  340\n",
      "5  ->  9  edge weight:  136\n",
      "5  ->  10  edge weight:  153\n",
      "6  ->  2  edge weight:  100\n",
      "6  ->  5  edge weight:  340\n",
      "6  ->  9  edge weight:  325\n",
      "7  ->  3  edge weight:  233\n",
      "7  ->  8  edge weight:  356\n",
      "8  ->  3  edge weight:  352\n",
      "8  ->  4  edge weight:  311\n",
      "8  ->  7  edge weight:  356\n",
      "8  ->  10  edge weight:  346\n",
      "9  ->  5  edge weight:  136\n",
      "9  ->  6  edge weight:  325\n",
      "9  ->  10  edge weight:  175\n",
      "10  ->  5  edge weight:  153\n",
      "10  ->  8  edge weight:  346\n",
      "10  ->  9  edge weight:  175\n"
     ]
    }
   ],
   "source": [
    "graph = {}\n",
    "vertices_no = 0\n",
    "add_vertex(1) # Panji\n",
    "add_vertex(2) # Raipur\n",
    "add_vertex(3) # Mangalore\n",
    "add_vertex(4) # Bellari\n",
    "add_vertex(5) # Tirupati\n",
    "add_vertex(6) # Kurnool\n",
    "add_vertex(7) # Kozhikode\n",
    "add_vertex(8) # Bangalore\n",
    "add_vertex(9) # Nellore\n",
    "add_vertex(10) # Chennai\n",
    "\n",
    "add_edge(1, 2, 457)\n",
    "add_edge(2, 1, 457)\n",
    "add_edge(1, 3, 365)\n",
    "add_edge(3, 1, 365)\n",
    "add_edge(1, 4, 409)\n",
    "add_edge(4, 1, 409)\n",
    "add_edge(2, 5, 453)\n",
    "add_edge(5, 2, 453)\n",
    "add_edge(2, 6, 100)\n",
    "add_edge(6, 2, 100)\n",
    "add_edge(3, 7, 233)\n",
    "add_edge(7, 3, 233)\n",
    "add_edge(3, 8, 352)\n",
    "add_edge(8, 3, 352)\n",
    "add_edge(4, 5, 379)\n",
    "add_edge(5, 4, 379)\n",
    "add_edge(4, 8, 311)\n",
    "add_edge(8, 4, 311)\n",
    "add_edge(6, 5, 340)\n",
    "add_edge(5, 6, 340)\n",
    "add_edge(5, 9, 136)\n",
    "add_edge(9, 5, 136)\n",
    "add_edge(5, 10, 153)\n",
    "add_edge(10, 5, 153)\n",
    "add_edge(9, 6, 325)\n",
    "add_edge(6, 9, 325)\n",
    "add_edge(7, 8, 356)\n",
    "add_edge(8, 7, 356)\n",
    "add_edge(8, 10, 346)\n",
    "add_edge(10, 8, 346)\n",
    "add_edge(9, 10, 175)\n",
    "add_edge(10, 9, 175)\n",
    "\n",
    "#print_graph()\n",
    "print_graph()"
   ]
  },
  {
   "cell_type": "markdown",
   "metadata": {},
   "source": [
    "Define the haversine formula and what it does"
   ]
  },
  {
   "cell_type": "markdown",
   "metadata": {},
   "source": [
    " ‘haversine’ formula to calculate the great-circle distance between two points – that is, the shortest distance over the earth’s surface – giving an ‘as-the-crow-flies’ distance between the points (ignoring any hills they fly over, of course!).\n",
    " \n",
    "Haversine\n",
    "formula:\ta = sin²(Δφ/2) + cos φ1 ⋅ cos φ2 ⋅ sin²(Δλ/2)\n",
    "c = 2 ⋅ atan2( √a, √(1−a) )\n",
    "d = R ⋅ c\n",
    "where\tφ is latitude, λ is longitude, R is earth’s radius (mean radius = 6,371km);\n",
    "note that angles need to be in radians to pass to trig functions!"
   ]
  },
  {
   "cell_type": "code",
   "execution_count": 4,
   "metadata": {},
   "outputs": [],
   "source": [
    "#haversine function\n",
    "one = (15.4909, 73.8278)\n",
    "two = (16.2076, 77.3463)\n",
    "three = (12.9141, 74.8560)\n",
    "four = (15.1394, 76.9214)\n",
    "five = (13.6288, 79.4192)\n",
    "six = (15.8281, 78.0373)\n",
    "seven = (11.2588, 75.7804)\n",
    "eight = (12.9716, 77.5946)\n",
    "nine = (14.4426, 79.9865)\n",
    "ten = (13.0827, 80.2707)\n",
    "        \n",
    "def getHeuristics(destination) :\n",
    "    global h_n\n",
    "    h_n = {1:haversine(one,destination), \n",
    "           2:haversine(two,destination), \n",
    "           3:haversine(three,destination), \n",
    "           4:haversine(four,destination), \n",
    "           5:haversine(five,destination), \n",
    "           6:haversine(six,destination), \n",
    "           7:haversine(seven,destination), \n",
    "           8:haversine(eight,destination), \n",
    "           9:haversine(nine,destination), \n",
    "           10:haversine(ten,destination)}\n",
    "    return print(h_n)\n",
    "\n"
   ]
  },
  {
   "cell_type": "code",
   "execution_count": 5,
   "metadata": {},
   "outputs": [
    {
     "name": "stdout",
     "output_type": "stream",
     "text": [
      "{1: 744.0361834070435, 2: 468.70972622377525, 3: 586.948486511216, 4: 427.47991520750134, 5: 110.33456733983222, 6: 388.60036560481154, 7: 528.5092500599335, 8: 290.17242575573175, 9: 154.2978342617793, 10: 0.0}\n"
     ]
    }
   ],
   "source": [
    "getHeuristics(ten)"
   ]
  },
  {
   "cell_type": "markdown",
   "metadata": {},
   "source": [
    "Implementation of A* Algorithm . Feel free to add code blocks for each methods needed starting here.\n",
    "Please modularize the implementation of A* and write each of them in a code block."
   ]
  },
  {
   "cell_type": "code",
   "execution_count": 6,
   "metadata": {},
   "outputs": [],
   "source": [
    "# A* implementation\n",
    "\n",
    "def getPath(start,goal):\n",
    "    global frontier\n",
    "    global openList\n",
    "    global closedList\n",
    "    frontier = {}\n",
    "    openList = []\n",
    "    closedList = []\n",
    "    global visits\n",
    "    visits = 0\n",
    "    openList.append(start)\n",
    "    frontier[1] = [0, 0, h_n[start], 0]\n",
    "    current_fn = 10000\n",
    "    x = 0    \n",
    "    key = start\n",
    "    while(len(openList) != 0):\n",
    "        print(\"Iteration No. :\" + str(x+1))\n",
    "        print(\"Length of Forntier List:\" , str(len(openList)))\n",
    "        if(start == goal):\n",
    "            print(\"Found Shortest Path\\n\")\n",
    "            break\n",
    "        min = 10000\n",
    "        for i in openList:            \n",
    "            visits = visits+1\n",
    "            frontier[i][3] = frontier[i][1] + frontier[i][2]\n",
    "            if(frontier[i][3] < min):\n",
    "                min = frontier[i][3]\n",
    "                key = i\n",
    "        print(\"Frontier set available now: \")\n",
    "        for f in openList:            \n",
    "            print(\"For node \",f,\" : \",frontier[f])\n",
    "        openList.remove(key)\n",
    "        closedList.append(key) \n",
    "        start = key\n",
    "        print(\"Expansion key= \" , str(key))\n",
    "        \n",
    "        if(start == goal):\n",
    "            print(\"Found shortest Path\\n\")\n",
    "            break\n",
    "        if(current_fn < min):\n",
    "            print(\"Found shorter path\")\n",
    "            current_fn = min\n",
    "        list = graph[key]\n",
    "        print(\"For Key \",key,\" Child list = \",list)\n",
    "        for l in list:\n",
    "            child_key = l[0]            \n",
    "            if (child_key not in openList) and (child_key not in closedList):\n",
    "                frontier[child_key] = [key, frontier[key][1]+l[1], h_n[child_key], 0]\n",
    "                openList.append(child_key)        \n",
    "        x=x+1\n",
    "    print(\"All frontier \",frontier)"
   ]
  },
  {
   "cell_type": "markdown",
   "metadata": {},
   "source": [
    "Call your main function/algorithm block in the next code block with appropriate input representation"
   ]
  },
  {
   "cell_type": "code",
   "execution_count": 7,
   "metadata": {},
   "outputs": [
    {
     "name": "stdout",
     "output_type": "stream",
     "text": [
      "Iteration No. :1\n",
      "Length of Forntier List: 1\n",
      "Frontier set available now: \n",
      "For node  1  :  [0, 0, 744.0361834070435, 744.0361834070435]\n",
      "Expansion key=  1\n",
      "For Key  1  Child list =  [[2, 457], [3, 365], [4, 409]]\n",
      "Iteration No. :2\n",
      "Length of Forntier List: 3\n",
      "Frontier set available now: \n",
      "For node  2  :  [1, 457, 468.70972622377525, 925.7097262237753]\n",
      "For node  3  :  [1, 365, 586.948486511216, 951.948486511216]\n",
      "For node  4  :  [1, 409, 427.47991520750134, 836.4799152075013]\n",
      "Expansion key=  4\n",
      "For Key  4  Child list =  [[1, 409], [5, 379], [8, 311]]\n",
      "Iteration No. :3\n",
      "Length of Forntier List: 4\n",
      "Frontier set available now: \n",
      "For node  2  :  [1, 457, 468.70972622377525, 925.7097262237753]\n",
      "For node  3  :  [1, 365, 586.948486511216, 951.948486511216]\n",
      "For node  5  :  [4, 788, 110.33456733983222, 898.3345673398322]\n",
      "For node  8  :  [4, 720, 290.17242575573175, 1010.1724257557318]\n",
      "Expansion key=  5\n",
      "For Key  5  Child list =  [[2, 453], [4, 379], [6, 340], [9, 136], [10, 153]]\n",
      "Iteration No. :4\n",
      "Length of Forntier List: 6\n",
      "Frontier set available now: \n",
      "For node  2  :  [1, 457, 468.70972622377525, 925.7097262237753]\n",
      "For node  3  :  [1, 365, 586.948486511216, 951.948486511216]\n",
      "For node  8  :  [4, 720, 290.17242575573175, 1010.1724257557318]\n",
      "For node  6  :  [5, 1128, 388.60036560481154, 1516.6003656048115]\n",
      "For node  9  :  [5, 924, 154.2978342617793, 1078.2978342617794]\n",
      "For node  10  :  [5, 941, 0.0, 941.0]\n",
      "Expansion key=  2\n",
      "For Key  2  Child list =  [[1, 457], [5, 453], [6, 100]]\n",
      "Iteration No. :5\n",
      "Length of Forntier List: 5\n",
      "Frontier set available now: \n",
      "For node  3  :  [1, 365, 586.948486511216, 951.948486511216]\n",
      "For node  8  :  [4, 720, 290.17242575573175, 1010.1724257557318]\n",
      "For node  6  :  [5, 1128, 388.60036560481154, 1516.6003656048115]\n",
      "For node  9  :  [5, 924, 154.2978342617793, 1078.2978342617794]\n",
      "For node  10  :  [5, 941, 0.0, 941.0]\n",
      "Expansion key=  10\n",
      "Found shortest Path\n",
      "\n",
      "All frontier  {1: [0, 0, 744.0361834070435, 744.0361834070435], 2: [1, 457, 468.70972622377525, 925.7097262237753], 3: [1, 365, 586.948486511216, 951.948486511216], 4: [1, 409, 427.47991520750134, 836.4799152075013], 5: [4, 788, 110.33456733983222, 898.3345673398322], 8: [4, 720, 290.17242575573175, 1010.1724257557318], 6: [5, 1128, 388.60036560481154, 1516.6003656048115], 9: [5, 924, 154.2978342617793, 1078.2978342617794], 10: [5, 941, 0.0, 941.0]}\n"
     ]
    }
   ],
   "source": [
    "getPath(1,10)"
   ]
  },
  {
   "cell_type": "markdown",
   "metadata": {},
   "source": [
    "(3.1) Path taken to reach destination from Panaji"
   ]
  },
  {
   "cell_type": "code",
   "execution_count": 8,
   "metadata": {},
   "outputs": [],
   "source": [
    "nodenum = 10\n",
    "pathlist = [10]\n",
    "while(frontier[nodenum][0] != 0):\n",
    "    pathlist.insert(0,frontier[nodenum][0])\n",
    "    nodenum=frontier[nodenum][0]"
   ]
  },
  {
   "cell_type": "code",
   "execution_count": 9,
   "metadata": {},
   "outputs": [
    {
     "name": "stdout",
     "output_type": "stream",
     "text": [
      "The final Path taken  [1, 4, 5, 10]\n"
     ]
    }
   ],
   "source": [
    "print(\"The final Path taken \",pathlist)"
   ]
  },
  {
   "cell_type": "code",
   "execution_count": 10,
   "metadata": {},
   "outputs": [
    {
     "name": "stdout",
     "output_type": "stream",
     "text": [
      "The final Cost =  941\n"
     ]
    }
   ],
   "source": [
    "element = frontier.popitem()[1][1]\n",
    "print(\"The final Cost = \",element)"
   ]
  },
  {
   "cell_type": "markdown",
   "metadata": {},
   "source": [
    "(3.3) Total Number of nodes vistied to get this state"
   ]
  },
  {
   "cell_type": "code",
   "execution_count": 11,
   "metadata": {},
   "outputs": [
    {
     "name": "stdout",
     "output_type": "stream",
     "text": [
      "nodes visited  9\n"
     ]
    }
   ],
   "source": [
    "print(\"nodes visited \",str(len(closedList+openList)))"
   ]
  }
 ],
 "metadata": {
  "kernelspec": {
   "display_name": "Python 3",
   "language": "python",
   "name": "python3"
  },
  "language_info": {
   "codemirror_mode": {
    "name": "ipython",
    "version": 3
   },
   "file_extension": ".py",
   "mimetype": "text/x-python",
   "name": "python",
   "nbconvert_exporter": "python",
   "pygments_lexer": "ipython3",
   "version": "3.7.7"
  }
 },
 "nbformat": 4,
 "nbformat_minor": 2
}
