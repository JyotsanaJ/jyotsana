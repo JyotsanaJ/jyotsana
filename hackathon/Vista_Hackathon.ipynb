{
 "cells": [
  {
   "cell_type": "code",
   "execution_count": 25,
   "metadata": {},
   "outputs": [],
   "source": [
    "import pandas as pd\n",
    "import matplotlib.pyplot as plt\n",
    "import pickle\n",
    "import numpy as np\n",
    "import seaborn as sn\n",
    "import scipy.optimize as opt \n",
    "from sklearn import preprocessing \n",
    "from sklearn.model_selection import train_test_split, GridSearchCV, StratifiedKFold \n",
    "from sklearn.metrics import accuracy_score, confusion_matrix, precision_recall_curve, roc_auc_score, roc_curve \n",
    "from matplotlib import pyplot \n",
    "from sklearn.preprocessing import LabelEncoder\n",
    "import xgboost as xgb\n",
    "import numpy as np\n",
    "from sklearn.metrics import mean_squared_error"
   ]
  },
  {
   "cell_type": "markdown",
   "metadata": {},
   "source": [
    "# Fetch data and cleaning data"
   ]
  },
  {
   "cell_type": "code",
   "execution_count": 26,
   "metadata": {},
   "outputs": [
    {
     "name": "stdout",
     "output_type": "stream",
     "text": [
      "Shape of the dataset: (198452, 17)\n",
      "         Date          Time      EpochTime  LogOp    Pid  \\\n",
      "0  2020-07-30  22:10:27.063  1596127227063   INFO  63647   \n",
      "1  2020-07-30  22:10:27.067  1596127227067   INFO  63647   \n",
      "2  2020-07-30  22:10:27.067  1596127227067   INFO  63647   \n",
      "3  2020-07-30  22:10:27.067  1596127227067   INFO  63647   \n",
      "4  2020-07-30  22:10:27.067  1596127227067   INFO  63647   \n",
      "\n",
      "                          package  freeMemory      CpuTime  \\\n",
      "0  com.dev.kgf.ApplicationStarter   643836128  65660059000   \n",
      "1  com.dev.kgf.ApplicationStarter   643836128  65667444000   \n",
      "2  com.dev.kgf.ApplicationStarter   643836128  65667509000   \n",
      "3  com.dev.kgf.ApplicationStarter   643836128  65667551000   \n",
      "4  com.dev.kgf.ApplicationStarter   643836128  65667599000   \n",
      "\n",
      "         ProcessCpuLoad  CurrentThreadCpuTime  CurrentThreaduserTime  \\\n",
      "0                0.0625            5940593000             4914928000   \n",
      "1    0.1332972582972583            5942996000             4915261000   \n",
      "2    0.0646186440677966            5943055000             4915299000   \n",
      "3                0.0625            5943095000             4915322000   \n",
      "4   0.06380208333333333            5943143000             4915346000   \n",
      "\n",
      "   SystemLoadAverage   UserId   TimeDiff                               Error  \\\n",
      "0         3.66015625  7468783        0.0  tionServiceNotificationManagerImpl   \n",
      "1         3.66015625  7616826        4.0  tionServiceNotificationManagerImpl   \n",
      "2         3.66015625  7678594        0.0  tionServiceNotificationManagerImpl   \n",
      "3         3.66015625  7184772        0.0  tionServiceNotificationManagerImpl   \n",
      "4         3.66015625  5156930        0.0  tionServiceNotificationManagerImpl   \n",
      "\n",
      "                                             Message  Outcome  \n",
      "0  notification returned from NS  but user: 74687...       30  \n",
      "1  notification returned from NS  but user: 76168...        0  \n",
      "2  notification returned from NS  but user: 76785...        0  \n",
      "3  notification returned from NS  but user: 71847...        0  \n",
      "4  notification returned from NS  but user: 51569...        0  \n"
     ]
    },
    {
     "name": "stderr",
     "output_type": "stream",
     "text": [
      "/Users/jyotsana.j/opt/anaconda3/lib/python3.7/site-packages/IPython/core/interactiveshell.py:3072: DtypeWarning: Columns (6,7,8,9,10,11,12,16) have mixed types.Specify dtype option on import or set low_memory=False.\n",
      "  interactivity=interactivity, compiler=compiler, result=result)\n"
     ]
    }
   ],
   "source": [
    "col_list = [\"Date\",\" Time\",\" EpochTime\",\" LogOp\",\" Pid\",\" package\",\" freeMemory\",\" CpuTime\",\" ProcessCpuLoad\",\" CurrentThreadCpuTime\",\" CurrentThreaduserTime\",\" SystemLoadAverage\",\" UserId\",\" TimeDiff\",\" Error\",\" Message\",\" Outcome\"]\n",
    "df = pd.read_csv(\"final_data2.csv\", usecols=col_list)\n",
    "print('Shape of the dataset: ' + str(df.shape))\n",
    "print(df.head())"
   ]
  },
  {
   "cell_type": "code",
   "execution_count": 34,
   "metadata": {},
   "outputs": [
    {
     "data": {
      "text/plain": [
       "<matplotlib.axes._subplots.AxesSubplot at 0x1a2fe2d690>"
      ]
     },
     "execution_count": 34,
     "metadata": {},
     "output_type": "execute_result"
    },
    {
     "data": {
      "image/png": "[encoded data removed]",
      "text/plain": [
       "<Figure size 360x360 with 1 Axes>"
      ]
     },
     "metadata": {
      "needs_background": "light"
     },
     "output_type": "display_data"
    }
   ],
   "source": [
    "df[' LogOp'].hist(figsize = (5,5),xrot=90)"
   ]
  },
  {
   "cell_type": "code",
   "execution_count": null,
   "metadata": {},
   "outputs": [],
   "source": [
    "df4[''].hist(bins=18,figsize = (15,20),orientation='horizontal',yrot=45)"
   ]
  },
  {
   "cell_type": "code",
   "execution_count": 33,
   "metadata": {},
   "outputs": [
    {
     "data": {
      "text/plain": [
       "<seaborn.axisgrid.FacetGrid at 0x1a26f91a90>"
      ]
     },
     "execution_count": 33,
     "metadata": {},
     "output_type": "execute_result"
    },
    {
     "data": {
      "image/png": "[encoded data removed]",
      "text/plain": [
       "<Figure size 1440x360 with 1 Axes>"
      ]
     },
     "metadata": {
      "needs_background": "light"
     },
     "output_type": "display_data"
    }
   ],
   "source": []
  },
  {
   "cell_type": "code",
   "execution_count": null,
   "metadata": {},
   "outputs": [],
   "source": []
  },
  {
   "cell_type": "code",
   "execution_count": 3,
   "metadata": {
    "scrolled": false
   },
   "outputs": [
    {
     "data": {
      "text/html": [
       "<div>\n",
       "<style scoped>\n",
       "    .dataframe tbody tr th:only-of-type {\n",
       "        vertical-align: middle;\n",
       "    }\n",
       "\n",
       "    .dataframe tbody tr th {\n",
       "        vertical-align: top;\n",
       "    }\n",
       "\n",
       "    .dataframe thead th {\n",
       "        text-align: right;\n",
       "    }\n",
       "</style>\n",
       "<table border=\"1\" class=\"dataframe\">\n",
       "  <thead>\n",
       "    <tr style=\"text-align: right;\">\n",
       "      <th></th>\n",
       "      <th>freeMemory</th>\n",
       "      <th>CpuTime</th>\n",
       "      <th>ProcessCpuLoad</th>\n",
       "      <th>CurrentThreadCpuTime</th>\n",
       "      <th>CurrentThreaduserTime</th>\n",
       "      <th>SystemLoadAverage</th>\n",
       "      <th>TimeDiff</th>\n",
       "      <th>Outcome</th>\n",
       "    </tr>\n",
       "  </thead>\n",
       "  <tbody>\n",
       "    <tr>\n",
       "      <th>0</th>\n",
       "      <td>643836128</td>\n",
       "      <td>65660059000</td>\n",
       "      <td>0.0625</td>\n",
       "      <td>5940593000</td>\n",
       "      <td>4914928000</td>\n",
       "      <td>3.66015625</td>\n",
       "      <td>0.0</td>\n",
       "      <td>30</td>\n",
       "    </tr>\n",
       "    <tr>\n",
       "      <th>1</th>\n",
       "      <td>643836128</td>\n",
       "      <td>65667444000</td>\n",
       "      <td>0.1332972582972583</td>\n",
       "      <td>5942996000</td>\n",
       "      <td>4915261000</td>\n",
       "      <td>3.66015625</td>\n",
       "      <td>4.0</td>\n",
       "      <td>0</td>\n",
       "    </tr>\n",
       "    <tr>\n",
       "      <th>2</th>\n",
       "      <td>643836128</td>\n",
       "      <td>65667509000</td>\n",
       "      <td>0.0646186440677966</td>\n",
       "      <td>5943055000</td>\n",
       "      <td>4915299000</td>\n",
       "      <td>3.66015625</td>\n",
       "      <td>0.0</td>\n",
       "      <td>0</td>\n",
       "    </tr>\n",
       "    <tr>\n",
       "      <th>3</th>\n",
       "      <td>643836128</td>\n",
       "      <td>65667551000</td>\n",
       "      <td>0.0625</td>\n",
       "      <td>5943095000</td>\n",
       "      <td>4915322000</td>\n",
       "      <td>3.66015625</td>\n",
       "      <td>0.0</td>\n",
       "      <td>0</td>\n",
       "    </tr>\n",
       "    <tr>\n",
       "      <th>4</th>\n",
       "      <td>643836128</td>\n",
       "      <td>65667599000</td>\n",
       "      <td>0.06380208333333333</td>\n",
       "      <td>5943143000</td>\n",
       "      <td>4915346000</td>\n",
       "      <td>3.66015625</td>\n",
       "      <td>0.0</td>\n",
       "      <td>0</td>\n",
       "    </tr>\n",
       "    <tr>\n",
       "      <th>...</th>\n",
       "      <td>...</td>\n",
       "      <td>...</td>\n",
       "      <td>...</td>\n",
       "      <td>...</td>\n",
       "      <td>...</td>\n",
       "      <td>...</td>\n",
       "      <td>...</td>\n",
       "      <td>...</td>\n",
       "    </tr>\n",
       "    <tr>\n",
       "      <th>198447</th>\n",
       "      <td>72796720</td>\n",
       "      <td>7030262000</td>\n",
       "      <td>0.0631313</td>\n",
       "      <td>3153912000</td>\n",
       "      <td>2829502000</td>\n",
       "      <td>3.00537</td>\n",
       "      <td>0.0</td>\n",
       "      <td>0</td>\n",
       "    </tr>\n",
       "    <tr>\n",
       "      <th>198448</th>\n",
       "      <td>72796720</td>\n",
       "      <td>7030421000</td>\n",
       "      <td>0.0625</td>\n",
       "      <td>3154073000</td>\n",
       "      <td>2829582000</td>\n",
       "      <td>3.00537</td>\n",
       "      <td>1.0</td>\n",
       "      <td>0</td>\n",
       "    </tr>\n",
       "    <tr>\n",
       "      <th>198449</th>\n",
       "      <td>72796720</td>\n",
       "      <td>7030421000</td>\n",
       "      <td>0.0625</td>\n",
       "      <td>3154073000</td>\n",
       "      <td>2829582000</td>\n",
       "      <td>3.00537</td>\n",
       "      <td>0.0</td>\n",
       "      <td>0</td>\n",
       "    </tr>\n",
       "    <tr>\n",
       "      <th>198450</th>\n",
       "      <td>72796720</td>\n",
       "      <td>7030593000</td>\n",
       "      <td>0.0621387</td>\n",
       "      <td>3154245000</td>\n",
       "      <td>2829675000</td>\n",
       "      <td>3.00537</td>\n",
       "      <td>0.0</td>\n",
       "      <td>0</td>\n",
       "    </tr>\n",
       "    <tr>\n",
       "      <th>198451</th>\n",
       "      <td>72796720</td>\n",
       "      <td>7030593000</td>\n",
       "      <td>0.0621387</td>\n",
       "      <td>3154245000</td>\n",
       "      <td>2829675000</td>\n",
       "      <td>3.00537</td>\n",
       "      <td>0.0</td>\n",
       "      <td>0</td>\n",
       "    </tr>\n",
       "  </tbody>\n",
       "</table>\n",
       "<p>198452 rows × 8 columns</p>\n",
       "</div>"
      ],
      "text/plain": [
       "       freeMemory      CpuTime        ProcessCpuLoad CurrentThreadCpuTime  \\\n",
       "0       643836128  65660059000                0.0625           5940593000   \n",
       "1       643836128  65667444000    0.1332972582972583           5942996000   \n",
       "2       643836128  65667509000    0.0646186440677966           5943055000   \n",
       "3       643836128  65667551000                0.0625           5943095000   \n",
       "4       643836128  65667599000   0.06380208333333333           5943143000   \n",
       "...           ...          ...                   ...                  ...   \n",
       "198447   72796720   7030262000             0.0631313           3153912000   \n",
       "198448   72796720   7030421000                0.0625           3154073000   \n",
       "198449   72796720   7030421000                0.0625           3154073000   \n",
       "198450   72796720   7030593000             0.0621387           3154245000   \n",
       "198451   72796720   7030593000             0.0621387           3154245000   \n",
       "\n",
       "       CurrentThreaduserTime SystemLoadAverage  TimeDiff Outcome  \n",
       "0                 4914928000        3.66015625       0.0      30  \n",
       "1                 4915261000        3.66015625       4.0       0  \n",
       "2                 4915299000        3.66015625       0.0       0  \n",
       "3                 4915322000        3.66015625       0.0       0  \n",
       "4                 4915346000        3.66015625       0.0       0  \n",
       "...                      ...               ...       ...     ...  \n",
       "198447            2829502000           3.00537       0.0       0  \n",
       "198448            2829582000           3.00537       1.0       0  \n",
       "198449            2829582000           3.00537       0.0       0  \n",
       "198450            2829675000           3.00537       0.0       0  \n",
       "198451            2829675000           3.00537       0.0       0  \n",
       "\n",
       "[198452 rows x 8 columns]"
      ]
     },
     "execution_count": 3,
     "metadata": {},
     "output_type": "execute_result"
    }
   ],
   "source": [
    "df=df.rename(columns=lambda x: x.strip())\n",
    "df_temp=df.drop(columns=['EpochTime','Date','Time','Pid','package','UserId','Error',\"Message\"])\n",
    "df=df.drop(columns=['EpochTime','LogOp','Date','Time','Pid','package','UserId','Error',\"Message\"])\n",
    "df"
   ]
  },
  {
   "cell_type": "code",
   "execution_count": 4,
   "metadata": {},
   "outputs": [],
   "source": [
    "df.replace(' ', np.nan, inplace= True)\n",
    "df.dropna(inplace=True)"
   ]
  },
  {
   "cell_type": "code",
   "execution_count": 5,
   "metadata": {},
   "outputs": [],
   "source": [
    "for col in list(df.columns.values):\n",
    "    df[col]=pd.to_numeric(df[col])"
   ]
  },
  {
   "cell_type": "code",
   "execution_count": 6,
   "metadata": {},
   "outputs": [],
   "source": [
    "for col in list(df.columns.values):\n",
    "    df[col]=df[col].interpolate(method='pad')"
   ]
  },
  {
   "cell_type": "code",
   "execution_count": 7,
   "metadata": {},
   "outputs": [
    {
     "name": "stdout",
     "output_type": "stream",
     "text": [
      "   freeMemory      CpuTime  ProcessCpuLoad  CurrentThreadCpuTime  \\\n",
      "0   643836128  65660059000        0.062500            5940593000   \n",
      "1   643836128  65667444000        0.133297            5942996000   \n",
      "2   643836128  65667509000        0.064619            5943055000   \n",
      "3   643836128  65667551000        0.062500            5943095000   \n",
      "4   643836128  65667599000        0.063802            5943143000   \n",
      "\n",
      "   CurrentThreaduserTime  SystemLoadAverage  TimeDiff  Outcome  \n",
      "0             4914928000           3.660156       0.0     30.0  \n",
      "1             4915261000           3.660156       4.0      0.0  \n",
      "2             4915299000           3.660156       0.0      0.0  \n",
      "3             4915322000           3.660156       0.0      0.0  \n",
      "4             4915346000           3.660156       0.0      0.0  \n",
      "----------------------------------------------------------\n",
      "<class 'pandas.core.frame.DataFrame'>\n",
      "Int64Index: 196195 entries, 0 to 198451\n",
      "Data columns (total 8 columns):\n",
      " #   Column                 Non-Null Count   Dtype  \n",
      "---  ------                 --------------   -----  \n",
      " 0   freeMemory             196195 non-null  int64  \n",
      " 1   CpuTime                196195 non-null  int64  \n",
      " 2   ProcessCpuLoad         196195 non-null  float64\n",
      " 3   CurrentThreadCpuTime   196195 non-null  int64  \n",
      " 4   CurrentThreaduserTime  196195 non-null  int64  \n",
      " 5   SystemLoadAverage      196195 non-null  float64\n",
      " 6   TimeDiff               196195 non-null  float64\n",
      " 7   Outcome                196195 non-null  float64\n",
      "dtypes: float64(4), int64(4)\n",
      "memory usage: 13.5 MB\n",
      "None\n"
     ]
    }
   ],
   "source": [
    "print(df.head())\n",
    "print('----------------------------------------------------------')\n",
    "print(df.info())"
   ]
  },
  {
   "cell_type": "markdown",
   "metadata": {},
   "source": [
    "# Data Preprocessing"
   ]
  },
  {
   "cell_type": "code",
   "execution_count": 8,
   "metadata": {},
   "outputs": [],
   "source": [
    "min_max_scaler = preprocessing.MinMaxScaler()"
   ]
  },
  {
   "cell_type": "code",
   "execution_count": 9,
   "metadata": {},
   "outputs": [],
   "source": [
    "y=pd.DataFrame(df[\"Outcome\"])\n",
    "X=df.drop(columns=['Outcome'])"
   ]
  },
  {
   "cell_type": "code",
   "execution_count": 10,
   "metadata": {},
   "outputs": [
    {
     "data": {
      "text/plain": [
       "array([ 30,   0,  90, 100,  60])"
      ]
     },
     "execution_count": 10,
     "metadata": {},
     "output_type": "execute_result"
    }
   ],
   "source": [
    "y=y.astype(int)\n",
    "y.Outcome.unique()"
   ]
  },
  {
   "cell_type": "code",
   "execution_count": 11,
   "metadata": {},
   "outputs": [],
   "source": [
    "x_trainset, x_testset, y_trainset, y_testset = train_test_split(X,y,stratify=y, test_size=0.3, random_state=0)"
   ]
  },
  {
   "cell_type": "code",
   "execution_count": 12,
   "metadata": {},
   "outputs": [],
   "source": [
    "num_cols=['freeMemory','CpuTime','ProcessCpuLoad','CurrentThreadCpuTime','CurrentThreaduserTime','SystemLoadAverage','TimeDiff']\n",
    "X_scaled = min_max_scaler.fit(x_trainset)"
   ]
  },
  {
   "cell_type": "code",
   "execution_count": 13,
   "metadata": {},
   "outputs": [],
   "source": [
    "new_df = X_scaled.transform(x_trainset)\n",
    "x_trainset = pd.DataFrame(new_df)\n",
    "new_df1 = X_scaled.transform(x_testset)\n",
    "x_testset = pd.DataFrame(new_df1)"
   ]
  },
  {
   "cell_type": "code",
   "execution_count": 14,
   "metadata": {},
   "outputs": [
    {
     "name": "stderr",
     "output_type": "stream",
     "text": [
      "/Users/jyotsana.j/opt/anaconda3/lib/python3.7/site-packages/ipykernel_launcher.py:1: SettingWithCopyWarning: \n",
      "A value is trying to be set on a copy of a slice from a DataFrame.\n",
      "Try using .loc[row_indexer,col_indexer] = value instead\n",
      "\n",
      "See the caveats in the documentation: https://pandas.pydata.org/pandas-docs/stable/user_guide/indexing.html#returning-a-view-versus-a-copy\n",
      "  \"\"\"Entry point for launching an IPython kernel.\n",
      "/Users/jyotsana.j/opt/anaconda3/lib/python3.7/site-packages/ipykernel_launcher.py:2: SettingWithCopyWarning: \n",
      "A value is trying to be set on a copy of a slice from a DataFrame.\n",
      "Try using .loc[row_indexer,col_indexer] = value instead\n",
      "\n",
      "See the caveats in the documentation: https://pandas.pydata.org/pandas-docs/stable/user_guide/indexing.html#returning-a-view-versus-a-copy\n",
      "  \n"
     ]
    }
   ],
   "source": [
    "y_trainset['Outcome']=y_trainset['Outcome'].replace(np.nan, 0)\n",
    "y_testset['Outcome']=y_testset['Outcome'].replace(np.nan, 0)"
   ]
  },
  {
   "cell_type": "code",
   "execution_count": null,
   "metadata": {},
   "outputs": [],
   "source": []
  },
  {
   "cell_type": "code",
   "execution_count": 15,
   "metadata": {},
   "outputs": [
    {
     "data": {
      "text/html": [
       "<div>\n",
       "<style scoped>\n",
       "    .dataframe tbody tr th:only-of-type {\n",
       "        vertical-align: middle;\n",
       "    }\n",
       "\n",
       "    .dataframe tbody tr th {\n",
       "        vertical-align: top;\n",
       "    }\n",
       "\n",
       "    .dataframe thead th {\n",
       "        text-align: right;\n",
       "    }\n",
       "</style>\n",
       "<table border=\"1\" class=\"dataframe\">\n",
       "  <thead>\n",
       "    <tr style=\"text-align: right;\">\n",
       "      <th></th>\n",
       "      <th>0</th>\n",
       "      <th>1</th>\n",
       "      <th>2</th>\n",
       "      <th>3</th>\n",
       "      <th>4</th>\n",
       "      <th>5</th>\n",
       "      <th>6</th>\n",
       "    </tr>\n",
       "  </thead>\n",
       "  <tbody>\n",
       "    <tr>\n",
       "      <th>count</th>\n",
       "      <td>137336.000000</td>\n",
       "      <td>137336.000000</td>\n",
       "      <td>137336.000000</td>\n",
       "      <td>137336.000000</td>\n",
       "      <td>137336.000000</td>\n",
       "      <td>137336.000000</td>\n",
       "      <td>137336.000000</td>\n",
       "    </tr>\n",
       "    <tr>\n",
       "      <th>mean</th>\n",
       "      <td>0.433114</td>\n",
       "      <td>0.184220</td>\n",
       "      <td>0.009375</td>\n",
       "      <td>0.600721</td>\n",
       "      <td>0.642557</td>\n",
       "      <td>0.621912</td>\n",
       "      <td>0.000310</td>\n",
       "    </tr>\n",
       "    <tr>\n",
       "      <th>std</th>\n",
       "      <td>0.214076</td>\n",
       "      <td>0.069374</td>\n",
       "      <td>0.026794</td>\n",
       "      <td>0.168672</td>\n",
       "      <td>0.175774</td>\n",
       "      <td>0.196059</td>\n",
       "      <td>0.009416</td>\n",
       "    </tr>\n",
       "    <tr>\n",
       "      <th>min</th>\n",
       "      <td>0.000000</td>\n",
       "      <td>0.000000</td>\n",
       "      <td>0.000000</td>\n",
       "      <td>0.000000</td>\n",
       "      <td>0.000000</td>\n",
       "      <td>0.000000</td>\n",
       "      <td>0.000000</td>\n",
       "    </tr>\n",
       "    <tr>\n",
       "      <th>25%</th>\n",
       "      <td>0.250978</td>\n",
       "      <td>0.141551</td>\n",
       "      <td>0.003148</td>\n",
       "      <td>0.477099</td>\n",
       "      <td>0.501679</td>\n",
       "      <td>0.435603</td>\n",
       "      <td>0.000000</td>\n",
       "    </tr>\n",
       "    <tr>\n",
       "      <th>50%</th>\n",
       "      <td>0.418117</td>\n",
       "      <td>0.185474</td>\n",
       "      <td>0.003256</td>\n",
       "      <td>0.565717</td>\n",
       "      <td>0.596659</td>\n",
       "      <td>0.613620</td>\n",
       "      <td>0.000000</td>\n",
       "    </tr>\n",
       "    <tr>\n",
       "      <th>75%</th>\n",
       "      <td>0.585848</td>\n",
       "      <td>0.224862</td>\n",
       "      <td>0.006296</td>\n",
       "      <td>0.730764</td>\n",
       "      <td>0.803988</td>\n",
       "      <td>0.753425</td>\n",
       "      <td>0.000000</td>\n",
       "    </tr>\n",
       "    <tr>\n",
       "      <th>max</th>\n",
       "      <td>1.000000</td>\n",
       "      <td>1.000000</td>\n",
       "      <td>1.000000</td>\n",
       "      <td>1.000000</td>\n",
       "      <td>1.000000</td>\n",
       "      <td>1.000000</td>\n",
       "      <td>1.000000</td>\n",
       "    </tr>\n",
       "  </tbody>\n",
       "</table>\n",
       "</div>"
      ],
      "text/plain": [
       "                   0              1              2              3  \\\n",
       "count  137336.000000  137336.000000  137336.000000  137336.000000   \n",
       "mean        0.433114       0.184220       0.009375       0.600721   \n",
       "std         0.214076       0.069374       0.026794       0.168672   \n",
       "min         0.000000       0.000000       0.000000       0.000000   \n",
       "25%         0.250978       0.141551       0.003148       0.477099   \n",
       "50%         0.418117       0.185474       0.003256       0.565717   \n",
       "75%         0.585848       0.224862       0.006296       0.730764   \n",
       "max         1.000000       1.000000       1.000000       1.000000   \n",
       "\n",
       "                   4              5              6  \n",
       "count  137336.000000  137336.000000  137336.000000  \n",
       "mean        0.642557       0.621912       0.000310  \n",
       "std         0.175774       0.196059       0.009416  \n",
       "min         0.000000       0.000000       0.000000  \n",
       "25%         0.501679       0.435603       0.000000  \n",
       "50%         0.596659       0.613620       0.000000  \n",
       "75%         0.803988       0.753425       0.000000  \n",
       "max         1.000000       1.000000       1.000000  "
      ]
     },
     "execution_count": 15,
     "metadata": {},
     "output_type": "execute_result"
    }
   ],
   "source": [
    "x_trainset.describe()"
   ]
  },
  {
   "cell_type": "code",
   "execution_count": 16,
   "metadata": {},
   "outputs": [
    {
     "data": {
      "text/plain": [
       "array([  0,  90,  30,  60, 100])"
      ]
     },
     "execution_count": 16,
     "metadata": {},
     "output_type": "execute_result"
    }
   ],
   "source": [
    "y_trainset.Outcome.unique()"
   ]
  },
  {
   "cell_type": "markdown",
   "metadata": {},
   "source": [
    "# Logistic Regression"
   ]
  },
  {
   "cell_type": "code",
   "execution_count": 22,
   "metadata": {},
   "outputs": [],
   "source": [
    "from sklearn.linear_model import LogisticRegression\n",
    "clf = LogisticRegression(random_state=4).fit(x_trainset, y_trainset['Outcome'])"
   ]
  },
  {
   "cell_type": "code",
   "execution_count": 23,
   "metadata": {},
   "outputs": [
    {
     "name": "stdout",
     "output_type": "stream",
     "text": [
      "RMSE: 1.929367\n"
     ]
    }
   ],
   "source": [
    "y_test_pred1=clf.predict(x_testset)\n",
    "rmse = np.sqrt(mean_squared_error(y_testset, y_test_pred1))\n",
    "print(\"RMSE: %f\" % (rmse))"
   ]
  },
  {
   "cell_type": "code",
   "execution_count": 24,
   "metadata": {},
   "outputs": [
    {
     "name": "stdout",
     "output_type": "stream",
     "text": [
      "[[58780     0     0     1     0]\n",
      " [    6     2     0     0     0]\n",
      " [    1     0     0     0     0]\n",
      " [   20     0     0    45     0]\n",
      " [    4     0     0     0     0]]\n",
      "              precision    recall  f1-score   support\n",
      "\n",
      "           0       1.00      1.00      1.00     58781\n",
      "          30       1.00      0.25      0.40         8\n",
      "          60       0.00      0.00      0.00         1\n",
      "          90       0.98      0.69      0.81        65\n",
      "         100       0.00      0.00      0.00         4\n",
      "\n",
      "    accuracy                           1.00     58859\n",
      "   macro avg       0.60      0.39      0.44     58859\n",
      "weighted avg       1.00      1.00      1.00     58859\n",
      "\n",
      "0.9994563278343159\n"
     ]
    },
    {
     "name": "stderr",
     "output_type": "stream",
     "text": [
      "/Users/jyotsana.j/opt/anaconda3/lib/python3.7/site-packages/sklearn/metrics/_classification.py:1221: UndefinedMetricWarning: Precision and F-score are ill-defined and being set to 0.0 in labels with no predicted samples. Use `zero_division` parameter to control this behavior.\n",
      "  _warn_prf(average, modifier, msg_start, len(result))\n"
     ]
    }
   ],
   "source": [
    "from sklearn.metrics import classification_report, confusion_matrix, accuracy_score\n",
    "\n",
    "print(confusion_matrix(y_testset,y_test_pred1,labels=[0, 30, 60, 90,100]))\n",
    "print(classification_report(y_testset,y_test_pred1,labels=[0, 30, 60, 90,100]))\n",
    "print(accuracy_score(y_testset, y_test_pred1))"
   ]
  },
  {
   "cell_type": "code",
   "execution_count": null,
   "metadata": {},
   "outputs": [],
   "source": []
  },
  {
   "cell_type": "code",
   "execution_count": null,
   "metadata": {},
   "outputs": [],
   "source": []
  },
  {
   "cell_type": "markdown",
   "metadata": {},
   "source": [
    "# XGBoost"
   ]
  },
  {
   "cell_type": "code",
   "execution_count": null,
   "metadata": {
    "scrolled": true
   },
   "outputs": [],
   "source": [
    "model1 = xgb.XGBRegressor(objective = 'reg:squarederror', learning_rate=0.8,\n",
    "                           alpha=10, subsample=0.8, colsample_bytree=1, n_estimators = 10, max_depth = 5)\n",
    "model1.fit(x_trainset,y_trainset)"
   ]
  },
  {
   "cell_type": "code",
   "execution_count": null,
   "metadata": {},
   "outputs": [],
   "source": [
    "y_test_pred_xg = model1.predict(x_testset)\n",
    "rmse = np.sqrt(mean_squared_error(y_testset, y_test_pred_xg))\n",
    "print(\"RMSE: %f\" % (rmse))"
   ]
  },
  {
   "cell_type": "code",
   "execution_count": null,
   "metadata": {},
   "outputs": [],
   "source": [
    "out=x_testset\n",
    "out['actual_output']=y_testset['Outcome']\n",
    "out['logistic_output']=pd.DataFrame(y_test_pred1.reshape(-1,1))\n",
    "out['xg_output']=pd.DataFrame(y_test_pred_xg.reshape(-1,1))"
   ]
  },
  {
   "cell_type": "code",
   "execution_count": null,
   "metadata": {},
   "outputs": [],
   "source": [
    "out.head()"
   ]
  },
  {
   "cell_type": "code",
   "execution_count": null,
   "metadata": {},
   "outputs": [],
   "source": [
    "params = {\"objective\":\"reg:linear\",'colsample_bytree': 0.3,'learning_rate': 0.1,\n",
    "                'max_depth': 5, 'alpha': 10}"
   ]
  },
  {
   "cell_type": "code",
   "execution_count": null,
   "metadata": {},
   "outputs": [],
   "source": [
    "pickle.dump(model1,open('xgb_model_new.pkl','wb'))\n",
    "pickle.dump(X_scaled,open('minMax.pkl','wb'))"
   ]
  },
  {
   "cell_type": "code",
   "execution_count": null,
   "metadata": {},
   "outputs": [],
   "source": [
    "pickle.dump(clf,open('logistic_regression.pkl','wb'))"
   ]
  },
  {
   "cell_type": "code",
   "execution_count": null,
   "metadata": {},
   "outputs": [],
   "source": [
    "out.head()"
   ]
  },
  {
   "cell_type": "code",
   "execution_count": null,
   "metadata": {},
   "outputs": [],
   "source": [
    "from sklearn.metrics import classification_report, confusion_matrix, accuracy_score\n",
    "\n",
    "print(confusion_matrix(y_testset,y_pred,labels=[0, 30, 60, 90,100]))\n",
    "print(classification_report(y_testset,y_pred,labels=[0, 30, 60, 90,100]))\n",
    "print(accuracy_score(y_testset, y_pred))"
   ]
  },
  {
   "cell_type": "code",
   "execution_count": null,
   "metadata": {},
   "outputs": [],
   "source": []
  },
  {
   "cell_type": "code",
   "execution_count": null,
   "metadata": {},
   "outputs": [],
   "source": []
  },
  {
   "cell_type": "code",
   "execution_count": null,
   "metadata": {},
   "outputs": [],
   "source": [
    "newData=[['348343928', '7943673000', '0.06395348837209303', '4189810000', '3891393000', '3.01318359375', 0]]"
   ]
  },
  {
   "cell_type": "code",
   "execution_count": null,
   "metadata": {},
   "outputs": [],
   "source": [
    "df = pd.DataFrame(newData, columns=['freeMemory', 'CpuTime', 'ProcessCpuLoad', 'CurrentThreadCpuTime','CurrentThreaduserTime', 'SystemLoadAverage', 'TimeDiff'])\n",
    "for col in df.columns:\n",
    "    df[col] = pd.to_numeric(df[col])\n",
    "num_cols = ['freeMemory', 'CpuTime', 'ProcessCpuLoad', 'CurrentThreadCpuTime', 'CurrentThreaduserTime','SystemLoadAverage', 'TimeDiff']\n",
    "df[num_cols] = df[num_cols].values\n",
    "new_df = X_scaled.transform(df)\n",
    "new_df= pd.DataFrame(new_df)\n",
    "output = model1.predict(new_df)\n",
    "output2=clf.predict(new_df)"
   ]
  },
  {
   "cell_type": "code",
   "execution_count": null,
   "metadata": {},
   "outputs": [],
   "source": [
    "output"
   ]
  },
  {
   "cell_type": "code",
   "execution_count": null,
   "metadata": {},
   "outputs": [],
   "source": [
    "output2"
   ]
  },
  {
   "cell_type": "code",
   "execution_count": null,
   "metadata": {},
   "outputs": [],
   "source": [
    "from sklearn import linear_model\n",
    "from sklearn.metrics import r2_score\n",
    "import statsmodels.api as sm\n",
    "import matplotlib.pyplot as plt"
   ]
  },
  {
   "cell_type": "code",
   "execution_count": null,
   "metadata": {},
   "outputs": [],
   "source": [
    "df.head()"
   ]
  },
  {
   "cell_type": "code",
   "execution_count": null,
   "metadata": {},
   "outputs": [],
   "source": [
    "from sklearn.preprocessing import StandardScaler\n",
    "from sklearn.ensemble import RandomForestClassifier\n",
    "from sklearn.metrics import confusion_matrix\n"
   ]
  },
  {
   "cell_type": "code",
   "execution_count": null,
   "metadata": {},
   "outputs": [],
   "source": [
    "factor = pd.factorize(df['Outcome'])\n",
    "df.Outcome = factor[0]\n",
    "definitions = factor[1]\n",
    "print(df.Outcome.head())\n",
    "print(definitions)\n",
    "df.Outcome.unique()"
   ]
  },
  {
   "cell_type": "code",
   "execution_count": null,
   "metadata": {},
   "outputs": [],
   "source": [
    "classifier = RandomForestClassifier(n_estimators = 10, criterion = 'entropy', random_state = 42)\n",
    "classifier.fit(x_trainset, y_trainset.values.ravel())"
   ]
  },
  {
   "cell_type": "code",
   "execution_count": null,
   "metadata": {},
   "outputs": [],
   "source": [
    "y_pred = classifier.predict(x_testset)"
   ]
  },
  {
   "cell_type": "code",
   "execution_count": null,
   "metadata": {},
   "outputs": [],
   "source": [
    "reversefactor = dict(zip(range(5),definitions))"
   ]
  },
  {
   "cell_type": "code",
   "execution_count": null,
   "metadata": {},
   "outputs": [],
   "source": [
    "y_testset = np.vectorize(reversefactor.get)(y_testset)"
   ]
  },
  {
   "cell_type": "code",
   "execution_count": null,
   "metadata": {},
   "outputs": [],
   "source": [
    "y_pred = np.vectorize(reversefactor.get)(y_pred)"
   ]
  },
  {
   "cell_type": "code",
   "execution_count": null,
   "metadata": {},
   "outputs": [],
   "source": [
    "from sklearn.metrics import classification_report, confusion_matrix, accuracy_score\n",
    "\n",
    "print(confusion_matrix(y_testset,y_pred,labels=[0, 30, 60, 90,100]))\n",
    "print(classification_report(y_testset,y_pred,labels=[0, 30, 60, 90,100]))\n",
    "print(accuracy_score(y_testset, y_pred))"
   ]
  },
  {
   "cell_type": "code",
   "execution_count": null,
   "metadata": {},
   "outputs": [],
   "source": [
    "from sklearn.metrics import confusion_matrix\n",
    "import matplotlib.pyplot as plt \n",
    "labels = ['0','30','60','90','100']\n",
    "cm = confusion_matrix(y_testset,y_pred)\n",
    "print(cm)\n",
    "fig = plt.figure()\n",
    "ax = fig.add_subplot(111)\n",
    "cax = ax.matshow(cm)\n",
    "plt.title('Confusion matrix of the classifier')\n",
    "fig.colorbar(cax)\n",
    "ax.set_xticklabels([''] + labels)\n",
    "ax.set_yticklabels([''] + labels)\n",
    "plt.xlabel('Predicted')\n",
    "plt.ylabel('True')\n",
    "plt.show()"
   ]
  },
  {
   "cell_type": "code",
   "execution_count": null,
   "metadata": {},
   "outputs": [],
   "source": [
    "import pickle\n",
    "pickle.dump(classifier,open('random_forest.pkl','wb'))"
   ]
  },
  {
   "cell_type": "code",
   "execution_count": null,
   "metadata": {},
   "outputs": [],
   "source": []
  },
  {
   "cell_type": "code",
   "execution_count": null,
   "metadata": {},
   "outputs": [],
   "source": []
  },
  {
   "cell_type": "code",
   "execution_count": null,
   "metadata": {},
   "outputs": [],
   "source": []
  },
  {
   "cell_type": "code",
   "execution_count": null,
   "metadata": {},
   "outputs": [],
   "source": []
  },
  {
   "cell_type": "code",
   "execution_count": null,
   "metadata": {},
   "outputs": [],
   "source": []
  },
  {
   "cell_type": "code",
   "execution_count": null,
   "metadata": {},
   "outputs": [],
   "source": [
    "reg = linear_model.LinearRegression()\n",
    "reg.fit(x_trainset,y_trainset)"
   ]
  },
  {
   "cell_type": "code",
   "execution_count": null,
   "metadata": {},
   "outputs": [],
   "source": [
    "y_test_pred_reg = reg.predict(x_testset)"
   ]
  },
  {
   "cell_type": "code",
   "execution_count": null,
   "metadata": {},
   "outputs": [],
   "source": [
    "rmse_reg = np.sqrt(mean_squared_error(y_testset, y_test_pred_reg))"
   ]
  },
  {
   "cell_type": "code",
   "execution_count": null,
   "metadata": {},
   "outputs": [],
   "source": [
    "print(\"RMSE: %f\" % (rmse_reg))"
   ]
  },
  {
   "cell_type": "code",
   "execution_count": null,
   "metadata": {},
   "outputs": [],
   "source": [
    "from statsmodels.api import OLS\n",
    "OLS(y_trainset,x_trainset).fit().summary()"
   ]
  },
  {
   "cell_type": "code",
   "execution_count": null,
   "metadata": {},
   "outputs": [],
   "source": []
  },
  {
   "cell_type": "code",
   "execution_count": null,
   "metadata": {},
   "outputs": [],
   "source": []
  },
  {
   "cell_type": "code",
   "execution_count": null,
   "metadata": {},
   "outputs": [],
   "source": []
  }
 ],
 "metadata": {
  "kernelspec": {
   "display_name": "Python 3",
   "language": "python",
   "name": "python3"
  },
  "language_info": {
   "codemirror_mode": {
    "name": "ipython",
    "version": 3
   },
   "file_extension": ".py",
   "mimetype": "text/x-python",
   "name": "python",
   "nbconvert_exporter": "python",
   "pygments_lexer": "ipython3",
   "version": "3.7.7"
  }
 },
 "nbformat": 4,
 "nbformat_minor": 2
}
