{
 "cells": [
  {
   "cell_type": "code",
   "execution_count": 1,
   "metadata": {},
   "outputs": [
    {
     "name": "stdout",
     "output_type": "stream",
     "text": [
      "Libraries Imported\n"
     ]
    }
   ],
   "source": [
    "import numpy as np\n",
    "import pandas as pd\n",
    "from sklearn.model_selection import train_test_split\n",
    "from sklearn.preprocessing import StandardScaler\n",
    "from sklearn.ensemble import RandomForestClassifier\n",
    "from sklearn.metrics import confusion_matrix\n",
    "from sklearn import preprocessing \n",
    "\n",
    "print('Libraries Imported')"
   ]
  },
  {
   "cell_type": "code",
   "execution_count": 2,
   "metadata": {},
   "outputs": [
    {
     "name": "stdout",
     "output_type": "stream",
     "text": [
      "Shape of the dataset: (198452, 17)\n",
      "         Date          Time      EpochTime  LogOp    Pid  \\\n",
      "0  2020-07-30  22:10:27.063  1596127227063   INFO  63647   \n",
      "1  2020-07-30  22:10:27.067  1596127227067   INFO  63647   \n",
      "2  2020-07-30  22:10:27.067  1596127227067   INFO  63647   \n",
      "3  2020-07-30  22:10:27.067  1596127227067   INFO  63647   \n",
      "4  2020-07-30  22:10:27.067  1596127227067   INFO  63647   \n",
      "\n",
      "                          package  freeMemory      CpuTime  \\\n",
      "0  com.dev.kgf.ApplicationStarter   643836128  65660059000   \n",
      "1  com.dev.kgf.ApplicationStarter   643836128  65667444000   \n",
      "2  com.dev.kgf.ApplicationStarter   643836128  65667509000   \n",
      "3  com.dev.kgf.ApplicationStarter   643836128  65667551000   \n",
      "4  com.dev.kgf.ApplicationStarter   643836128  65667599000   \n",
      "\n",
      "         ProcessCpuLoad  CurrentThreadCpuTime  CurrentThreaduserTime  \\\n",
      "0                0.0625            5940593000             4914928000   \n",
      "1    0.1332972582972583            5942996000             4915261000   \n",
      "2    0.0646186440677966            5943055000             4915299000   \n",
      "3                0.0625            5943095000             4915322000   \n",
      "4   0.06380208333333333            5943143000             4915346000   \n",
      "\n",
      "   SystemLoadAverage   UserId   TimeDiff                               Error  \\\n",
      "0         3.66015625  7468783        0.0  tionServiceNotificationManagerImpl   \n",
      "1         3.66015625  7616826        4.0  tionServiceNotificationManagerImpl   \n",
      "2         3.66015625  7678594        0.0  tionServiceNotificationManagerImpl   \n",
      "3         3.66015625  7184772        0.0  tionServiceNotificationManagerImpl   \n",
      "4         3.66015625  5156930        0.0  tionServiceNotificationManagerImpl   \n",
      "\n",
      "                                             Message  Outcome  \n",
      "0  notification returned from NS  but user: 74687...       30  \n",
      "1  notification returned from NS  but user: 76168...        0  \n",
      "2  notification returned from NS  but user: 76785...        0  \n",
      "3  notification returned from NS  but user: 71847...        0  \n",
      "4  notification returned from NS  but user: 51569...        0  \n"
     ]
    },
    {
     "name": "stderr",
     "output_type": "stream",
     "text": [
      "/Users/jyotsana.j/opt/anaconda3/lib/python3.7/site-packages/IPython/core/interactiveshell.py:3072: DtypeWarning: Columns (6,7,8,9,10,11,12,16) have mixed types.Specify dtype option on import or set low_memory=False.\n",
      "  interactivity=interactivity, compiler=compiler, result=result)\n"
     ]
    }
   ],
   "source": [
    "col_list = [\"Date\",\" Time\",\" EpochTime\",\" LogOp\",\" Pid\",\" package\",\" freeMemory\",\" CpuTime\",\" ProcessCpuLoad\",\" CurrentThreadCpuTime\",\" CurrentThreaduserTime\",\" SystemLoadAverage\",\" UserId\",\" TimeDiff\",\" Error\",\" Message\",\" Outcome\"]\n",
    "dataset = pd.read_csv(\"final_data2.csv\", usecols=col_list)\n",
    "print('Shape of the dataset: ' + str(dataset.shape))\n",
    "print(dataset.head())"
   ]
  },
  {
   "cell_type": "code",
   "execution_count": 3,
   "metadata": {
    "scrolled": true
   },
   "outputs": [
    {
     "data": {
      "text/html": [
       "<div>\n",
       "<style scoped>\n",
       "    .dataframe tbody tr th:only-of-type {\n",
       "        vertical-align: middle;\n",
       "    }\n",
       "\n",
       "    .dataframe tbody tr th {\n",
       "        vertical-align: top;\n",
       "    }\n",
       "\n",
       "    .dataframe thead th {\n",
       "        text-align: right;\n",
       "    }\n",
       "</style>\n",
       "<table border=\"1\" class=\"dataframe\">\n",
       "  <thead>\n",
       "    <tr style=\"text-align: right;\">\n",
       "      <th></th>\n",
       "      <th>freeMemory</th>\n",
       "      <th>CpuTime</th>\n",
       "      <th>ProcessCpuLoad</th>\n",
       "      <th>CurrentThreadCpuTime</th>\n",
       "      <th>CurrentThreaduserTime</th>\n",
       "      <th>SystemLoadAverage</th>\n",
       "      <th>TimeDiff</th>\n",
       "      <th>Outcome</th>\n",
       "    </tr>\n",
       "  </thead>\n",
       "  <tbody>\n",
       "    <tr>\n",
       "      <th>0</th>\n",
       "      <td>643836128</td>\n",
       "      <td>65660059000</td>\n",
       "      <td>0.0625</td>\n",
       "      <td>5940593000</td>\n",
       "      <td>4914928000</td>\n",
       "      <td>3.66015625</td>\n",
       "      <td>0.0</td>\n",
       "      <td>30</td>\n",
       "    </tr>\n",
       "    <tr>\n",
       "      <th>1</th>\n",
       "      <td>643836128</td>\n",
       "      <td>65667444000</td>\n",
       "      <td>0.1332972582972583</td>\n",
       "      <td>5942996000</td>\n",
       "      <td>4915261000</td>\n",
       "      <td>3.66015625</td>\n",
       "      <td>4.0</td>\n",
       "      <td>0</td>\n",
       "    </tr>\n",
       "    <tr>\n",
       "      <th>2</th>\n",
       "      <td>643836128</td>\n",
       "      <td>65667509000</td>\n",
       "      <td>0.0646186440677966</td>\n",
       "      <td>5943055000</td>\n",
       "      <td>4915299000</td>\n",
       "      <td>3.66015625</td>\n",
       "      <td>0.0</td>\n",
       "      <td>0</td>\n",
       "    </tr>\n",
       "    <tr>\n",
       "      <th>3</th>\n",
       "      <td>643836128</td>\n",
       "      <td>65667551000</td>\n",
       "      <td>0.0625</td>\n",
       "      <td>5943095000</td>\n",
       "      <td>4915322000</td>\n",
       "      <td>3.66015625</td>\n",
       "      <td>0.0</td>\n",
       "      <td>0</td>\n",
       "    </tr>\n",
       "    <tr>\n",
       "      <th>4</th>\n",
       "      <td>643836128</td>\n",
       "      <td>65667599000</td>\n",
       "      <td>0.06380208333333333</td>\n",
       "      <td>5943143000</td>\n",
       "      <td>4915346000</td>\n",
       "      <td>3.66015625</td>\n",
       "      <td>0.0</td>\n",
       "      <td>0</td>\n",
       "    </tr>\n",
       "  </tbody>\n",
       "</table>\n",
       "</div>"
      ],
      "text/plain": [
       "  freeMemory      CpuTime        ProcessCpuLoad CurrentThreadCpuTime  \\\n",
       "0  643836128  65660059000                0.0625           5940593000   \n",
       "1  643836128  65667444000    0.1332972582972583           5942996000   \n",
       "2  643836128  65667509000    0.0646186440677966           5943055000   \n",
       "3  643836128  65667551000                0.0625           5943095000   \n",
       "4  643836128  65667599000   0.06380208333333333           5943143000   \n",
       "\n",
       "  CurrentThreaduserTime SystemLoadAverage  TimeDiff Outcome  \n",
       "0            4914928000        3.66015625       0.0      30  \n",
       "1            4915261000        3.66015625       4.0       0  \n",
       "2            4915299000        3.66015625       0.0       0  \n",
       "3            4915322000        3.66015625       0.0       0  \n",
       "4            4915346000        3.66015625       0.0       0  "
      ]
     },
     "execution_count": 3,
     "metadata": {},
     "output_type": "execute_result"
    }
   ],
   "source": [
    "dataset=dataset.rename(columns=lambda x: x.strip())\n",
    "dataset=dataset.drop(columns=['EpochTime','LogOp','Date','Time','Pid','package','UserId','Error',\"Message\"])\n",
    "dataset=dataset[(dataset['Outcome']!='initialUrl=https://community.etsy.com/ndggd45364/restapi/vc/authentication/sessions/login] manageUser=null]')]\n",
    "dataset.head()"
   ]
  },
  {
   "cell_type": "code",
   "execution_count": 4,
   "metadata": {},
   "outputs": [
    {
     "data": {
      "text/html": [
       "<div>\n",
       "<style scoped>\n",
       "    .dataframe tbody tr th:only-of-type {\n",
       "        vertical-align: middle;\n",
       "    }\n",
       "\n",
       "    .dataframe tbody tr th {\n",
       "        vertical-align: top;\n",
       "    }\n",
       "\n",
       "    .dataframe thead th {\n",
       "        text-align: right;\n",
       "    }\n",
       "</style>\n",
       "<table border=\"1\" class=\"dataframe\">\n",
       "  <thead>\n",
       "    <tr style=\"text-align: right;\">\n",
       "      <th></th>\n",
       "      <th>freeMemory</th>\n",
       "      <th>CpuTime</th>\n",
       "      <th>ProcessCpuLoad</th>\n",
       "      <th>CurrentThreadCpuTime</th>\n",
       "      <th>CurrentThreaduserTime</th>\n",
       "      <th>SystemLoadAverage</th>\n",
       "      <th>TimeDiff</th>\n",
       "      <th>Outcome</th>\n",
       "    </tr>\n",
       "  </thead>\n",
       "  <tbody>\n",
       "    <tr>\n",
       "      <th>0</th>\n",
       "      <td>643836128</td>\n",
       "      <td>65660059000</td>\n",
       "      <td>0.0625</td>\n",
       "      <td>5940593000</td>\n",
       "      <td>4914928000</td>\n",
       "      <td>3.66015625</td>\n",
       "      <td>0.0</td>\n",
       "      <td>30</td>\n",
       "    </tr>\n",
       "    <tr>\n",
       "      <th>1</th>\n",
       "      <td>643836128</td>\n",
       "      <td>65667444000</td>\n",
       "      <td>0.1332972582972583</td>\n",
       "      <td>5942996000</td>\n",
       "      <td>4915261000</td>\n",
       "      <td>3.66015625</td>\n",
       "      <td>4.0</td>\n",
       "      <td>0</td>\n",
       "    </tr>\n",
       "    <tr>\n",
       "      <th>2</th>\n",
       "      <td>643836128</td>\n",
       "      <td>65667509000</td>\n",
       "      <td>0.0646186440677966</td>\n",
       "      <td>5943055000</td>\n",
       "      <td>4915299000</td>\n",
       "      <td>3.66015625</td>\n",
       "      <td>0.0</td>\n",
       "      <td>0</td>\n",
       "    </tr>\n",
       "    <tr>\n",
       "      <th>3</th>\n",
       "      <td>643836128</td>\n",
       "      <td>65667551000</td>\n",
       "      <td>0.0625</td>\n",
       "      <td>5943095000</td>\n",
       "      <td>4915322000</td>\n",
       "      <td>3.66015625</td>\n",
       "      <td>0.0</td>\n",
       "      <td>0</td>\n",
       "    </tr>\n",
       "    <tr>\n",
       "      <th>4</th>\n",
       "      <td>643836128</td>\n",
       "      <td>65667599000</td>\n",
       "      <td>0.06380208333333333</td>\n",
       "      <td>5943143000</td>\n",
       "      <td>4915346000</td>\n",
       "      <td>3.66015625</td>\n",
       "      <td>0.0</td>\n",
       "      <td>0</td>\n",
       "    </tr>\n",
       "  </tbody>\n",
       "</table>\n",
       "</div>"
      ],
      "text/plain": [
       "  freeMemory      CpuTime        ProcessCpuLoad CurrentThreadCpuTime  \\\n",
       "0  643836128  65660059000                0.0625           5940593000   \n",
       "1  643836128  65667444000    0.1332972582972583           5942996000   \n",
       "2  643836128  65667509000    0.0646186440677966           5943055000   \n",
       "3  643836128  65667551000                0.0625           5943095000   \n",
       "4  643836128  65667599000   0.06380208333333333           5943143000   \n",
       "\n",
       "  CurrentThreaduserTime SystemLoadAverage  TimeDiff Outcome  \n",
       "0            4914928000        3.66015625       0.0      30  \n",
       "1            4915261000        3.66015625       4.0       0  \n",
       "2            4915299000        3.66015625       0.0       0  \n",
       "3            4915322000        3.66015625       0.0       0  \n",
       "4            4915346000        3.66015625       0.0       0  "
      ]
     },
     "execution_count": 4,
     "metadata": {},
     "output_type": "execute_result"
    }
   ],
   "source": [
    "dataset.head()"
   ]
  },
  {
   "cell_type": "code",
   "execution_count": 5,
   "metadata": {
    "scrolled": true
   },
   "outputs": [
    {
     "data": {
      "text/plain": [
       "array(['30', '0', '90', '100', nan, 0.0, 30.0, 90.0, 100.0, 60.0],\n",
       "      dtype=object)"
      ]
     },
     "execution_count": 5,
     "metadata": {},
     "output_type": "execute_result"
    }
   ],
   "source": [
    "dataset.Outcome.unique()"
   ]
  },
  {
   "cell_type": "code",
   "execution_count": 6,
   "metadata": {},
   "outputs": [],
   "source": [
    "dataset.replace(' ', np.nan, inplace= True)\n",
    "dataset.dropna(inplace=True)"
   ]
  },
  {
   "cell_type": "code",
   "execution_count": 7,
   "metadata": {},
   "outputs": [],
   "source": [
    "for col in dataset[dataset.columns[0:8]]:\n",
    "    dataset[col]=pd.to_numeric(dataset[col])"
   ]
  },
  {
   "cell_type": "code",
   "execution_count": 8,
   "metadata": {},
   "outputs": [],
   "source": [
    "for col in dataset[dataset.columns[0:8]]:\n",
    "    dataset[col]=dataset[col].interpolate(method='pad')"
   ]
  },
  {
   "cell_type": "code",
   "execution_count": 9,
   "metadata": {},
   "outputs": [
    {
     "data": {
      "text/plain": [
       "array([ 30,   0,  90, 100,  60])"
      ]
     },
     "execution_count": 9,
     "metadata": {},
     "output_type": "execute_result"
    }
   ],
   "source": [
    "dataset['Outcome'] = dataset['Outcome'].astype(int)\n",
    "dataset.Outcome.unique()"
   ]
  },
  {
   "cell_type": "code",
   "execution_count": 10,
   "metadata": {},
   "outputs": [],
   "source": [
    "dataset['Outcome']=dataset['Outcome'].replace(100,4)\n",
    "dataset['Outcome']=dataset['Outcome'].replace(90,3)\n",
    "dataset['Outcome']=dataset['Outcome'].replace(60,2)\n",
    "dataset['Outcome']=dataset['Outcome'].replace(30,1)\n",
    "dataset['Outcome']=dataset['Outcome'].replace(0,0)"
   ]
  },
  {
   "cell_type": "code",
   "execution_count": 11,
   "metadata": {},
   "outputs": [
    {
     "data": {
      "text/plain": [
       "array([1, 0, 3, 4, 2])"
      ]
     },
     "execution_count": 11,
     "metadata": {},
     "output_type": "execute_result"
    }
   ],
   "source": [
    "dataset.Outcome.unique()"
   ]
  },
  {
   "cell_type": "code",
   "execution_count": null,
   "metadata": {},
   "outputs": [],
   "source": []
  },
  {
   "cell_type": "code",
   "execution_count": 12,
   "metadata": {},
   "outputs": [
    {
     "data": {
      "text/html": [
       "<div>\n",
       "<style scoped>\n",
       "    .dataframe tbody tr th:only-of-type {\n",
       "        vertical-align: middle;\n",
       "    }\n",
       "\n",
       "    .dataframe tbody tr th {\n",
       "        vertical-align: top;\n",
       "    }\n",
       "\n",
       "    .dataframe thead th {\n",
       "        text-align: right;\n",
       "    }\n",
       "</style>\n",
       "<table border=\"1\" class=\"dataframe\">\n",
       "  <thead>\n",
       "    <tr style=\"text-align: right;\">\n",
       "      <th></th>\n",
       "      <th>freeMemory</th>\n",
       "      <th>CpuTime</th>\n",
       "      <th>ProcessCpuLoad</th>\n",
       "      <th>CurrentThreadCpuTime</th>\n",
       "      <th>CurrentThreaduserTime</th>\n",
       "      <th>SystemLoadAverage</th>\n",
       "      <th>TimeDiff</th>\n",
       "      <th>Outcome</th>\n",
       "    </tr>\n",
       "  </thead>\n",
       "  <tbody>\n",
       "    <tr>\n",
       "      <th>0</th>\n",
       "      <td>643836128</td>\n",
       "      <td>65660059000</td>\n",
       "      <td>0.062500</td>\n",
       "      <td>5940593000</td>\n",
       "      <td>4914928000</td>\n",
       "      <td>3.660156</td>\n",
       "      <td>0.0</td>\n",
       "      <td>1</td>\n",
       "    </tr>\n",
       "    <tr>\n",
       "      <th>1</th>\n",
       "      <td>643836128</td>\n",
       "      <td>65667444000</td>\n",
       "      <td>0.133297</td>\n",
       "      <td>5942996000</td>\n",
       "      <td>4915261000</td>\n",
       "      <td>3.660156</td>\n",
       "      <td>4.0</td>\n",
       "      <td>0</td>\n",
       "    </tr>\n",
       "    <tr>\n",
       "      <th>2</th>\n",
       "      <td>643836128</td>\n",
       "      <td>65667509000</td>\n",
       "      <td>0.064619</td>\n",
       "      <td>5943055000</td>\n",
       "      <td>4915299000</td>\n",
       "      <td>3.660156</td>\n",
       "      <td>0.0</td>\n",
       "      <td>0</td>\n",
       "    </tr>\n",
       "    <tr>\n",
       "      <th>3</th>\n",
       "      <td>643836128</td>\n",
       "      <td>65667551000</td>\n",
       "      <td>0.062500</td>\n",
       "      <td>5943095000</td>\n",
       "      <td>4915322000</td>\n",
       "      <td>3.660156</td>\n",
       "      <td>0.0</td>\n",
       "      <td>0</td>\n",
       "    </tr>\n",
       "    <tr>\n",
       "      <th>4</th>\n",
       "      <td>643836128</td>\n",
       "      <td>65667599000</td>\n",
       "      <td>0.063802</td>\n",
       "      <td>5943143000</td>\n",
       "      <td>4915346000</td>\n",
       "      <td>3.660156</td>\n",
       "      <td>0.0</td>\n",
       "      <td>0</td>\n",
       "    </tr>\n",
       "  </tbody>\n",
       "</table>\n",
       "</div>"
      ],
      "text/plain": [
       "   freeMemory      CpuTime  ProcessCpuLoad  CurrentThreadCpuTime  \\\n",
       "0   643836128  65660059000        0.062500            5940593000   \n",
       "1   643836128  65667444000        0.133297            5942996000   \n",
       "2   643836128  65667509000        0.064619            5943055000   \n",
       "3   643836128  65667551000        0.062500            5943095000   \n",
       "4   643836128  65667599000        0.063802            5943143000   \n",
       "\n",
       "   CurrentThreaduserTime  SystemLoadAverage  TimeDiff  Outcome  \n",
       "0             4914928000           3.660156       0.0        1  \n",
       "1             4915261000           3.660156       4.0        0  \n",
       "2             4915299000           3.660156       0.0        0  \n",
       "3             4915322000           3.660156       0.0        0  \n",
       "4             4915346000           3.660156       0.0        0  "
      ]
     },
     "execution_count": 12,
     "metadata": {},
     "output_type": "execute_result"
    }
   ],
   "source": [
    "dataset.head()"
   ]
  },
  {
   "cell_type": "code",
   "execution_count": 13,
   "metadata": {},
   "outputs": [
    {
     "data": {
      "text/plain": [
       "0    195935\n",
       "3       215\n",
       "1        28\n",
       "4        14\n",
       "2         3\n",
       "Name: Outcome, dtype: int64"
      ]
     },
     "execution_count": 13,
     "metadata": {},
     "output_type": "execute_result"
    }
   ],
   "source": [
    "dataset.Outcome.value_counts()"
   ]
  },
  {
   "cell_type": "code",
   "execution_count": 14,
   "metadata": {},
   "outputs": [
    {
     "data": {
      "text/html": [
       "<div>\n",
       "<style scoped>\n",
       "    .dataframe tbody tr th:only-of-type {\n",
       "        vertical-align: middle;\n",
       "    }\n",
       "\n",
       "    .dataframe tbody tr th {\n",
       "        vertical-align: top;\n",
       "    }\n",
       "\n",
       "    .dataframe thead th {\n",
       "        text-align: right;\n",
       "    }\n",
       "</style>\n",
       "<table border=\"1\" class=\"dataframe\">\n",
       "  <thead>\n",
       "    <tr style=\"text-align: right;\">\n",
       "      <th></th>\n",
       "      <th>freeMemory</th>\n",
       "      <th>CpuTime</th>\n",
       "      <th>ProcessCpuLoad</th>\n",
       "      <th>CurrentThreadCpuTime</th>\n",
       "      <th>CurrentThreaduserTime</th>\n",
       "      <th>SystemLoadAverage</th>\n",
       "      <th>TimeDiff</th>\n",
       "    </tr>\n",
       "  </thead>\n",
       "  <tbody>\n",
       "    <tr>\n",
       "      <th>0</th>\n",
       "      <td>643836128</td>\n",
       "      <td>65660059000</td>\n",
       "      <td>0.062500</td>\n",
       "      <td>5940593000</td>\n",
       "      <td>4914928000</td>\n",
       "      <td>3.660156</td>\n",
       "      <td>0.0</td>\n",
       "    </tr>\n",
       "    <tr>\n",
       "      <th>1</th>\n",
       "      <td>643836128</td>\n",
       "      <td>65667444000</td>\n",
       "      <td>0.133297</td>\n",
       "      <td>5942996000</td>\n",
       "      <td>4915261000</td>\n",
       "      <td>3.660156</td>\n",
       "      <td>4.0</td>\n",
       "    </tr>\n",
       "    <tr>\n",
       "      <th>2</th>\n",
       "      <td>643836128</td>\n",
       "      <td>65667509000</td>\n",
       "      <td>0.064619</td>\n",
       "      <td>5943055000</td>\n",
       "      <td>4915299000</td>\n",
       "      <td>3.660156</td>\n",
       "      <td>0.0</td>\n",
       "    </tr>\n",
       "    <tr>\n",
       "      <th>3</th>\n",
       "      <td>643836128</td>\n",
       "      <td>65667551000</td>\n",
       "      <td>0.062500</td>\n",
       "      <td>5943095000</td>\n",
       "      <td>4915322000</td>\n",
       "      <td>3.660156</td>\n",
       "      <td>0.0</td>\n",
       "    </tr>\n",
       "    <tr>\n",
       "      <th>4</th>\n",
       "      <td>643836128</td>\n",
       "      <td>65667599000</td>\n",
       "      <td>0.063802</td>\n",
       "      <td>5943143000</td>\n",
       "      <td>4915346000</td>\n",
       "      <td>3.660156</td>\n",
       "      <td>0.0</td>\n",
       "    </tr>\n",
       "  </tbody>\n",
       "</table>\n",
       "</div>"
      ],
      "text/plain": [
       "   freeMemory      CpuTime  ProcessCpuLoad  CurrentThreadCpuTime  \\\n",
       "0   643836128  65660059000        0.062500            5940593000   \n",
       "1   643836128  65667444000        0.133297            5942996000   \n",
       "2   643836128  65667509000        0.064619            5943055000   \n",
       "3   643836128  65667551000        0.062500            5943095000   \n",
       "4   643836128  65667599000        0.063802            5943143000   \n",
       "\n",
       "   CurrentThreaduserTime  SystemLoadAverage  TimeDiff  \n",
       "0             4914928000           3.660156       0.0  \n",
       "1             4915261000           3.660156       4.0  \n",
       "2             4915299000           3.660156       0.0  \n",
       "3             4915322000           3.660156       0.0  \n",
       "4             4915346000           3.660156       0.0  "
      ]
     },
     "execution_count": 14,
     "metadata": {},
     "output_type": "execute_result"
    }
   ],
   "source": [
    "x = dataset.drop('Outcome', axis = 1)\n",
    "x[0:5]"
   ]
  },
  {
   "cell_type": "code",
   "execution_count": 15,
   "metadata": {},
   "outputs": [
    {
     "data": {
      "text/html": [
       "<div>\n",
       "<style scoped>\n",
       "    .dataframe tbody tr th:only-of-type {\n",
       "        vertical-align: middle;\n",
       "    }\n",
       "\n",
       "    .dataframe tbody tr th {\n",
       "        vertical-align: top;\n",
       "    }\n",
       "\n",
       "    .dataframe thead th {\n",
       "        text-align: right;\n",
       "    }\n",
       "</style>\n",
       "<table border=\"1\" class=\"dataframe\">\n",
       "  <thead>\n",
       "    <tr style=\"text-align: right;\">\n",
       "      <th></th>\n",
       "      <th>Outcome</th>\n",
       "    </tr>\n",
       "  </thead>\n",
       "  <tbody>\n",
       "    <tr>\n",
       "      <th>0</th>\n",
       "      <td>1</td>\n",
       "    </tr>\n",
       "    <tr>\n",
       "      <th>1</th>\n",
       "      <td>0</td>\n",
       "    </tr>\n",
       "    <tr>\n",
       "      <th>2</th>\n",
       "      <td>0</td>\n",
       "    </tr>\n",
       "    <tr>\n",
       "      <th>3</th>\n",
       "      <td>0</td>\n",
       "    </tr>\n",
       "    <tr>\n",
       "      <th>4</th>\n",
       "      <td>0</td>\n",
       "    </tr>\n",
       "  </tbody>\n",
       "</table>\n",
       "</div>"
      ],
      "text/plain": [
       "   Outcome\n",
       "0        1\n",
       "1        0\n",
       "2        0\n",
       "3        0\n",
       "4        0"
      ]
     },
     "execution_count": 15,
     "metadata": {},
     "output_type": "execute_result"
    }
   ],
   "source": [
    "y = dataset[[\"Outcome\"]]\n",
    "y[0:5]"
   ]
  },
  {
   "cell_type": "code",
   "execution_count": 16,
   "metadata": {},
   "outputs": [
    {
     "data": {
      "text/plain": [
       "<seaborn.axisgrid.FacetGrid at 0x1a1f483a50>"
      ]
     },
     "execution_count": 16,
     "metadata": {},
     "output_type": "execute_result"
    },
    {
     "data": {
      "image/png": "[encoded data removed]",
      "text/plain": [
       "<Figure size 360x360 with 1 Axes>"
      ]
     },
     "metadata": {
      "needs_background": "light"
     },
     "output_type": "display_data"
    }
   ],
   "source": [
    "import seaborn as sn\n",
    "\n",
    "sn.catplot(x=\"Outcome\", kind=\"count\",palette=\"pastel\", edgecolor=\".6\",data=dataset,height=5,aspect=1,orient='h')"
   ]
  },
  {
   "cell_type": "code",
   "execution_count": 17,
   "metadata": {},
   "outputs": [],
   "source": [
    "x_trainset, x_testset, y_trainset, y_testset = train_test_split(x,y,stratify=y, test_size=0.2, random_state=3)"
   ]
  },
  {
   "cell_type": "code",
   "execution_count": 18,
   "metadata": {},
   "outputs": [],
   "source": [
    "min_max_scaler = preprocessing.MinMaxScaler()\n",
    "X_scaled = min_max_scaler.fit(x_trainset)"
   ]
  },
  {
   "cell_type": "code",
   "execution_count": 19,
   "metadata": {},
   "outputs": [],
   "source": [
    "new_df = X_scaled.transform(x_trainset)\n",
    "x_trainset = pd.DataFrame(new_df)\n",
    "new_df1 = X_scaled.transform(x_testset)\n",
    "x_testset = pd.DataFrame(new_df1)"
   ]
  },
  {
   "cell_type": "code",
   "execution_count": 20,
   "metadata": {},
   "outputs": [
    {
     "data": {
      "text/html": [
       "<div>\n",
       "<style scoped>\n",
       "    .dataframe tbody tr th:only-of-type {\n",
       "        vertical-align: middle;\n",
       "    }\n",
       "\n",
       "    .dataframe tbody tr th {\n",
       "        vertical-align: top;\n",
       "    }\n",
       "\n",
       "    .dataframe thead th {\n",
       "        text-align: right;\n",
       "    }\n",
       "</style>\n",
       "<table border=\"1\" class=\"dataframe\">\n",
       "  <thead>\n",
       "    <tr style=\"text-align: right;\">\n",
       "      <th></th>\n",
       "      <th>0</th>\n",
       "      <th>1</th>\n",
       "      <th>2</th>\n",
       "      <th>3</th>\n",
       "      <th>4</th>\n",
       "      <th>5</th>\n",
       "      <th>6</th>\n",
       "    </tr>\n",
       "  </thead>\n",
       "  <tbody>\n",
       "    <tr>\n",
       "      <th>count</th>\n",
       "      <td>156956.000000</td>\n",
       "      <td>156956.000000</td>\n",
       "      <td>156956.000000</td>\n",
       "      <td>156956.000000</td>\n",
       "      <td>156956.000000</td>\n",
       "      <td>156956.000000</td>\n",
       "      <td>156956.000000</td>\n",
       "    </tr>\n",
       "    <tr>\n",
       "      <th>mean</th>\n",
       "      <td>0.432774</td>\n",
       "      <td>0.182663</td>\n",
       "      <td>0.009270</td>\n",
       "      <td>0.600237</td>\n",
       "      <td>0.642048</td>\n",
       "      <td>0.621172</td>\n",
       "      <td>0.000163</td>\n",
       "    </tr>\n",
       "    <tr>\n",
       "      <th>std</th>\n",
       "      <td>0.213338</td>\n",
       "      <td>0.068634</td>\n",
       "      <td>0.025968</td>\n",
       "      <td>0.168526</td>\n",
       "      <td>0.175641</td>\n",
       "      <td>0.195961</td>\n",
       "      <td>0.005223</td>\n",
       "    </tr>\n",
       "    <tr>\n",
       "      <th>min</th>\n",
       "      <td>0.000000</td>\n",
       "      <td>0.000000</td>\n",
       "      <td>0.000000</td>\n",
       "      <td>0.000000</td>\n",
       "      <td>0.000000</td>\n",
       "      <td>0.000000</td>\n",
       "      <td>0.000000</td>\n",
       "    </tr>\n",
       "    <tr>\n",
       "      <th>25%</th>\n",
       "      <td>0.251756</td>\n",
       "      <td>0.140473</td>\n",
       "      <td>0.003148</td>\n",
       "      <td>0.476876</td>\n",
       "      <td>0.501594</td>\n",
       "      <td>0.435603</td>\n",
       "      <td>0.000000</td>\n",
       "    </tr>\n",
       "    <tr>\n",
       "      <th>50%</th>\n",
       "      <td>0.416209</td>\n",
       "      <td>0.183997</td>\n",
       "      <td>0.003256</td>\n",
       "      <td>0.564801</td>\n",
       "      <td>0.595954</td>\n",
       "      <td>0.613620</td>\n",
       "      <td>0.000000</td>\n",
       "    </tr>\n",
       "    <tr>\n",
       "      <th>75%</th>\n",
       "      <td>0.584447</td>\n",
       "      <td>0.223046</td>\n",
       "      <td>0.006296</td>\n",
       "      <td>0.730377</td>\n",
       "      <td>0.803338</td>\n",
       "      <td>0.753425</td>\n",
       "      <td>0.000000</td>\n",
       "    </tr>\n",
       "    <tr>\n",
       "      <th>max</th>\n",
       "      <td>1.000000</td>\n",
       "      <td>1.000000</td>\n",
       "      <td>1.000000</td>\n",
       "      <td>1.000000</td>\n",
       "      <td>1.000000</td>\n",
       "      <td>1.000000</td>\n",
       "      <td>1.000000</td>\n",
       "    </tr>\n",
       "  </tbody>\n",
       "</table>\n",
       "</div>"
      ],
      "text/plain": [
       "                   0              1              2              3  \\\n",
       "count  156956.000000  156956.000000  156956.000000  156956.000000   \n",
       "mean        0.432774       0.182663       0.009270       0.600237   \n",
       "std         0.213338       0.068634       0.025968       0.168526   \n",
       "min         0.000000       0.000000       0.000000       0.000000   \n",
       "25%         0.251756       0.140473       0.003148       0.476876   \n",
       "50%         0.416209       0.183997       0.003256       0.564801   \n",
       "75%         0.584447       0.223046       0.006296       0.730377   \n",
       "max         1.000000       1.000000       1.000000       1.000000   \n",
       "\n",
       "                   4              5              6  \n",
       "count  156956.000000  156956.000000  156956.000000  \n",
       "mean        0.642048       0.621172       0.000163  \n",
       "std         0.175641       0.195961       0.005223  \n",
       "min         0.000000       0.000000       0.000000  \n",
       "25%         0.501594       0.435603       0.000000  \n",
       "50%         0.595954       0.613620       0.000000  \n",
       "75%         0.803338       0.753425       0.000000  \n",
       "max         1.000000       1.000000       1.000000  "
      ]
     },
     "execution_count": 20,
     "metadata": {},
     "output_type": "execute_result"
    }
   ],
   "source": [
    "x_trainset.describe()"
   ]
  },
  {
   "cell_type": "code",
   "execution_count": 25,
   "metadata": {},
   "outputs": [
    {
     "name": "stdout",
     "output_type": "stream",
     "text": [
      "0    0\n",
      "1    1\n",
      "2    1\n",
      "3    1\n",
      "4    1\n",
      "Name: Outcome, dtype: int64\n",
      "Int64Index([1, 0, 3, 4, 2], dtype='int64')\n"
     ]
    },
    {
     "data": {
      "text/plain": [
       "array([0, 1, 2, 3, 4])"
      ]
     },
     "execution_count": 25,
     "metadata": {},
     "output_type": "execute_result"
    }
   ],
   "source": [
    "factor = pd.factorize(dataset['Outcome'])\n",
    "dataset.Outcome = factor[0]\n",
    "definitions = factor[1]\n",
    "print(dataset.Outcome.head())\n",
    "print(definitions)\n",
    "dataset.Outcome.unique()"
   ]
  },
  {
   "cell_type": "code",
   "execution_count": 26,
   "metadata": {},
   "outputs": [
    {
     "data": {
      "text/plain": [
       "RandomForestClassifier(criterion='entropy', n_estimators=10, random_state=42)"
      ]
     },
     "execution_count": 26,
     "metadata": {},
     "output_type": "execute_result"
    }
   ],
   "source": [
    "classifier = RandomForestClassifier(n_estimators = 10, criterion = 'entropy', random_state = 42)\n",
    "classifier.fit(x_trainset, y_trainset.values.ravel())"
   ]
  },
  {
   "cell_type": "code",
   "execution_count": 27,
   "metadata": {},
   "outputs": [],
   "source": [
    "y_pred = classifier.predict(x_testset)"
   ]
  },
  {
   "cell_type": "code",
   "execution_count": 28,
   "metadata": {},
   "outputs": [],
   "source": [
    "reversefactor = dict(zip(range(5),definitions))"
   ]
  },
  {
   "cell_type": "code",
   "execution_count": 29,
   "metadata": {},
   "outputs": [],
   "source": [
    "y_testset = np.vectorize(reversefactor.get)(y_testset)"
   ]
  },
  {
   "cell_type": "code",
   "execution_count": 30,
   "metadata": {},
   "outputs": [],
   "source": [
    "y_pred = np.vectorize(reversefactor.get)(y_pred)"
   ]
  },
  {
   "cell_type": "code",
   "execution_count": 31,
   "metadata": {},
   "outputs": [
    {
     "name": "stdout",
     "output_type": "stream",
     "text": [
      "[[1 0 0 0 0]\n",
      " [0 0 0 0 0]\n",
      " [0 0 0 0 0]\n",
      " [0 0 0 0 0]\n",
      " [0 0 0 0 0]]\n",
      "              precision    recall  f1-score   support\n",
      "\n",
      "           0       0.33      0.17      0.22         6\n",
      "          30       0.00      0.00      0.00         0\n",
      "          60       0.00      0.00      0.00         0\n",
      "          90       0.00      0.00      0.00         0\n",
      "         100       0.00      0.00      0.00         0\n",
      "\n",
      "   micro avg       0.33      0.17      0.22         6\n",
      "   macro avg       0.07      0.03      0.04         6\n",
      "weighted avg       0.33      0.17      0.22         6\n",
      "\n",
      "0.9998216060552002\n"
     ]
    },
    {
     "name": "stderr",
     "output_type": "stream",
     "text": [
      "/Users/jyotsana.j/opt/anaconda3/lib/python3.7/site-packages/sklearn/metrics/_classification.py:1221: UndefinedMetricWarning: Precision and F-score are ill-defined and being set to 0.0 in labels with no predicted samples. Use `zero_division` parameter to control this behavior.\n",
      "  _warn_prf(average, modifier, msg_start, len(result))\n",
      "/Users/jyotsana.j/opt/anaconda3/lib/python3.7/site-packages/sklearn/metrics/_classification.py:1221: UndefinedMetricWarning: Recall and F-score are ill-defined and being set to 0.0 in labels with no true samples. Use `zero_division` parameter to control this behavior.\n",
      "  _warn_prf(average, modifier, msg_start, len(result))\n"
     ]
    }
   ],
   "source": [
    "from sklearn.metrics import classification_report, confusion_matrix, accuracy_score\n",
    "\n",
    "print(confusion_matrix(y_testset,y_pred,labels=[0, 30, 60, 90,100]))\n",
    "print(classification_report(y_testset,y_pred,labels=[0, 30, 60, 90,100]))\n",
    "print(accuracy_score(y_testset, y_pred))"
   ]
  },
  {
   "cell_type": "code",
   "execution_count": 32,
   "metadata": {},
   "outputs": [
    {
     "name": "stdout",
     "output_type": "stream",
     "text": [
      "[[    1     5     0     0]\n",
      " [    2 39185     0     0]\n",
      " [    0     0     3     0]\n",
      " [    0     0     0    43]]\n"
     ]
    },
    {
     "data": {
      "image/png": "[encoded data removed]",
      "text/plain": [
       "<Figure size 432x288 with 2 Axes>"
      ]
     },
     "metadata": {
      "needs_background": "light"
     },
     "output_type": "display_data"
    }
   ],
   "source": [
    "from sklearn.metrics import confusion_matrix\n",
    "import matplotlib.pyplot as plt \n",
    "labels = ['0','30','60','90','100']\n",
    "cm = confusion_matrix(y_testset,y_pred)\n",
    "print(cm)\n",
    "fig = plt.figure()\n",
    "ax = fig.add_subplot(111)\n",
    "cax = ax.matshow(cm)\n",
    "plt.title('Confusion matrix of the classifier')\n",
    "fig.colorbar(cax)\n",
    "ax.set_xticklabels([''] + labels)\n",
    "ax.set_yticklabels([''] + labels)\n",
    "plt.xlabel('Predicted')\n",
    "plt.ylabel('True')\n",
    "plt.show()"
   ]
  },
  {
   "cell_type": "code",
   "execution_count": 33,
   "metadata": {},
   "outputs": [],
   "source": [
    "import pickle\n",
    "pickle.dump(classifier,open('random_forest.pkl','wb'))\n",
    "pickle.dump(X_scaled,open('minMax.pkl','wb'))"
   ]
  },
  {
   "cell_type": "code",
   "execution_count": null,
   "metadata": {},
   "outputs": [],
   "source": []
  }
 ],
 "metadata": {
  "kernelspec": {
   "display_name": "Python 3",
   "language": "python",
   "name": "python3"
  },
  "language_info": {
   "codemirror_mode": {
    "name": "ipython",
    "version": 3
   },
   "file_extension": ".py",
   "mimetype": "text/x-python",
   "name": "python",
   "nbconvert_exporter": "python",
   "pygments_lexer": "ipython3",
   "version": "3.7.7"
  }
 },
 "nbformat": 4,
 "nbformat_minor": 4
}
