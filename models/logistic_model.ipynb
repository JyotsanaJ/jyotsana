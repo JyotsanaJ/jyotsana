{
 "cells": [
  {
   "cell_type": "code",
   "execution_count": 3,
   "metadata": {},
   "outputs": [],
   "source": [
    "import pandas as pd\n",
    "import wordcloud\n",
    "import numpy as np\n",
    "import seaborn as sn\n",
    "import string\n",
    "import matplotlib.pyplot as plt\n",
    "from sklearn.metrics import f1_score\n",
    "from nltk.corpus import stopwords\n",
    "from sklearn.preprocessing import OneHotEncoder\n",
    "from sklearn.model_selection import train_test_split\n",
    "from sklearn.feature_extraction.text import TfidfVectorizer\n",
    "from sklearn.model_selection import StratifiedKFold\n",
    "from sklearn.model_selection import cross_val_predict\n",
    "from sklearn.metrics import accuracy_score\n",
    "from sklearn.feature_extraction.text import CountVectorizer\n",
    "from sklearn.tree import DecisionTreeClassifier\n",
    "from sklearn.ensemble import RandomForestClassifier\n",
    "import xgboost as xgb\n",
    "from lightgbm import LGBMClassifier\n",
    "import pickle"
   ]
  },
  {
   "cell_type": "code",
   "execution_count": 4,
   "metadata": {},
   "outputs": [],
   "source": [
    "pd.set_option('display.max_colwidth', None)"
   ]
  },
  {
   "cell_type": "markdown",
   "metadata": {},
   "source": [
    "## Read data from Lithosphere"
   ]
  },
  {
   "cell_type": "code",
   "execution_count": 5,
   "metadata": {},
   "outputs": [],
   "source": [
    "DATA_PATH=\"/Users/jyotsana.j/lithium/checkouts/dataset/\"\n",
    "columns = [\"messageId\",\"threadId\",\"parentId\",\"creationTime\",\"subject\",\"body\",\"language\",\"nodePath\",\"nodeStyle\",\"userId\",\"userRank\",\"tags\",\"labels\",\"spamMarkUser\",\"notMarkedAsSpam\",\"uri\",\"spam\"]\n",
    "nonsignificantcolumns =[\"messageId\",\"threadId\",\"parentId\",\"language\",\"creationTime\",\"nodePath\",\"uri\"]"
   ]
  },
  {
   "cell_type": "markdown",
   "metadata": {},
   "source": [
    "Read data from lithosphere csv"
   ]
  },
  {
   "cell_type": "code",
   "execution_count": 6,
   "metadata": {},
   "outputs": [
    {
     "data": {
      "text/plain": [
       "(174030, 10)"
      ]
     },
     "execution_count": 6,
     "metadata": {},
     "output_type": "execute_result"
    }
   ],
   "source": [
    "lithodata = pd.read_csv(DATA_PATH + \"lithosphere.spam2.csv\", usecols=columns)\n",
    "lithodata=lithodata.drop(columns=nonsignificantcolumns)\n",
    "lithodata.shape"
   ]
  },
  {
   "cell_type": "markdown",
   "metadata": {},
   "source": [
    "Read data from opensource"
   ]
  },
  {
   "cell_type": "code",
   "execution_count": 7,
   "metadata": {},
   "outputs": [
    {
     "data": {
      "text/plain": [
       "(30024, 2)"
      ]
     },
     "execution_count": 7,
     "metadata": {},
     "output_type": "execute_result"
    }
   ],
   "source": [
    "sampledata = pd.read_csv(DATA_PATH + \"open_spam_data.csv\")\n",
    "sampledata.shape"
   ]
  },
  {
   "cell_type": "markdown",
   "metadata": {},
   "source": [
    "Convert label from boolean to 1.0 and 0.0"
   ]
  },
  {
   "cell_type": "code",
   "execution_count": 8,
   "metadata": {},
   "outputs": [],
   "source": [
    "df1 = lithodata.select_dtypes(include=[bool])\n",
    "booleanDictionary = {True: 1.0, False: 0.0}\n",
    "\n",
    "for column in df1:\n",
    "    lithodata[column] = lithodata[column].map(booleanDictionary)"
   ]
  },
  {
   "cell_type": "markdown",
   "metadata": {},
   "source": [
    "Convert lithosphere data into text and spam columns"
   ]
  },
  {
   "cell_type": "code",
   "execution_count": 9,
   "metadata": {},
   "outputs": [],
   "source": [
    "lithodf=pd.DataFrame()\n",
    "lithodf['text']=lithodata[\"subject\"].str.cat(lithodata[[\"body\", \"userId\", \"userRank\"]].astype(str), sep=\" \")\n",
    "lithodf['spam']=lithodata['spam']"
   ]
  },
  {
   "cell_type": "code",
   "execution_count": 10,
   "metadata": {},
   "outputs": [
    {
     "data": {
      "text/html": [
       "<div>\n",
       "<style scoped>\n",
       "    .dataframe tbody tr th:only-of-type {\n",
       "        vertical-align: middle;\n",
       "    }\n",
       "\n",
       "    .dataframe tbody tr th {\n",
       "        vertical-align: top;\n",
       "    }\n",
       "\n",
       "    .dataframe thead th {\n",
       "        text-align: right;\n",
       "    }\n",
       "</style>\n",
       "<table border=\"1\" class=\"dataframe\">\n",
       "  <thead>\n",
       "    <tr style=\"text-align: right;\">\n",
       "      <th></th>\n",
       "      <th>text</th>\n",
       "      <th>spam</th>\n",
       "    </tr>\n",
       "  </thead>\n",
       "  <tbody>\n",
       "    <tr>\n",
       "      <th>0</th>\n",
       "      <td>Re: Do You Empower or Influence? &lt;p&gt;Micheal Wu,&lt;/p&gt;&lt;p&gt; &lt;/p&gt;&lt;p&gt;My issue revolves around how both empowerment and influence are being used at the corporate level. And you pointed this out in the good and bad portion of your article. I am a communication graduate but not a (Ph.d). I believe empowerment and influence are being abused more and more at the corporate level. Copywrite from a legal perspective is at the time of inception and communication of that idea validates your right to be protected. The problem is where the key influence and empowerment is derived from and how it effects the privacy of that user.  Was the information obtained legally from the originator of the idea or was it mutated with the general intent of the messages and disseminated to the internet? In the internet my concern is the growing enterprise of collecting and using information without a real depth of understanding of sources. It is like a newspaper not being able to accurately know all it's sources. I believe that corporations and users need to be more transparent in their collection and use of information. I would also like to better understand ways of protecting myself and my business. Perhaps you could direct me to some resources.&lt;/p&gt;&lt;p&gt; &lt;/p&gt;&lt;p&gt;Brian&lt;/p&gt;&lt;p&gt;&lt;a rel=\"nofollow\" target=\"_blank\" href=\"http://www.synergychat.com\"&gt;www.synergychat.com&lt;/a&gt;&lt;/p&gt;&lt;p&gt; &lt;/p&gt; -1 nan</td>\n",
       "      <td>0.0</td>\n",
       "    </tr>\n",
       "    <tr>\n",
       "      <th>1</th>\n",
       "      <td>Re: iPhone bug prevents posting to Lithium communities - please fix! Same here - updated to 4.2 and still see the bug. 209 Honored Contributor</td>\n",
       "      <td>0.0</td>\n",
       "    </tr>\n",
       "    <tr>\n",
       "      <th>2</th>\n",
       "      <td>Congrats to the Top Kudo'd Authors in September &lt;p&gt;&lt;img src=\"http://lithosphere.lithium.com/t5/image/serverpage/image-id/1256i5210ECEF6EC5686A/image-size/original?v=mpbl-1&amp;amp;px=-1\" border=\"0\" alt=\"kudosSept10.png\" title=\"kudosSept10.png\" align=\"left\" /&gt;September blazed by at lightening speed... as did the first few days of October apparently. Congratulations to our top kudo'd authors in the Lithosphere for last month.&lt;/p&gt;\\n&lt;p&gt;&amp;nbsp;&lt;/p&gt;\\n&lt;p&gt;The VIP council again takes the top spots, that's why they are in our MVP group, so thanks to:&lt;/p&gt;\\n&lt;p&gt;&amp;nbsp;&lt;/p&gt;\\n&lt;ol&gt;\\n&lt;li&gt;&lt;a href=\"http://lithosphere.lithium.com/t5/user/viewprofilepage/user-id/119\" target=\"_self\" rel=\"nofollow\"&gt;Mark_Hopkins&lt;/a&gt;&lt;/li&gt;\\n&lt;li&gt;&lt;a href=\"http://lithosphere.lithium.com/t5/user/viewprofilepage/user-id/248\" target=\"_self\" rel=\"nofollow\"&gt;Jason&lt;/a&gt;&lt;/li&gt;\\n&lt;li&gt;&lt;a href=\"http://lithosphere.lithium.com/t5/user/viewprofilepage/user-id/50\" target=\"_self\" rel=\"nofollow\"&gt;Laura&lt;/a&gt;&lt;/li&gt;\\n&lt;/ol&gt;\\n&lt;div&gt;For all their great contributions to ideas, blogs, tkb and the forums. We couldn't run this without the efforts of people like you. Our own '&lt;a href=\"http://lithosphere.lithium.com/t5/user/viewprofilepage/user-id/102\" target=\"_self\" rel=\"nofollow\"&gt;SusanM&lt;/a&gt;' was propping up 4th spot for all the great work she has been doing documenting our new features and betas in the customer blog.&lt;/div&gt;\\n&lt;div&gt;New on the list in 5th this month is '&lt;a href=\"http://lithosphere.lithium.com/t5/user/viewprofilepage/user-id/2828\" target=\"_self\" rel=\"nofollow\"&gt;prisaz&lt;/a&gt;' - welcome to the leaderboard!!&lt;/div&gt;\\n&lt;div&gt;Thanks everyone.&lt;/div&gt;\\n&lt;p&gt;&amp;nbsp;&lt;/p&gt; 771 Lithium Alumni (Retired)</td>\n",
       "      <td>0.0</td>\n",
       "    </tr>\n",
       "    <tr>\n",
       "      <th>3</th>\n",
       "      <td>User Guidelines &lt;p&gt;Thanks for joining the Lithosphere. Our usage guidelines are here to ensure that we have a fair and pleasant environment for everyone to participate in. I'd encourage you to read through.&lt;/p&gt;\\n&lt;p&gt;&amp;nbsp;&lt;/p&gt;\\n&lt;p&gt;&amp;nbsp;&lt;/p&gt;\\n&lt;ul&gt;\\n&lt;li&gt;&lt;a href=\"/t5/About-our-community/Lithium-Community-Guidelines/ta-p/134781\" target=\"_self\" rel=\"nofollow\"&gt;User Guidelines&lt;/a&gt;&lt;/li&gt;\\n&lt;/ul&gt;\\n&lt;p&gt;&amp;nbsp;&lt;/p&gt; 771 Lithium Alumni (Retired)</td>\n",
       "      <td>0.0</td>\n",
       "    </tr>\n",
       "    <tr>\n",
       "      <th>4</th>\n",
       "      <td>Re: Wanna know a Secret? &lt;p&gt;Greg - thanks for your note and thanks for your suggestion. Actually that makes a lot of sense and I'll work on updating that. I think a 'Previous Secret / Next Secret' style nav could be cool.&lt;/p&gt; 771 Lithium Alumni (Retired)</td>\n",
       "      <td>0.0</td>\n",
       "    </tr>\n",
       "    <tr>\n",
       "      <th>...</th>\n",
       "      <td>...</td>\n",
       "      <td>...</td>\n",
       "    </tr>\n",
       "    <tr>\n",
       "      <th>174025</th>\n",
       "      <td>How to provision limited Studio access to developers &lt;p&gt;Is it possible to grant Studio access to a user without handing over all of the \"keys to the kingdom\" at the same time?&amp;nbsp; (i.e., allow them to access Studio and/or push files to Stage via the Lithium SDK without giving them full access to Community Admin as well.)&lt;/p&gt;&lt;p&gt;Or, better yet, is it possible to give a user limited access to Studio?&amp;nbsp; Here are some examples that come to mind:&lt;/p&gt;&lt;ul&gt;&lt;li&gt;Prevent a user from publishing from Stage to Production&lt;/li&gt;&lt;li&gt;Grant access for the user to only create/edit/remove custom components but not (for example) endpoints, macros, etc.&lt;/li&gt;&lt;li&gt;Prevent a user from overriding existing/OOTB components&lt;/li&gt;&lt;/ul&gt;&lt;p&gt;We have some developers in our company who need to develop some custom components for a particular page (in this situation the Create Case page in the Case Portal, but potentially others in the future) but we want to follow the &lt;a href=\"https://en.wikipedia.org/wiki/Principle_of_least_privilege\" target=\"_blank\" rel=\"noopener\"&gt;principle of least privilege&lt;/a&gt; wherever possible.&lt;/p&gt;&lt;p&gt;In Khoros JX it is easy to &lt;a href=\"https://docs.jivesoftware.com/cloud_int/comm_mgr/jive.help.core/admin/StandardPermLevels.html#standard_space_permission_levels\" target=\"_blank\" rel=\"noopener\"&gt;restrict someone's development access&lt;/a&gt; (i.e. the ability to create widgets/components and edit a page layout) to a specific space (i.e. node) but I can't seem to find out how this is possible in the Khoros Community platform.&lt;/p&gt;&lt;p&gt;Thanks!&lt;/p&gt; 71282 Trusted Contributor</td>\n",
       "      <td>0.0</td>\n",
       "    </tr>\n",
       "    <tr>\n",
       "      <th>174026</th>\n",
       "      <td>597994_en-US &lt;lingo-sub id=\"lingo-sub-597994\" slang=\"en-US\"&gt;How to provision limited Studio access to developers&lt;/lingo-sub&gt;&lt;lingo-body id=\"lingo-body-597994\" slang=\"en-US\"&gt;&lt;p&gt;Is it possible to grant Studio access to a user without handing over all of the \"keys to the kingdom\" at the same time?&amp;nbsp; (i.e., allow them to access Studio and/or push files to Stage via the Lithium SDK without giving them full access to Community Admin as well.)&lt;/p&gt;&lt;p&gt;Or, better yet, is it possible to give a user limited access to Studio?&amp;nbsp; Here are some examples that come to mind:&lt;/p&gt;&lt;ul&gt;&lt;li&gt;Prevent a user from publishing from Stage to Production&lt;/li&gt;&lt;li&gt;Grant access for the user to only create/edit/remove custom components but not (for example) endpoints, macros, etc.&lt;/li&gt;&lt;li&gt;Prevent a user from overriding existing/OOTB components&lt;/li&gt;&lt;/ul&gt;&lt;p&gt;We have some developers in our company who need to develop some custom components for a particular page (in this situation the Create Case page in the Case Portal, but potentially others in the future) but we want to follow the &lt;a href=\"https://en.wikipedia.org/wiki/Principle_of_least_privilege\" target=\"_blank\" rel=\"noopener nofollow noopener noreferrer\"&gt;principle of least privilege&lt;/a&gt; wherever possible.&lt;/p&gt;&lt;p&gt;In Khoros JX it is easy to &lt;a href=\"https://docs.jivesoftware.com/cloud_int/comm_mgr/jive.help.core/admin/StandardPermLevels.html#standard_space_permission_levels\" target=\"_blank\" rel=\"noopener nofollow noopener noreferrer\"&gt;restrict someone's development access&lt;/a&gt; (i.e. the ability to create widgets/components and edit a page layout) to a specific space (i.e. node) but I can't seem to find out how this is possible in the Khoros Community platform.&lt;/p&gt;&lt;p&gt;Thanks!&lt;/p&gt;&lt;/lingo-body&gt;&lt;lingo-sub id=\"lingo-sub-598012\" slang=\"en-US\"&gt;Re: How to provision limited Studio access to developers&lt;/lingo-sub&gt;&lt;lingo-body id=\"lingo-body-598012\" slang=\"en-US\"&gt;&lt;p&gt;The Studio permissions don't exist in Prod, only Stage, so it is easy to miss.&amp;nbsp;&lt;img class=\"lia-deferred-image lia-image-emoji\" src=\"https://community.khoros.com/html/emoticons/1f605.png\" alt=\":grinning_face_with_sweat:\" title=\":grinning_face_with_sweat:\" /&gt;&lt;/p&gt;&lt;/lingo-body&gt;&lt;lingo-sub id=\"lingo-sub-598011\" slang=\"en-US\"&gt;Re: How to provision limited Studio access to developers&lt;/lingo-sub&gt;&lt;lingo-body id=\"lingo-body-598011\" slang=\"en-US\"&gt;&lt;p&gt;Oh awesome, thanks&amp;nbsp;-ERR:REF-NOT-FOUND-@lilim!&amp;nbsp; I must be going blind because I swear I didn't see a Studio section for roles.&amp;nbsp; Thanks for the quick response!&lt;/p&gt;&lt;/lingo-body&gt;&lt;lingo-sub id=\"lingo-sub-597999\" slang=\"en-US\"&gt;Re: How to provision limited Studio access to developers&lt;/lingo-sub&gt;&lt;lingo-body id=\"lingo-body-597999\" slang=\"en-US\"&gt;&lt;p&gt;Hi Jeff,&lt;/p&gt;&lt;p&gt;In the Admin console for Stage, there are permissions specific to Studio. You can create new roles and assign the permissions that meet your various use cases.&lt;/p&gt;&lt;p&gt;&lt;span class=\"lia-inline-image-display-wrapper lia-image-align-inline\" image-alt=\"Screen Shot 2020-07-13 at 1.53.21 PM.png\" style=\"width: 400px;\"&gt;&lt;img src=\"https://community.khoros.com/t5/image/serverpage/image-id/168095i4A8E5FCC376B7573/image-size/medium?v=1.0&amp;amp;px=400\" srcset=\"/t5/image/serverpage/image-id/168095i4A8E5FCC376B7573/image-size/medium?v=1.0&amp;amp;px=400 1.0x,/t5/image/serverpage/image-id/168095i4A8E5FCC376B7573/image-dimensions/638x800?v=1.0 2.0x\" title=\"Screen Shot 2020-07-13 at 1.53.21 PM.png\" alt=\"Screen Shot 2020-07-13 at 1.53.21 PM.png\" /&gt;&lt;/span&gt;&lt;/p&gt;&lt;/lingo-body&gt; 60705 New Commentator</td>\n",
       "      <td>0.0</td>\n",
       "    </tr>\n",
       "    <tr>\n",
       "      <th>174027</th>\n",
       "      <td>Analytics Dashboards refreshes every time we login &lt;p&gt;Hi,&lt;/p&gt;&lt;p&gt;&amp;nbsp;&lt;/p&gt;&lt;p&gt;This is similar case as&amp;nbsp;00300321 .&lt;/p&gt;&lt;p&gt;User's \"my dashboard\" widgets goes back to the default widget settings whenever she logs out and login again. Anything that was added manually gets deleted by itself.&lt;/p&gt;&lt;p&gt;&amp;nbsp;&lt;/p&gt;&lt;p&gt;I have attached a video related to it.&lt;/p&gt;&lt;p&gt;&amp;nbsp;&lt;/p&gt;&lt;p&gt;We did try onto a different browser and even tried on a different PC. No luck.&lt;/p&gt;&lt;p&gt;&amp;nbsp;&lt;/p&gt;&lt;p&gt;Please have a look into this case and help us find the solution.&lt;/p&gt;&lt;p&gt;&amp;nbsp;&lt;/p&gt;&lt;p&gt;Regards,&lt;/p&gt;&lt;p&gt;Santosh&lt;/p&gt; 83775 Occasional Advisor</td>\n",
       "      <td>0.0</td>\n",
       "    </tr>\n",
       "    <tr>\n",
       "      <th>174028</th>\n",
       "      <td>[Alteryx] Remove Settings List Editor Options &lt;p&gt;Hi Team,&amp;nbsp;&lt;/p&gt;&lt;p&gt;Could you please remove the following Settings List Editor options? We no longer user these features. Can you please remove from dev first so we can confirm everything is as expected?&amp;nbsp;&lt;/p&gt;&lt;p&gt;Thanks!&lt;/p&gt;&lt;p&gt;Trey&lt;/p&gt;&lt;p&gt;&amp;nbsp;&lt;/p&gt;&lt;p&gt;&lt;span&gt;alteryx.category_width&lt;/span&gt;&lt;br /&gt;&lt;span&gt;custom.other-resources-header-color&lt;/span&gt;&lt;br /&gt;&lt;span&gt;custom.partner-header-color&lt;/span&gt;&lt;br /&gt;&lt;span&gt;custom.internal-header-color&lt;/span&gt;&lt;br /&gt;&lt;span&gt;custom.node-highlight-keywords&lt;/span&gt;&lt;br /&gt;&lt;span&gt;custom.node-block&lt;/span&gt;&lt;br /&gt;&lt;span&gt;custom.desc-limit&lt;/span&gt;&lt;br /&gt;&lt;span&gt;custom.node-order&lt;/span&gt;&lt;br /&gt;&lt;span&gt;custom.node-color-bg&lt;/span&gt;&lt;/p&gt; 22578 Valued Contributor</td>\n",
       "      <td>0.0</td>\n",
       "    </tr>\n",
       "    <tr>\n",
       "      <th>174029</th>\n",
       "      <td>Re: How to provision limited Studio access to developers &lt;p&gt;Hi Jeff,&lt;/p&gt;&lt;p&gt;In the Admin console for Stage, there are permissions specific to Studio. You can create new roles and assign the permissions that meet your various use cases.&lt;/p&gt;&lt;p&gt;&lt;li-image width=\"400\" height=\"400\" alt=\"Screen Shot 2020-07-13 at 1.53.21 PM.png\" align=\"inline\" id=\"168095i4A8E5FCC376B7573\" size=\"medium\" resized=\"false\" sourcetype=\"new\"&gt;&lt;/li-image&gt;&lt;/p&gt; 47123 Honored Contributor</td>\n",
       "      <td>0.0</td>\n",
       "    </tr>\n",
       "  </tbody>\n",
       "</table>\n",
       "<p>174030 rows × 2 columns</p>\n",
       "</div>"
      ],
      "text/plain": [
       "                                                                                                                                                                                                                                                                                                                                                                                                                                                                                                                                                                                                                                                                                                                                                                                                                                                                                                                                                                                                                                                                                                                                                                                                                                                                                                                                                                                                                                                                                                                                                                                                                                                                                                                                                                                                                                                                                                                                                                                                                                                                                                                                                                                                                                                                                                                                                                                                                                                                                                                                                                                                                                                                                                                                                                                                                                                                                                                                                                                                                                                                                                                                                                                                                                                                                                                                                                                                                                                                                                                                                                                                                                             text  \\\n",
       "0                                                                                                                                                                                                                                                                                                                                                                                                                                                                                                                                                                                                                                                                                                                                                                                                                                                                                                                                                                                                                                                                                                                                                                                                                                                                                                                                                                                                                                                                                                                                                                                                                                                                                                                                                                                                                                                                                                                                                                                                                                                                                                                                                                                                                       Re: Do You Empower or Influence? <p>Micheal Wu,</p><p> </p><p>My issue revolves around how both empowerment and influence are being used at the corporate level. And you pointed this out in the good and bad portion of your article. I am a communication graduate but not a (Ph.d). I believe empowerment and influence are being abused more and more at the corporate level. Copywrite from a legal perspective is at the time of inception and communication of that idea validates your right to be protected. The problem is where the key influence and empowerment is derived from and how it effects the privacy of that user.  Was the information obtained legally from the originator of the idea or was it mutated with the general intent of the messages and disseminated to the internet? In the internet my concern is the growing enterprise of collecting and using information without a real depth of understanding of sources. It is like a newspaper not being able to accurately know all it's sources. I believe that corporations and users need to be more transparent in their collection and use of information. I would also like to better understand ways of protecting myself and my business. Perhaps you could direct me to some resources.</p><p> </p><p>Brian</p><p><a rel=\"nofollow\" target=\"_blank\" href=\"http://www.synergychat.com\">www.synergychat.com</a></p><p> </p> -1 nan   \n",
       "1                                                                                                                                                                                                                                                                                                                                                                                                                                                                                                                                                                                                                                                                                                                                                                                                                                                                                                                                                                                                                                                                                                                                                                                                                                                                                                                                                                                                                                                                                                                                                                                                                                                                                                                                                                                                                                                                                                                                                                                                                                                                                                                                                                                                                                                                                                                                                                                                                                                                                                                                                                                                                                                                                                                                                                                                                                                                                                                                                                                                                                                                                                                                                                                                                                                                                                                                                                                                                                                                                                  Re: iPhone bug prevents posting to Lithium communities - please fix! Same here - updated to 4.2 and still see the bug. 209 Honored Contributor   \n",
       "2                                                                                                                                                                                                                                                                                                                                                                                                                                                                                                                                                                                                                                                                                                                                                                                                                                                                                                                                                                                                                                                                                                                                                                                                                                                                                                                                                                                                                                                                                                                                                                                                                                                                                                                                                                                                                                                                                                                                              Congrats to the Top Kudo'd Authors in September <p><img src=\"http://lithosphere.lithium.com/t5/image/serverpage/image-id/1256i5210ECEF6EC5686A/image-size/original?v=mpbl-1&amp;px=-1\" border=\"0\" alt=\"kudosSept10.png\" title=\"kudosSept10.png\" align=\"left\" />September blazed by at lightening speed... as did the first few days of October apparently. Congratulations to our top kudo'd authors in the Lithosphere for last month.</p>\\n<p>&nbsp;</p>\\n<p>The VIP council again takes the top spots, that's why they are in our MVP group, so thanks to:</p>\\n<p>&nbsp;</p>\\n<ol>\\n<li><a href=\"http://lithosphere.lithium.com/t5/user/viewprofilepage/user-id/119\" target=\"_self\" rel=\"nofollow\">Mark_Hopkins</a></li>\\n<li><a href=\"http://lithosphere.lithium.com/t5/user/viewprofilepage/user-id/248\" target=\"_self\" rel=\"nofollow\">Jason</a></li>\\n<li><a href=\"http://lithosphere.lithium.com/t5/user/viewprofilepage/user-id/50\" target=\"_self\" rel=\"nofollow\">Laura</a></li>\\n</ol>\\n<div>For all their great contributions to ideas, blogs, tkb and the forums. We couldn't run this without the efforts of people like you. Our own '<a href=\"http://lithosphere.lithium.com/t5/user/viewprofilepage/user-id/102\" target=\"_self\" rel=\"nofollow\">SusanM</a>' was propping up 4th spot for all the great work she has been doing documenting our new features and betas in the customer blog.</div>\\n<div>New on the list in 5th this month is '<a href=\"http://lithosphere.lithium.com/t5/user/viewprofilepage/user-id/2828\" target=\"_self\" rel=\"nofollow\">prisaz</a>' - welcome to the leaderboard!!</div>\\n<div>Thanks everyone.</div>\\n<p>&nbsp;</p> 771 Lithium Alumni (Retired)   \n",
       "3                                                                                                                                                                                                                                                                                                                                                                                                                                                                                                                                                                                                                                                                                                                                                                                                                                                                                                                                                                                                                                                                                                                                                                                                                                                                                                                                                                                                                                                                                                                                                                                                                                                                                                                                                                                                                                                                                                                                                                                                                                                                                                                                                                                                                                                                                                                                                                                                                                                                                                                                                                                                                                                                                                                                                                                                                                                                                                                                                                                                                                                                                                                                                                                                User Guidelines <p>Thanks for joining the Lithosphere. Our usage guidelines are here to ensure that we have a fair and pleasant environment for everyone to participate in. I'd encourage you to read through.</p>\\n<p>&nbsp;</p>\\n<p>&nbsp;</p>\\n<ul>\\n<li><a href=\"/t5/About-our-community/Lithium-Community-Guidelines/ta-p/134781\" target=\"_self\" rel=\"nofollow\">User Guidelines</a></li>\\n</ul>\\n<p>&nbsp;</p> 771 Lithium Alumni (Retired)   \n",
       "4                                                                                                                                                                                                                                                                                                                                                                                                                                                                                                                                                                                                                                                                                                                                                                                                                                                                                                                                                                                                                                                                                                                                                                                                                                                                                                                                                                                                                                                                                                                                                                                                                                                                                                                                                                                                                                                                                                                                                                                                                                                                                                                                                                                                                                                                                                                                                                                                                                                                                                                                                                                                                                                                                                                                                                                                                                                                                                                                                                                                                                                                                                                                                                                                                                                                                                                                                                                  Re: Wanna know a Secret? <p>Greg - thanks for your note and thanks for your suggestion. Actually that makes a lot of sense and I'll work on updating that. I think a 'Previous Secret / Next Secret' style nav could be cool.</p> 771 Lithium Alumni (Retired)   \n",
       "...                                                                                                                                                                                                                                                                                                                                                                                                                                                                                                                                                                                                                                                                                                                                                                                                                                                                                                                                                                                                                                                                                                                                                                                                                                                                                                                                                                                                                                                                                                                                                                                                                                                                                                                                                                                                                                                                                                                                                                                                                                                                                                                                                                                                                                                                                                                                                                                                                                                                                                                                                                                                                                                                                                                                                                                                                                                                                                                                                                                                                                                                                                                                                                                                                                                                                                                                                                                                                                                                                                                                                                                                                                           ...   \n",
       "174025                                                                                                                                                                                                                                                                                                                                                                                                                                                                                                                                                                                                                                                                                                                                                                                                                                                                                                                                                                                                                                                                                                                                                                                                                                                                                                                                                                                                                                                                                                                                                                                                                                                                                                                                                                                                                                                                                                                                                                                                       How to provision limited Studio access to developers <p>Is it possible to grant Studio access to a user without handing over all of the \"keys to the kingdom\" at the same time?&nbsp; (i.e., allow them to access Studio and/or push files to Stage via the Lithium SDK without giving them full access to Community Admin as well.)</p><p>Or, better yet, is it possible to give a user limited access to Studio?&nbsp; Here are some examples that come to mind:</p><ul><li>Prevent a user from publishing from Stage to Production</li><li>Grant access for the user to only create/edit/remove custom components but not (for example) endpoints, macros, etc.</li><li>Prevent a user from overriding existing/OOTB components</li></ul><p>We have some developers in our company who need to develop some custom components for a particular page (in this situation the Create Case page in the Case Portal, but potentially others in the future) but we want to follow the <a href=\"https://en.wikipedia.org/wiki/Principle_of_least_privilege\" target=\"_blank\" rel=\"noopener\">principle of least privilege</a> wherever possible.</p><p>In Khoros JX it is easy to <a href=\"https://docs.jivesoftware.com/cloud_int/comm_mgr/jive.help.core/admin/StandardPermLevels.html#standard_space_permission_levels\" target=\"_blank\" rel=\"noopener\">restrict someone's development access</a> (i.e. the ability to create widgets/components and edit a page layout) to a specific space (i.e. node) but I can't seem to find out how this is possible in the Khoros Community platform.</p><p>Thanks!</p> 71282 Trusted Contributor   \n",
       "174026  597994_en-US <lingo-sub id=\"lingo-sub-597994\" slang=\"en-US\">How to provision limited Studio access to developers</lingo-sub><lingo-body id=\"lingo-body-597994\" slang=\"en-US\"><p>Is it possible to grant Studio access to a user without handing over all of the \"keys to the kingdom\" at the same time?&nbsp; (i.e., allow them to access Studio and/or push files to Stage via the Lithium SDK without giving them full access to Community Admin as well.)</p><p>Or, better yet, is it possible to give a user limited access to Studio?&nbsp; Here are some examples that come to mind:</p><ul><li>Prevent a user from publishing from Stage to Production</li><li>Grant access for the user to only create/edit/remove custom components but not (for example) endpoints, macros, etc.</li><li>Prevent a user from overriding existing/OOTB components</li></ul><p>We have some developers in our company who need to develop some custom components for a particular page (in this situation the Create Case page in the Case Portal, but potentially others in the future) but we want to follow the <a href=\"https://en.wikipedia.org/wiki/Principle_of_least_privilege\" target=\"_blank\" rel=\"noopener nofollow noopener noreferrer\">principle of least privilege</a> wherever possible.</p><p>In Khoros JX it is easy to <a href=\"https://docs.jivesoftware.com/cloud_int/comm_mgr/jive.help.core/admin/StandardPermLevels.html#standard_space_permission_levels\" target=\"_blank\" rel=\"noopener nofollow noopener noreferrer\">restrict someone's development access</a> (i.e. the ability to create widgets/components and edit a page layout) to a specific space (i.e. node) but I can't seem to find out how this is possible in the Khoros Community platform.</p><p>Thanks!</p></lingo-body><lingo-sub id=\"lingo-sub-598012\" slang=\"en-US\">Re: How to provision limited Studio access to developers</lingo-sub><lingo-body id=\"lingo-body-598012\" slang=\"en-US\"><p>The Studio permissions don't exist in Prod, only Stage, so it is easy to miss.&nbsp;<img class=\"lia-deferred-image lia-image-emoji\" src=\"https://community.khoros.com/html/emoticons/1f605.png\" alt=\":grinning_face_with_sweat:\" title=\":grinning_face_with_sweat:\" /></p></lingo-body><lingo-sub id=\"lingo-sub-598011\" slang=\"en-US\">Re: How to provision limited Studio access to developers</lingo-sub><lingo-body id=\"lingo-body-598011\" slang=\"en-US\"><p>Oh awesome, thanks&nbsp;-ERR:REF-NOT-FOUND-@lilim!&nbsp; I must be going blind because I swear I didn't see a Studio section for roles.&nbsp; Thanks for the quick response!</p></lingo-body><lingo-sub id=\"lingo-sub-597999\" slang=\"en-US\">Re: How to provision limited Studio access to developers</lingo-sub><lingo-body id=\"lingo-body-597999\" slang=\"en-US\"><p>Hi Jeff,</p><p>In the Admin console for Stage, there are permissions specific to Studio. You can create new roles and assign the permissions that meet your various use cases.</p><p><span class=\"lia-inline-image-display-wrapper lia-image-align-inline\" image-alt=\"Screen Shot 2020-07-13 at 1.53.21 PM.png\" style=\"width: 400px;\"><img src=\"https://community.khoros.com/t5/image/serverpage/image-id/168095i4A8E5FCC376B7573/image-size/medium?v=1.0&amp;px=400\" srcset=\"/t5/image/serverpage/image-id/168095i4A8E5FCC376B7573/image-size/medium?v=1.0&amp;px=400 1.0x,/t5/image/serverpage/image-id/168095i4A8E5FCC376B7573/image-dimensions/638x800?v=1.0 2.0x\" title=\"Screen Shot 2020-07-13 at 1.53.21 PM.png\" alt=\"Screen Shot 2020-07-13 at 1.53.21 PM.png\" /></span></p></lingo-body> 60705 New Commentator   \n",
       "174027                                                                                                                                                                                                                                                                                                                                                                                                                                                                                                                                                                                                                                                                                                                                                                                                                                                                                                                                                                                                                                                                                                                                                                                                                                                                                                                                                                                                                                                                                                                                                                                                                                                                                                                                                                                                                                                                                                                                                                                                                                                                                                                                                                                                                                                                                                                                                                                                                                                                                                                                                                                                                                                                                                                                                                                                                                                                                                                                                                                                                   Analytics Dashboards refreshes every time we login <p>Hi,</p><p>&nbsp;</p><p>This is similar case as&nbsp;00300321 .</p><p>User's \"my dashboard\" widgets goes back to the default widget settings whenever she logs out and login again. Anything that was added manually gets deleted by itself.</p><p>&nbsp;</p><p>I have attached a video related to it.</p><p>&nbsp;</p><p>We did try onto a different browser and even tried on a different PC. No luck.</p><p>&nbsp;</p><p>Please have a look into this case and help us find the solution.</p><p>&nbsp;</p><p>Regards,</p><p>Santosh</p> 83775 Occasional Advisor   \n",
       "174028                                                                                                                                                                                                                                                                                                                                                                                                                                                                                                                                                                                                                                                                                                                                                                                                                                                                                                                                                                                                                                                                                                                                                                                                                                                                                                                                                                                                                                                                                                                                                                                                                                                                                                                                                                                                                                                                                                                                                                                                                                                                                                                                                                                                                                                                                                                                                                                                                                                                                                                                                                                                                                                                                                                                                                                                                                                                                                    [Alteryx] Remove Settings List Editor Options <p>Hi Team,&nbsp;</p><p>Could you please remove the following Settings List Editor options? We no longer user these features. Can you please remove from dev first so we can confirm everything is as expected?&nbsp;</p><p>Thanks!</p><p>Trey</p><p>&nbsp;</p><p><span>alteryx.category_width</span><br /><span>custom.other-resources-header-color</span><br /><span>custom.partner-header-color</span><br /><span>custom.internal-header-color</span><br /><span>custom.node-highlight-keywords</span><br /><span>custom.node-block</span><br /><span>custom.desc-limit</span><br /><span>custom.node-order</span><br /><span>custom.node-color-bg</span></p> 22578 Valued Contributor   \n",
       "174029                                                                                                                                                                                                                                                                                                                                                                                                                                                                                                                                                                                                                                                                                                                                                                                                                                                                                                                                                                                                                                                                                                                                                                                                                                                                                                                                                                                                                                                                                                                                                                                                                                                                                                                                                                                                                                                                                                                                                                                                                                                                                                                                                                                                                                                                                                                                                                                                                                                                                                                                                                                                                                                                                                                                                                                                                                                                                                                                                                                                                                                                                                                                                                    Re: How to provision limited Studio access to developers <p>Hi Jeff,</p><p>In the Admin console for Stage, there are permissions specific to Studio. You can create new roles and assign the permissions that meet your various use cases.</p><p><li-image width=\"400\" height=\"400\" alt=\"Screen Shot 2020-07-13 at 1.53.21 PM.png\" align=\"inline\" id=\"168095i4A8E5FCC376B7573\" size=\"medium\" resized=\"false\" sourcetype=\"new\"></li-image></p> 47123 Honored Contributor   \n",
       "\n",
       "        spam  \n",
       "0        0.0  \n",
       "1        0.0  \n",
       "2        0.0  \n",
       "3        0.0  \n",
       "4        0.0  \n",
       "...      ...  \n",
       "174025   0.0  \n",
       "174026   0.0  \n",
       "174027   0.0  \n",
       "174028   0.0  \n",
       "174029   0.0  \n",
       "\n",
       "[174030 rows x 2 columns]"
      ]
     },
     "execution_count": 10,
     "metadata": {},
     "output_type": "execute_result"
    }
   ],
   "source": [
    "lithodf"
   ]
  },
  {
   "cell_type": "markdown",
   "metadata": {},
   "source": [
    "## Get sample from litho and open source"
   ]
  },
  {
   "cell_type": "code",
   "execution_count": 12,
   "metadata": {},
   "outputs": [],
   "source": [
    "spam=pd.DataFrame(lithodf.groupby('spam').get_group(1.0))\n",
    "ham=pd.DataFrame(lithodf.groupby('spam').get_group(0.0)).sample(n=30000, random_state=0)"
   ]
  },
  {
   "cell_type": "code",
   "execution_count": 13,
   "metadata": {},
   "outputs": [
    {
     "data": {
      "text/plain": [
       "(745, 2)"
      ]
     },
     "execution_count": 13,
     "metadata": {},
     "output_type": "execute_result"
    }
   ],
   "source": [
    "spam.shape"
   ]
  },
  {
   "cell_type": "code",
   "execution_count": 14,
   "metadata": {},
   "outputs": [
    {
     "data": {
      "text/plain": [
       "(30000, 2)"
      ]
     },
     "execution_count": 14,
     "metadata": {},
     "output_type": "execute_result"
    }
   ],
   "source": [
    "ham.shape"
   ]
  },
  {
   "cell_type": "code",
   "execution_count": 72,
   "metadata": {},
   "outputs": [],
   "source": [
    "finalset=pd.concat([spam, ham, sampledata], ignore_index=True)"
   ]
  },
  {
   "cell_type": "code",
   "execution_count": 73,
   "metadata": {},
   "outputs": [
    {
     "data": {
      "text/plain": [
       "(60769, 2)"
      ]
     },
     "execution_count": 73,
     "metadata": {},
     "output_type": "execute_result"
    }
   ],
   "source": [
    "finalset.shape"
   ]
  },
  {
   "cell_type": "code",
   "execution_count": 74,
   "metadata": {},
   "outputs": [
    {
     "data": {
      "text/plain": [
       "0.0    52585\n",
       "1.0     8184\n",
       "Name: spam, dtype: int64"
      ]
     },
     "execution_count": 74,
     "metadata": {},
     "output_type": "execute_result"
    }
   ],
   "source": [
    "finalset['spam'].value_counts()"
   ]
  },
  {
   "cell_type": "code",
   "execution_count": 75,
   "metadata": {},
   "outputs": [
    {
     "data": {
      "text/html": [
       "<div>\n",
       "<style scoped>\n",
       "    .dataframe tbody tr th:only-of-type {\n",
       "        vertical-align: middle;\n",
       "    }\n",
       "\n",
       "    .dataframe tbody tr th {\n",
       "        vertical-align: top;\n",
       "    }\n",
       "\n",
       "    .dataframe thead th {\n",
       "        text-align: right;\n",
       "    }\n",
       "</style>\n",
       "<table border=\"1\" class=\"dataframe\">\n",
       "  <thead>\n",
       "    <tr style=\"text-align: right;\">\n",
       "      <th></th>\n",
       "      <th>text</th>\n",
       "      <th>spam</th>\n",
       "    </tr>\n",
       "  </thead>\n",
       "  <tbody>\n",
       "    <tr>\n",
       "      <th>0</th>\n",
       "      <td>New Light CBD &lt;p&gt;&lt;br /&gt;&lt;br /&gt;&lt;a href=\"https://www.supplementmegamart.com/new-light-cbd/\" target=\"_self\"&gt;New Light CBD&lt;/a&gt;. The BCAA supplement enhanced the muscle growth response slightly compared to a placebo, however the muscle's response was more than double when a whey protein supplement containing the equivalent amount of BCAA that included the other amino acids, was taken.|In this Muscle Building Summit Masters of Motivation highlight, Dai covers practical applications such as the importance of hormone profiling, as well as the inner issues that brought him face to face with the biggest challenges, in and out of the gym, at various stages of his life, the WHY aspect.&lt;br /&gt;&lt;a href=\"https://www.supplementmegamart.com/new-light-cbd/\" target=\"_self\"&gt;https://www.supplementmegamart.com/new-light-cbd/&lt;/a&gt;&lt;/p&gt; 75773 New Commentator</td>\n",
       "      <td>1.0</td>\n",
       "    </tr>\n",
       "    <tr>\n",
       "      <th>1</th>\n",
       "      <td>의정부CAD학원Jr닷ezenac닷co.KR이젠아카데미ん의정부내일배움카드학원 의정부고용지원센터 &lt;p&gt;의정부CAD학원Jr닷ezenac닷co.KR이젠아카데미ん의정부내일배움카드학원 의정부고용지원센터&lt;/p&gt; 75995 Occasional Contributor</td>\n",
       "      <td>1.0</td>\n",
       "    </tr>\n",
       "    <tr>\n",
       "      <th>2</th>\n",
       "      <td>의정부IT학원 エ이젠아카데미 𝒥𝑅.𝑒𝓏𝐸𝓃𝒜𝒸.𝒞𝑜.𝒦𝓇シ 의정부내일배움카드 의정부엑셀학원 &lt;p&gt;의정부IT학원 エ이젠아카데미 𝒥𝑅.𝑒𝓏𝐸𝓃𝒜𝒸.𝒞𝑜.𝒦𝓇シ 의정부내일배움카드 의정부엑셀학원&lt;/p&gt; 75995 Occasional Contributor</td>\n",
       "      <td>1.0</td>\n",
       "    </tr>\n",
       "    <tr>\n",
       "      <th>3</th>\n",
       "      <td>이젠아카데미ぃJ̳R̳.e̳z̳E̳n̳A̳c̳.C̳o̳.K̳r̳¶의정부전산회계학원🉐의정부국비지원교육센터す의정부시컴퓨터학원 &lt;p&gt;이젠아카데미ぃJ̳R̳.e̳z̳E̳n̳A̳c̳.C̳o̳.K̳r̳¶의정부전산회계학원🉐의정부국비지원교육센터す의정부시컴퓨터학원&lt;/p&gt; 75995 Occasional Contributor</td>\n",
       "      <td>1.0</td>\n",
       "    </tr>\n",
       "    <tr>\n",
       "      <th>4</th>\n",
       "      <td>의정부국비교육¶ＪＲ.ｅｚＥｎＡｃ.Ｃｏ.Ｋｒわ이젠아카데미エ의정부국비지원교육센터ঞ의정부엑셀학원 &lt;p&gt;의정부국비교육¶ＪＲ.ｅｚＥｎＡｃ.Ｃｏ.Ｋｒわ이젠아카데미エ의정부국비지원교육센터ঞ의정부엑셀학원&lt;/p&gt; 75995 Occasional Contributor</td>\n",
       "      <td>1.0</td>\n",
       "    </tr>\n",
       "  </tbody>\n",
       "</table>\n",
       "</div>"
      ],
      "text/plain": [
       "                                                                                                                                                                                                                                                                                                                                                                                                                                                                                                                                                                                                                                                                                                                                                                                                                                                                        text  \\\n",
       "0  New Light CBD <p><br /><br /><a href=\"https://www.supplementmegamart.com/new-light-cbd/\" target=\"_self\">New Light CBD</a>. The BCAA supplement enhanced the muscle growth response slightly compared to a placebo, however the muscle's response was more than double when a whey protein supplement containing the equivalent amount of BCAA that included the other amino acids, was taken.|In this Muscle Building Summit Masters of Motivation highlight, Dai covers practical applications such as the importance of hormone profiling, as well as the inner issues that brought him face to face with the biggest challenges, in and out of the gym, at various stages of his life, the WHY aspect.<br /><a href=\"https://www.supplementmegamart.com/new-light-cbd/\" target=\"_self\">https://www.supplementmegamart.com/new-light-cbd/</a></p> 75773 New Commentator   \n",
       "1                                                                                                                                                                                                                                                                                                                                                                                                                                                                                                                                                                                                                                                                                                                                의정부CAD학원Jr닷ezenac닷co.KR이젠아카데미ん의정부내일배움카드학원 의정부고용지원센터 <p>의정부CAD학원Jr닷ezenac닷co.KR이젠아카데미ん의정부내일배움카드학원 의정부고용지원센터</p> 75995 Occasional Contributor   \n",
       "2                                                                                                                                                                                                                                                                                                                                                                                                                                                                                                                                                                                                                                                                                                                                  의정부IT학원 エ이젠아카데미 𝒥𝑅.𝑒𝓏𝐸𝓃𝒜𝒸.𝒞𝑜.𝒦𝓇シ 의정부내일배움카드 의정부엑셀학원 <p>의정부IT학원 エ이젠아카데미 𝒥𝑅.𝑒𝓏𝐸𝓃𝒜𝒸.𝒞𝑜.𝒦𝓇シ 의정부내일배움카드 의정부엑셀학원</p> 75995 Occasional Contributor   \n",
       "3                                                                                                                                                                                                                                                                                                                                                                                                                                                                                                                                                                                                                                                                                                  이젠아카데미ぃJ̳R̳.e̳z̳E̳n̳A̳c̳.C̳o̳.K̳r̳¶의정부전산회계학원🉐의정부국비지원교육센터す의정부시컴퓨터학원 <p>이젠아카데미ぃJ̳R̳.e̳z̳E̳n̳A̳c̳.C̳o̳.K̳r̳¶의정부전산회계학원🉐의정부국비지원교육센터す의정부시컴퓨터학원</p> 75995 Occasional Contributor   \n",
       "4                                                                                                                                                                                                                                                                                                                                                                                                                                                                                                                                                                                                                                                                                                                                  의정부국비교육¶ＪＲ.ｅｚＥｎＡｃ.Ｃｏ.Ｋｒわ이젠아카데미エ의정부국비지원교육센터ঞ의정부엑셀학원 <p>의정부국비교육¶ＪＲ.ｅｚＥｎＡｃ.Ｃｏ.Ｋｒわ이젠아카데미エ의정부국비지원교육센터ঞ의정부엑셀학원</p> 75995 Occasional Contributor   \n",
       "\n",
       "   spam  \n",
       "0   1.0  \n",
       "1   1.0  \n",
       "2   1.0  \n",
       "3   1.0  \n",
       "4   1.0  "
      ]
     },
     "execution_count": 75,
     "metadata": {},
     "output_type": "execute_result"
    }
   ],
   "source": [
    "finalset.head()"
   ]
  },
  {
   "cell_type": "markdown",
   "metadata": {},
   "source": [
    "## Preprocessing of data"
   ]
  },
  {
   "cell_type": "code",
   "execution_count": 76,
   "metadata": {},
   "outputs": [],
   "source": [
    "from nltk.corpus import stopwords\n",
    "from bs4 import BeautifulSoup\n",
    "from nltk.corpus import wordnet\n",
    "from nltk.stem import WordNetLemmatizer\n",
    "from nltk.tokenize import word_tokenize\n",
    "from string import punctuation\n",
    "from nltk.stem import SnowballStemmer\n",
    "import re\n",
    "import nltk\n",
    "\n",
    "\n",
    "lemmatizer = WordNetLemmatizer()\n",
    "wordnet_map = {\"N\":wordnet.NOUN, \"V\":wordnet.VERB, \"J\":wordnet.ADJ, \"R\":wordnet.ADV}\n",
    "STOPWORDS = set(stopwords.words('english'))\n",
    "snowball_stemmer = SnowballStemmer('english')"
   ]
  },
  {
   "cell_type": "code",
   "execution_count": 77,
   "metadata": {},
   "outputs": [],
   "source": [
    "def tokenization(text):\n",
    "    tokens = word_tokenize(text)"
   ]
  },
  {
   "cell_type": "code",
   "execution_count": 78,
   "metadata": {},
   "outputs": [],
   "source": [
    "def toLower(text):\n",
    "    return [sentence.lower() for sentence in text]"
   ]
  },
  {
   "cell_type": "code",
   "execution_count": 79,
   "metadata": {},
   "outputs": [],
   "source": [
    "from bs4 import BeautifulSoup\n",
    "def remove_html(htmlTxt):\n",
    "    return [\" \".join(BeautifulSoup(sentence).findAll(text=True)) for sentence in htmlTxt ]"
   ]
  },
  {
   "cell_type": "code",
   "execution_count": 80,
   "metadata": {},
   "outputs": [],
   "source": [
    "def remove_urls(text):\n",
    "    url_pattern = re.compile(r'https?://\\S+|www\\.\\S+')        \n",
    "    return [url_pattern.sub(r'', word) for word in text ]"
   ]
  },
  {
   "cell_type": "code",
   "execution_count": 81,
   "metadata": {},
   "outputs": [],
   "source": [
    "def remove_stopwords(text):\n",
    "    fullList=[]\n",
    "    for sentence in text:\n",
    "        sentence = \" \".join([word for word in str(sentence).split() if word not in STOPWORDS])\n",
    "        fullList.append(sentence)\n",
    "    return fullList"
   ]
  },
  {
   "cell_type": "code",
   "execution_count": 82,
   "metadata": {},
   "outputs": [],
   "source": [
    "def remove_specialChar(text):\n",
    "    return [sentence.replace(punctuation,' ') for sentence in text ]"
   ]
  },
  {
   "cell_type": "code",
   "execution_count": 83,
   "metadata": {},
   "outputs": [],
   "source": [
    "def lemmatize_words(text):\n",
    "    fullList=[]\n",
    "    for sentence in text:\n",
    "        pos_tagged_text = nltk.pos_tag(sentence.split())\n",
    "        sentence = \" \".join([lemmatizer.lemmatize(word, wordnet_map.get(pos[0], wordnet.NOUN)) for word, pos in pos_tagged_text])\n",
    "        fullList.append(sentence)\n",
    "    return fullList"
   ]
  },
  {
   "cell_type": "code",
   "execution_count": 84,
   "metadata": {},
   "outputs": [],
   "source": [
    "def strip_digits(text):\n",
    "    fullList=[]\n",
    "    for sentence in text:\n",
    "        sentence = \" \".join([word for word in str(sentence).split() if not word.isdigit()])\n",
    "        fullList.append(sentence)\n",
    "    return fullList"
   ]
  },
  {
   "cell_type": "code",
   "execution_count": 85,
   "metadata": {},
   "outputs": [
    {
     "data": {
      "text/plain": [
       "'!\"#$%&\\'()*+,-./:;<=>?@[\\\\]^_`{|}~'"
      ]
     },
     "execution_count": 85,
     "metadata": {},
     "output_type": "execute_result"
    }
   ],
   "source": [
    "punctuation"
   ]
  },
  {
   "cell_type": "code",
   "execution_count": 86,
   "metadata": {},
   "outputs": [],
   "source": [
    "def strip_punctuation(text):\n",
    "    fullList=[]\n",
    "    for sentence in text:\n",
    "        sentence = \" \".join([word for word in str(sentence).split() if word not in punctuation])\n",
    "        fullList.append(sentence)\n",
    "    return fullList"
   ]
  },
  {
   "cell_type": "code",
   "execution_count": 87,
   "metadata": {},
   "outputs": [],
   "source": [
    "def preprocessingText(textSet):\n",
    "    textSet['text']=toLower(textSet['text'])\n",
    "    textSet['text']=remove_urls(textSet['text'])\n",
    "    textSet['text']=remove_html(textSet['text'])\n",
    "    textSet['text']=remove_stopwords(textSet['text'])\n",
    "#     textSet['text']=lemmatize_words(textSet['text'])\n",
    "    textSet['text']=strip_digits(textSet['text'])\n",
    "    textSet['text']=strip_punctuation(textSet['text'])\n",
    "    textSet = textSet.dropna()\n",
    "    return textSet"
   ]
  },
  {
   "cell_type": "code",
   "execution_count": 88,
   "metadata": {},
   "outputs": [],
   "source": [
    "finalset=preprocessingText(finalset)"
   ]
  },
  {
   "cell_type": "code",
   "execution_count": 89,
   "metadata": {},
   "outputs": [
    {
     "data": {
      "text/html": [
       "<div>\n",
       "<style scoped>\n",
       "    .dataframe tbody tr th:only-of-type {\n",
       "        vertical-align: middle;\n",
       "    }\n",
       "\n",
       "    .dataframe tbody tr th {\n",
       "        vertical-align: top;\n",
       "    }\n",
       "\n",
       "    .dataframe thead th {\n",
       "        text-align: right;\n",
       "    }\n",
       "</style>\n",
       "<table border=\"1\" class=\"dataframe\">\n",
       "  <thead>\n",
       "    <tr style=\"text-align: right;\">\n",
       "      <th></th>\n",
       "      <th>text</th>\n",
       "      <th>spam</th>\n",
       "    </tr>\n",
       "  </thead>\n",
       "  <tbody>\n",
       "    <tr>\n",
       "      <th>0</th>\n",
       "      <td>new light cbd new light cbd bcaa supplement enhanced muscle growth response slightly compared placebo, however muscle's response double whey protein supplement containing equivalent amount bcaa included amino acids, taken.|in muscle building summit masters motivation highlight, dai covers practical applications importance hormone profiling, well inner issues brought face face biggest challenges, gym, various stages life, aspect. new commentator</td>\n",
       "      <td>1.0</td>\n",
       "    </tr>\n",
       "    <tr>\n",
       "      <th>1</th>\n",
       "      <td>의정부cad학원jr닷ezenac닷co.kr이젠아카데미ん의정부내일배움카드학원 의정부고용지원센터 의정부cad학원jr닷ezenac닷co.kr이젠아카데미ん의정부내일배움카드학원 의정부고용지원센터 occasional contributor</td>\n",
       "      <td>1.0</td>\n",
       "    </tr>\n",
       "    <tr>\n",
       "      <th>2</th>\n",
       "      <td>의정부it학원 エ이젠아카데미 𝒥𝑅.𝑒𝓏𝐸𝓃𝒜𝒸.𝒞𝑜.𝒦𝓇シ 의정부내일배움카드 의정부엑셀학원 의정부it학원 エ이젠아카데미 𝒥𝑅.𝑒𝓏𝐸𝓃𝒜𝒸.𝒞𝑜.𝒦𝓇シ 의정부내일배움카드 의정부엑셀학원 occasional contributor</td>\n",
       "      <td>1.0</td>\n",
       "    </tr>\n",
       "    <tr>\n",
       "      <th>3</th>\n",
       "      <td>이젠아카데미ぃj̳r̳.e̳z̳e̳n̳a̳c̳.c̳o̳.k̳r̳¶의정부전산회계학원🉐의정부국비지원교육센터す의정부시컴퓨터학원 이젠아카데미ぃj̳r̳.e̳z̳e̳n̳a̳c̳.c̳o̳.k̳r̳¶의정부전산회계학원🉐의정부국비지원교육센터す의정부시컴퓨터학원 occasional contributor</td>\n",
       "      <td>1.0</td>\n",
       "    </tr>\n",
       "    <tr>\n",
       "      <th>4</th>\n",
       "      <td>의정부국비교육¶ｊｒ.ｅｚｅｎａｃ.ｃｏ.ｋｒわ이젠아카데미エ의정부국비지원교육센터ঞ의정부엑셀학원 의정부국비교육¶ｊｒ.ｅｚｅｎａｃ.ｃｏ.ｋｒわ이젠아카데미エ의정부국비지원교육센터ঞ의정부엑셀학원 occasional contributor</td>\n",
       "      <td>1.0</td>\n",
       "    </tr>\n",
       "  </tbody>\n",
       "</table>\n",
       "</div>"
      ],
      "text/plain": [
       "                                                                                                                                                                                                                                                                                                                                                                                                                                                               text  \\\n",
       "0  new light cbd new light cbd bcaa supplement enhanced muscle growth response slightly compared placebo, however muscle's response double whey protein supplement containing equivalent amount bcaa included amino acids, taken.|in muscle building summit masters motivation highlight, dai covers practical applications importance hormone profiling, well inner issues brought face face biggest challenges, gym, various stages life, aspect. new commentator   \n",
       "1                                                                                                                                                                                                                                                                                                                                    의정부cad학원jr닷ezenac닷co.kr이젠아카데미ん의정부내일배움카드학원 의정부고용지원센터 의정부cad학원jr닷ezenac닷co.kr이젠아카데미ん의정부내일배움카드학원 의정부고용지원센터 occasional contributor   \n",
       "2                                                                                                                                                                                                                                                                                                                                      의정부it학원 エ이젠아카데미 𝒥𝑅.𝑒𝓏𝐸𝓃𝒜𝒸.𝒞𝑜.𝒦𝓇シ 의정부내일배움카드 의정부엑셀학원 의정부it학원 エ이젠아카데미 𝒥𝑅.𝑒𝓏𝐸𝓃𝒜𝒸.𝒞𝑜.𝒦𝓇シ 의정부내일배움카드 의정부엑셀학원 occasional contributor   \n",
       "3                                                                                                                                                                                                                                                                                                      이젠아카데미ぃj̳r̳.e̳z̳e̳n̳a̳c̳.c̳o̳.k̳r̳¶의정부전산회계학원🉐의정부국비지원교육센터す의정부시컴퓨터학원 이젠아카데미ぃj̳r̳.e̳z̳e̳n̳a̳c̳.c̳o̳.k̳r̳¶의정부전산회계학원🉐의정부국비지원교육센터す의정부시컴퓨터학원 occasional contributor   \n",
       "4                                                                                                                                                                                                                                                                                                                                      의정부국비교육¶ｊｒ.ｅｚｅｎａｃ.ｃｏ.ｋｒわ이젠아카데미エ의정부국비지원교육센터ঞ의정부엑셀학원 의정부국비교육¶ｊｒ.ｅｚｅｎａｃ.ｃｏ.ｋｒわ이젠아카데미エ의정부국비지원교육센터ঞ의정부엑셀학원 occasional contributor   \n",
       "\n",
       "   spam  \n",
       "0   1.0  \n",
       "1   1.0  \n",
       "2   1.0  \n",
       "3   1.0  \n",
       "4   1.0  "
      ]
     },
     "execution_count": 89,
     "metadata": {},
     "output_type": "execute_result"
    }
   ],
   "source": [
    "finalset.head()"
   ]
  },
  {
   "cell_type": "code",
   "execution_count": 90,
   "metadata": {},
   "outputs": [],
   "source": [
    "backup=finalset.copy()"
   ]
  },
  {
   "cell_type": "markdown",
   "metadata": {},
   "source": [
    "## Plot data analysis"
   ]
  },
  {
   "cell_type": "code",
   "execution_count": 35,
   "metadata": {},
   "outputs": [
    {
     "data": {
      "text/plain": [
       "count     60769.000000\n",
       "mean       1857.382810\n",
       "std        4005.008571\n",
       "min           0.000000\n",
       "25%         250.000000\n",
       "50%         769.000000\n",
       "75%        2032.000000\n",
       "max      224727.000000\n",
       "Name: length, dtype: float64"
      ]
     },
     "execution_count": 35,
     "metadata": {},
     "output_type": "execute_result"
    }
   ],
   "source": [
    "finalset['length'] = finalset['text'].apply(len)\n",
    "finalset[\"length\"].describe()"
   ]
  },
  {
   "cell_type": "code",
   "execution_count": 36,
   "metadata": {},
   "outputs": [
    {
     "data": {
      "image/png": "[encoded data removed]",
      "text/plain": [
       "<Figure size 1440x432 with 2 Axes>"
      ]
     },
     "metadata": {
      "needs_background": "light"
     },
     "output_type": "display_data"
    }
   ],
   "source": [
    "f, ax = plt.subplots(1, 2, figsize = (20, 6))\n",
    "\n",
    "sn.distplot(pd.DataFrame(finalset.groupby('spam').get_group(1.0))[\"length\"], bins = 20, ax = ax[0])\n",
    "ax[0].set_xlabel(\"Spam Message Word Length\")\n",
    "\n",
    "sn.distplot(pd.DataFrame(finalset.groupby('spam').get_group(0.0))[\"length\"], bins = 20, ax = ax[1])\n",
    "ax[0].set_xlabel(\"Ham Message Word Length\")\n",
    "\n",
    "plt.show()"
   ]
  },
  {
   "cell_type": "markdown",
   "metadata": {},
   "source": [
    "## Vectorization"
   ]
  },
  {
   "cell_type": "code",
   "execution_count": 34,
   "metadata": {},
   "outputs": [],
   "source": [
    "#drop nan rows"
   ]
  },
  {
   "cell_type": "code",
   "execution_count": 35,
   "metadata": {},
   "outputs": [],
   "source": [
    "# (*, input='content', encoding='utf-8', decode_error='strict', strip_accents=None, lowercase=True, preprocessor=None, tokenizer=None, analyzer='word', stop_words=None, token_pattern='(?u)\\b\\w\\w+\\b', ngram_range=(1, 1), max_df=1.0, min_df=1, max_features=None, vocabulary=None, binary=False, dtype=<class 'numpy.float64'>, norm='l2', use_idf=True, smooth_idf=True, sublinear_tf=False\n",
    "# vec = TfidfVectorizer(max_df=0.85,ngram_range=(1,3),stop_words=stopwords,max_features=1000000)\n",
    "# featuresTfidf = vec.fit_transform(finalset['text'])\n",
    "# print(featuresTfidf.shape)"
   ]
  },
  {
   "cell_type": "code",
   "execution_count": 38,
   "metadata": {},
   "outputs": [
    {
     "name": "stdout",
     "output_type": "stream",
     "text": [
      "(60769, 11810266)\n"
     ]
    }
   ],
   "source": [
    "vecTfidf = TfidfVectorizer(min_df=0.0,max_df=0.85,ngram_range=(1,3))\n",
    "featuresTfidf = vecTfidf.fit_transform(finalset['text'])\n",
    "print(featuresTfidf.shape)"
   ]
  },
  {
   "cell_type": "code",
   "execution_count": 38,
   "metadata": {},
   "outputs": [],
   "source": [
    "#*, input='content', encoding='utf-8', decode_error='strict', strip_accents=None, lowercase=True, preprocessor=None, tokenizer=None, stop_words=None, token_pattern='(?u)\\b\\w\\w+\\b', ngram_range=(1, 1), analyzer='word', max_df=1.0, min_df=1, max_features=None, vocabulary=None, binary=False, dtype=<class 'numpy.int64'>)[source]\n",
    "# vecCount = CountVectorizer(max_df=0.85,ngram_range=(2,2),stop_words=stopwords,max_features=50000)\n",
    "# featuresCount = vecCount.fit_transform(finalset['text'])\n",
    "# print(featuresCount.shape)"
   ]
  },
  {
   "cell_type": "code",
   "execution_count": 91,
   "metadata": {},
   "outputs": [
    {
     "name": "stdout",
     "output_type": "stream",
     "text": [
      "(60769, 11542442)\n"
     ]
    }
   ],
   "source": [
    "vecCount = CountVectorizer(min_df=0.0,max_df=0.85,ngram_range=(1,3))\n",
    "featuresCount = vecCount.fit_transform(finalset['text'])\n",
    "print(featuresCount.shape)"
   ]
  },
  {
   "cell_type": "markdown",
   "metadata": {},
   "source": [
    "## Training and testing set"
   ]
  },
  {
   "cell_type": "code",
   "execution_count": 92,
   "metadata": {},
   "outputs": [],
   "source": [
    "y = finalset['spam']"
   ]
  },
  {
   "cell_type": "code",
   "execution_count": 93,
   "metadata": {},
   "outputs": [],
   "source": [
    "x_trainset, x_testset, y_trainset, y_testset = train_test_split(featuresCount,y,stratify=y, test_size=0.3, random_state=0)"
   ]
  },
  {
   "cell_type": "markdown",
   "metadata": {},
   "source": [
    "Save test set into csv file"
   ]
  },
  {
   "cell_type": "code",
   "execution_count": 77,
   "metadata": {},
   "outputs": [],
   "source": [
    "train=pd.DataFrame(x_trainset1)\n",
    "train['spam']=y_trainset1\n",
    "test=pd.DataFrame(x_testset1)\n",
    "test['spam']=y_testset1\n",
    "train.to_csv(DATA_PATH + \"lithoTrainingData.csv\", index = False, header=True)\n",
    "test.to_csv(DATA_PATH + \"lithoTestData.csv\", index = False, header=True)\n",
    "# lithotest = pd.read_csv(DATA_PATH + \"lithoTestData.csv\")\n",
    "# lithotest.head()\n",
    "# lithoTrainingData = pd.read_csv(DATA_PATH + \"lithoTrainingData.csv\")\n",
    "# lithoTrainingData.head()"
   ]
  },
  {
   "cell_type": "code",
   "execution_count": 119,
   "metadata": {},
   "outputs": [
    {
     "data": {
      "text/plain": [
       "(42538, 11542442)"
      ]
     },
     "execution_count": 119,
     "metadata": {},
     "output_type": "execute_result"
    }
   ],
   "source": [
    "x_trainset.shape"
   ]
  },
  {
   "cell_type": "code",
   "execution_count": 120,
   "metadata": {},
   "outputs": [
    {
     "data": {
      "text/plain": [
       "(18231, 11542442)"
      ]
     },
     "execution_count": 120,
     "metadata": {},
     "output_type": "execute_result"
    }
   ],
   "source": [
    "x_testset.shape"
   ]
  },
  {
   "cell_type": "code",
   "execution_count": 128,
   "metadata": {},
   "outputs": [
    {
     "data": {
      "text/plain": [
       "(5465, 2)"
      ]
     },
     "execution_count": 128,
     "metadata": {},
     "output_type": "execute_result"
    }
   ],
   "source": [
    "col=[\"text\",\"spam\"]\n",
    "finalTest=pd.read_csv(DATA_PATH + \"lithoTestData.csv\")\n",
    "finalTest.shape"
   ]
  },
  {
   "cell_type": "code",
   "execution_count": 127,
   "metadata": {},
   "outputs": [
    {
     "data": {
      "text/plain": [
       "(5465, 2)"
      ]
     },
     "execution_count": 127,
     "metadata": {},
     "output_type": "execute_result"
    }
   ],
   "source": [
    "finalTest = finalTest.dropna()\n",
    "finalTest.to_csv(DATA_PATH + \"lithoTestData.csv\", index = False, header=True)\n",
    "finalTest.shape"
   ]
  },
  {
   "cell_type": "markdown",
   "metadata": {},
   "source": [
    "## Modeling - Cross validation"
   ]
  },
  {
   "cell_type": "code",
   "execution_count": 147,
   "metadata": {},
   "outputs": [],
   "source": [
    "#10K fold data Logistic regression model\n",
    "from sklearn.model_selection import cross_val_predict\n",
    "def crossValidatorFunction(model):\n",
    "    kf = StratifiedKFold(n_splits=10, shuffle = True, random_state=42)\n",
    "    model.fit(x_trainset,y_trainset)\n",
    "    y_model_train_pred = cross_val_predict(model, x_trainset, y_trainset, cv=kf)\n",
    "    print(\"F1 Score train: \",f1_score(y_trainset, y_model_train_pred))\n",
    "    y_model_test_pred = model.predict(x_testset)\n",
    "    print(\"F1 Score test: \",f1_score(y_testset, y_model_test_pred))"
   ]
  },
  {
   "cell_type": "markdown",
   "metadata": {},
   "source": [
    "## DecisionTree"
   ]
  },
  {
   "cell_type": "code",
   "execution_count": 163,
   "metadata": {},
   "outputs": [
    {
     "name": "stdout",
     "output_type": "stream",
     "text": [
      "DecisionTree F1 Score train:  0.819842437884166\n",
      "DecisionTree F1 Score test:  0.8295247724974723\n"
     ]
    }
   ],
   "source": [
    "kf = StratifiedKFold(n_splits=10, shuffle = True, random_state=42)\n",
    "dtc = DecisionTreeClassifier(random_state=42, max_features='sqrt')\n",
    "dtc.fit(x_trainset,y_trainset)\n",
    "y_dtc_train_pred = cross_val_predict(dtc, x_trainset, y_trainset, cv=kf)\n",
    "print(\"DecisionTree F1 Score train: \",f1_score(y_trainset, y_dtc_train_pred))\n",
    "\n",
    "y_dtc_test_pred = dtc.predict(x_testset)\n",
    "print(\"DecisionTree F1 Score test: \",f1_score(y_testset, y_dtc_test_pred))\n",
    "pickle.dump(dtc,open('decisionTree_new.pkl','wb'))"
   ]
  },
  {
   "cell_type": "markdown",
   "metadata": {},
   "source": [
    "## Random forest"
   ]
  },
  {
   "cell_type": "code",
   "execution_count": 165,
   "metadata": {},
   "outputs": [
    {
     "name": "stderr",
     "output_type": "stream",
     "text": [
      "[Parallel(n_jobs=-1)]: Using backend ThreadingBackend with 16 concurrent workers.\n",
      "[Parallel(n_jobs=-1)]: Done  18 tasks      | elapsed:  7.8min\n",
      "[Parallel(n_jobs=-1)]: Done 100 out of 100 | elapsed: 26.3min finished\n",
      "[Parallel(n_jobs=-1)]: Using backend LokyBackend with 16 concurrent workers.\n",
      "[Parallel(n_jobs=-1)]: Done  18 tasks      | elapsed:  6.6min\n",
      "[Parallel(n_jobs=-1)]: Done 100 out of 100 | elapsed: 23.5min finished\n",
      "[Parallel(n_jobs=16)]: Using backend ThreadingBackend with 16 concurrent workers.\n",
      "[Parallel(n_jobs=16)]: Done  18 tasks      | elapsed:    1.6s\n",
      "[Parallel(n_jobs=16)]: Done 100 out of 100 | elapsed:    4.1s finished\n",
      "[Parallel(n_jobs=-1)]: Using backend LokyBackend with 16 concurrent workers.\n",
      "[Parallel(n_jobs=-1)]: Done  18 tasks      | elapsed:  6.8min\n",
      "[Parallel(n_jobs=-1)]: Done 100 out of 100 | elapsed: 22.7min finished\n",
      "[Parallel(n_jobs=16)]: Using backend ThreadingBackend with 16 concurrent workers.\n",
      "[Parallel(n_jobs=16)]: Done  18 tasks      | elapsed:    2.0s\n",
      "[Parallel(n_jobs=16)]: Done 100 out of 100 | elapsed:    4.8s finished\n",
      "[Parallel(n_jobs=-1)]: Using backend LokyBackend with 16 concurrent workers.\n",
      "[Parallel(n_jobs=-1)]: Done  18 tasks      | elapsed:  7.0min\n",
      "[Parallel(n_jobs=-1)]: Done 100 out of 100 | elapsed: 21.8min finished\n",
      "[Parallel(n_jobs=16)]: Using backend ThreadingBackend with 16 concurrent workers.\n",
      "[Parallel(n_jobs=16)]: Done  18 tasks      | elapsed:    1.1s\n",
      "[Parallel(n_jobs=16)]: Done 100 out of 100 | elapsed:    3.9s finished\n",
      "[Parallel(n_jobs=-1)]: Using backend LokyBackend with 16 concurrent workers.\n",
      "[Parallel(n_jobs=-1)]: Done  18 tasks      | elapsed:  6.8min\n",
      "[Parallel(n_jobs=-1)]: Done 100 out of 100 | elapsed: 21.2min finished\n",
      "[Parallel(n_jobs=16)]: Using backend ThreadingBackend with 16 concurrent workers.\n",
      "[Parallel(n_jobs=16)]: Done  18 tasks      | elapsed:    1.2s\n",
      "[Parallel(n_jobs=16)]: Done 100 out of 100 | elapsed:    4.7s finished\n",
      "[Parallel(n_jobs=-1)]: Using backend LokyBackend with 16 concurrent workers.\n",
      "[Parallel(n_jobs=-1)]: Done  18 tasks      | elapsed:  7.0min\n",
      "[Parallel(n_jobs=-1)]: Done 100 out of 100 | elapsed: 23.7min finished\n",
      "[Parallel(n_jobs=16)]: Using backend ThreadingBackend with 16 concurrent workers.\n",
      "[Parallel(n_jobs=16)]: Done  18 tasks      | elapsed:    1.6s\n",
      "[Parallel(n_jobs=16)]: Done 100 out of 100 | elapsed:    4.5s finished\n",
      "[Parallel(n_jobs=-1)]: Using backend LokyBackend with 16 concurrent workers.\n",
      "[Parallel(n_jobs=-1)]: Done  18 tasks      | elapsed:  6.8min\n",
      "[Parallel(n_jobs=-1)]: Done 100 out of 100 | elapsed: 21.6min finished\n",
      "[Parallel(n_jobs=16)]: Using backend ThreadingBackend with 16 concurrent workers.\n",
      "[Parallel(n_jobs=16)]: Done  18 tasks      | elapsed:    2.4s\n",
      "[Parallel(n_jobs=16)]: Done 100 out of 100 | elapsed:    5.2s finished\n",
      "[Parallel(n_jobs=-1)]: Using backend LokyBackend with 16 concurrent workers.\n",
      "[Parallel(n_jobs=-1)]: Done  18 tasks      | elapsed:  6.6min\n",
      "[Parallel(n_jobs=-1)]: Done 100 out of 100 | elapsed: 21.1min finished\n",
      "[Parallel(n_jobs=16)]: Using backend ThreadingBackend with 16 concurrent workers.\n",
      "[Parallel(n_jobs=16)]: Done  18 tasks      | elapsed:    1.6s\n",
      "[Parallel(n_jobs=16)]: Done 100 out of 100 | elapsed:    4.5s finished\n",
      "[Parallel(n_jobs=-1)]: Using backend LokyBackend with 16 concurrent workers.\n",
      "[Parallel(n_jobs=-1)]: Done  18 tasks      | elapsed:  5.7min\n",
      "[Parallel(n_jobs=-1)]: Done 100 out of 100 | elapsed: 19.1min finished\n",
      "[Parallel(n_jobs=16)]: Using backend ThreadingBackend with 16 concurrent workers.\n",
      "[Parallel(n_jobs=16)]: Done  18 tasks      | elapsed:    1.7s\n",
      "[Parallel(n_jobs=16)]: Done 100 out of 100 | elapsed:    4.9s finished\n",
      "[Parallel(n_jobs=-1)]: Using backend LokyBackend with 16 concurrent workers.\n",
      "[Parallel(n_jobs=-1)]: Done  18 tasks      | elapsed:  6.4min\n",
      "[Parallel(n_jobs=-1)]: Done 100 out of 100 | elapsed: 19.7min finished\n",
      "[Parallel(n_jobs=16)]: Using backend ThreadingBackend with 16 concurrent workers.\n",
      "[Parallel(n_jobs=16)]: Done  18 tasks      | elapsed:    1.5s\n",
      "[Parallel(n_jobs=16)]: Done 100 out of 100 | elapsed:    4.8s finished\n",
      "[Parallel(n_jobs=-1)]: Using backend LokyBackend with 16 concurrent workers.\n",
      "[Parallel(n_jobs=-1)]: Done  18 tasks      | elapsed:  6.6min\n",
      "[Parallel(n_jobs=-1)]: Done 100 out of 100 | elapsed: 21.2min finished\n",
      "[Parallel(n_jobs=16)]: Using backend ThreadingBackend with 16 concurrent workers.\n",
      "[Parallel(n_jobs=16)]: Done  18 tasks      | elapsed:    1.5s\n",
      "[Parallel(n_jobs=16)]: Done 100 out of 100 | elapsed:    4.4s finished\n"
     ]
    },
    {
     "name": "stdout",
     "output_type": "stream",
     "text": [
      "Random forest F1 Score train:  0.8892221180880975\n"
     ]
    },
    {
     "name": "stderr",
     "output_type": "stream",
     "text": [
      "[Parallel(n_jobs=16)]: Using backend ThreadingBackend with 16 concurrent workers.\n",
      "[Parallel(n_jobs=16)]: Done  18 tasks      | elapsed:    3.2s\n",
      "[Parallel(n_jobs=16)]: Done 100 out of 100 | elapsed:   13.0s finished\n"
     ]
    },
    {
     "name": "stdout",
     "output_type": "stream",
     "text": [
      "Random forest F1 Score test:  0.89295836058426\n"
     ]
    }
   ],
   "source": [
    "#n_estimators=100, *, criterion='gini', max_depth=None, min_samples_split=2, min_samples_leaf=1, min_weight_fraction_leaf=0.0, max_features='auto', max_leaf_nodes=None, min_impurity_decrease=0.0, min_impurity_split=None, bootstrap=True, oob_score=False, n_jobs=None, random_state=None, verbose=0, warm_start=False, class_weight=None, ccp_alpha=0.0, max_samples=None\n",
    "# X, y = make_classification(n_samples=1000, n_features=50000,n_informative=2, n_redundant=0,random_state=0, shuffle=False)\n",
    "rfc = RandomForestClassifier(n_estimators=100, random_state=42, n_jobs=-1, max_features='sqrt', verbose=True)\n",
    "rfc.fit(x_trainset,y_trainset)\n",
    "y_rfc_train_pred = cross_val_predict(rfc, x_trainset, y_trainset, cv=kf)\n",
    "print(\"Random forest F1 Score train: \",f1_score(y_trainset, y_rfc_train_pred))\n",
    "\n",
    "y_rfc_test_pred = rfc.predict(x_testset)\n",
    "print(\"Random forest F1 Score test: \",f1_score(y_testset, y_rfc_test_pred))\n",
    "pickle.dump(rfc,open('randomForest_new.pkl','wb'))"
   ]
  },
  {
   "cell_type": "markdown",
   "metadata": {},
   "source": [
    "## XGboost"
   ]
  },
  {
   "cell_type": "code",
   "execution_count": 166,
   "metadata": {},
   "outputs": [
    {
     "name": "stdout",
     "output_type": "stream",
     "text": [
      "XGBoost F1 Score train:  0.8892221180880975\n",
      "XGBoost F1 Score test:  0.9002624671916011\n"
     ]
    }
   ],
   "source": [
    "xgb1_model=xgb.XGBClassifier(objective=\"binary:logistic\", random_state=42, n_estimators=100, n_jobs=-1)\n",
    "xgb1_model.fit(x_trainset,y_trainset)\n",
    "y_xgb_train_pred = cross_val_predict(xgb1_model, x_trainset, y_trainset, cv=kf)\n",
    "print(\"XGBoost F1 Score train: \",f1_score(y_trainset, y_rfc_train_pred))\n",
    "\n",
    "y_xgb_test_pred = xgb1_model.predict(x_testset)\n",
    "print(\"XGBoost F1 Score test: \",f1_score(y_testset, y_xgb_test_pred))\n",
    "pickle.dump(xgb1_model,open('xgBoost_new.pkl','wb'))"
   ]
  },
  {
   "cell_type": "code",
   "execution_count": 50,
   "metadata": {},
   "outputs": [
    {
     "data": {
      "text/plain": [
       "(18231, 11542442)"
      ]
     },
     "execution_count": 50,
     "metadata": {},
     "output_type": "execute_result"
    }
   ],
   "source": [
    "x_testset.shape"
   ]
  },
  {
   "cell_type": "markdown",
   "metadata": {},
   "source": [
    "## LightGB"
   ]
  },
  {
   "cell_type": "code",
   "execution_count": null,
   "metadata": {},
   "outputs": [],
   "source": [
    "lgb = LGBMClassifier(objective=\"binary\",random_state=42,n_jobs=-1,n_estimators=10,max_features='sqrt', verbose=1)\n",
    "lgb.fit(x_trainset,y_trainset)\n",
    "y_lgb_train_pred = cross_val_predict(lgb, x_trainset, y_trainset, cv=kf)\n",
    "print(\"LightGB F1 Score train: \",f1_score(y_trainset, y_rfc_train_pred))\n",
    "\n",
    "y_lgb_test_pred = lgb.predict(x_testset)\n",
    "print(\"LightGB F1 Score test: \",f1_score(y_testset, y_lgb_test_pred))\n",
    "pickle.dump(lgb,open('LightGB_new.pkl','wb'))"
   ]
  },
  {
   "cell_type": "markdown",
   "metadata": {},
   "source": [
    "## Pickle"
   ]
  },
  {
   "cell_type": "code",
   "execution_count": 34,
   "metadata": {},
   "outputs": [
    {
     "ename": "NameError",
     "evalue": "name 'vecTfidf' is not defined",
     "output_type": "error",
     "traceback": [
      "\u001b[0;31m---------------------------------------------------------------------------\u001b[0m",
      "\u001b[0;31mNameError\u001b[0m                                 Traceback (most recent call last)",
      "\u001b[0;32m<ipython-input-34-9d1bef75795c>\u001b[0m in \u001b[0;36m<module>\u001b[0;34m\u001b[0m\n\u001b[0;32m----> 1\u001b[0;31m \u001b[0mpickle\u001b[0m\u001b[0;34m.\u001b[0m\u001b[0mdump\u001b[0m\u001b[0;34m(\u001b[0m\u001b[0mvecTfidf\u001b[0m\u001b[0;34m,\u001b[0m\u001b[0mopen\u001b[0m\u001b[0;34m(\u001b[0m\u001b[0;34m'vectorizationTfIdf.pkl'\u001b[0m\u001b[0;34m,\u001b[0m\u001b[0;34m'wb'\u001b[0m\u001b[0;34m)\u001b[0m\u001b[0;34m)\u001b[0m\u001b[0;34m\u001b[0m\u001b[0;34m\u001b[0m\u001b[0m\n\u001b[0m\u001b[1;32m      2\u001b[0m \u001b[0mpickle\u001b[0m\u001b[0;34m.\u001b[0m\u001b[0mdump\u001b[0m\u001b[0;34m(\u001b[0m\u001b[0mvecCount\u001b[0m\u001b[0;34m,\u001b[0m\u001b[0mopen\u001b[0m\u001b[0;34m(\u001b[0m\u001b[0;34m'vectorizationCount.pkl'\u001b[0m\u001b[0;34m,\u001b[0m\u001b[0;34m'wb'\u001b[0m\u001b[0;34m)\u001b[0m\u001b[0;34m)\u001b[0m\u001b[0;34m\u001b[0m\u001b[0;34m\u001b[0m\u001b[0m\n",
      "\u001b[0;31mNameError\u001b[0m: name 'vecTfidf' is not defined"
     ]
    }
   ],
   "source": [
    "pickle.dump(vecTfidf,open('vectorizationTfIdf.pkl','wb'))\n",
    "pickle.dump(vecCount,open('vectorizationCount.pkl','wb'))"
   ]
  },
  {
   "cell_type": "code",
   "execution_count": null,
   "metadata": {},
   "outputs": [],
   "source": []
  }
 ],
 "metadata": {
  "kernelspec": {
   "display_name": "Python 3",
   "language": "python",
   "name": "python3"
  },
  "language_info": {
   "codemirror_mode": {
    "name": "ipython",
    "version": 3
   },
   "file_extension": ".py",
   "mimetype": "text/x-python",
   "name": "python",
   "nbconvert_exporter": "python",
   "pygments_lexer": "ipython3",
   "version": "3.7.7"
  }
 },
 "nbformat": 4,
 "nbformat_minor": 4
}
